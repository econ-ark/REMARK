{
 "cells": [
  {
   "cell_type": "markdown",
   "id": "responsible-nevada",
   "metadata": {},
   "source": [
    "# Aiyagari and McGrattan (1998)"
   ]
  },
  {
   "cell_type": "markdown",
   "id": "painful-sense",
   "metadata": {},
   "source": [
    "### NOTE: FOR A MORE COMPLETE VERSION OF THE REPLICATION, PLEASE CHECK THE PDF FILE (WHICH CAN BE REPRODUCED USING THE reproduce.sh FILE) TITLED LiqConstr.pdf CONTAINED IN THE SAME FOLDER AS THIS FILE.\n",
    "\n",
    "This notebook uses the Econ-ARK/HARK toolkit to replicate the results of Aiyagari and McGrattan (1997). I create a new AgentType, McGariConsumerType, that inherits the IndShockConsumerType and a Solver, McGariSolver, that inherits the ConsIndShockSolver. "
   ]
  },
  {
   "cell_type": "markdown",
   "id": "every-monthly",
   "metadata": {},
   "source": [
    "## Summary\n",
    "\n",
    "### What is the welfare maximizing level of public debt\n",
    "* Earlier studies used deterministic representative agent models\n",
    "* Main Results\n",
    "    * Public debt is welfare improving only if taxes are costly\n",
    "    * Optimal level is either indeterminate or set by initial conditions\n",
    "\n",
    "\n",
    "* The tradeoff introduced by public debt\n",
    "    1. Enhances household consumption smoothing (+)\n",
    "    2. Requires costly taxation (-)\n",
    "    3. Crowds out productive capital and increases interest rate (-)"
   ]
  },
  {
   "cell_type": "markdown",
   "id": "generic-history",
   "metadata": {},
   "source": [
    "## Model\n",
    "\n",
    "### Two models based on Aiyagari [1994, 1995]\n",
    "* Individual (stochastic labor productivity risk) without aggregate risks\n",
    "* Perfectly competitive firms utilizing labor and capital\n",
    "* Incomplete market\n",
    "    * Risk free asset\n",
    "    * Borrowing constraint\n",
    "* Precautionary savings \n",
    "\n",
    "### 1. Basic model: Inelastic labor supply and lump-sum taxation\n",
    "\n",
    "Workhorse Aiyagari model updated by: \n",
    "* Government debt\n",
    "* Exogenous and wasteful government consumption\n",
    "* Lump sum taxes (has no inurance and incentive effects)\n",
    "* Exogenous labor supply\n",
    "\n",
    "### 2. Benchmark model:\n",
    "\n",
    "Basic model with the addition of:\n",
    "* Proportional income tax\n",
    "* Endogenous labor supply"
   ]
  },
  {
   "cell_type": "markdown",
   "id": "departmental-climb",
   "metadata": {},
   "source": [
    "## 1. Basic Model\n",
    "\n",
    "### Household problem\n",
    "\n",
    "$\n",
    "\\begin{aligned}\n",
    "&\\max _{c_{t}, a_{t+1}} E\\left[\\sum_{t=0}^{\\infty} \\beta^{t} \\frac{c_{t}^{1-\\nu}}{1-\\nu}\\right]\\\\\n",
    "&\\text { s.t. }\\\\\n",
    "&\\begin{array}{l}\n",
    "c_{t}+a_{t+1} \\leq(1+r) a_{t}+w_{t} e_{t}-T_{t} \\\\\n",
    "c_{t} \\geq 0 ; a_{t} \\geq 0 ; a_{0}, e_{0} \\text { given }\n",
    "\\end{array}\n",
    "\\end{aligned}\n",
    "$\n",
    "\n",
    "### Technology\n",
    "* Stochastic labor productivity, $e_t$, which is normalized by $E(e_t) = 1$\n",
    "* Labor augmenting technological progress $z_t = z(1 + g)^t$\n",
    "* Growth adjustment: $Y_t = F(K_t , z_t N_t )$\n",
    "* Capital depreciates at rate $\\delta$\n",
    "\n",
    "### Government budget \n",
    "\n",
    "$G_{t}+r B_{t}=B_{t+1}-B_{t}+T_{t}$\n",
    "\n",
    "### Asset Market\n",
    "$A_{t}=K_{t}+B_{t} \\quad\\left(A_{t}: \\text { per capita assets }\\right)$\n",
    "\n",
    "* Along the balanced growth path:\n",
    "    * constant r\n",
    "    * $Y, K, T, B, A$ (variables in per capita terms) and $w$ grow at rate g\n",
    "    * lower case / tilde hat letters denote variables that is normalized by output\n",
    "    \n",
    "$\\max _{\\left\\{\\tilde{c}_{t}, \\tilde{a}_{t+1}\\right\\}} \\quad E\\left[Y_{0}^{1-v} \\sum_{t=0}^{\\infty}\\left[\\beta(1+g)^{1-v}\\right]^{t} \\tilde{c}_{t}^{1-v} /(1-v) \\mid \\tilde{a}_{0}, e_{0}\\right]$\n",
    "\n",
    "subject to\n",
    "\n",
    "$\\begin{array}{l}\n",
    "\\tilde{c}_{t}+(1+g) \\tilde{a}_{t+1} \\leq(1+r) \\tilde{a}_{t}+\\tilde{w} e_{t}-\\tau \\\\\n",
    "\\tilde{c}_{t} \\geq 0, \\tilde{a}_{t} \\geq 0, t \\geq 0\n",
    "\\end{array}$\n",
    "\n",
    "$\n",
    "\\\\\n",
    "$\n",
    "\n",
    "$\n",
    "\\begin{align}\n",
    " Y &: per \\ capita \\ output \\\\\n",
    " \\beta &: discount \\ factor \\\\ \n",
    " g &: rate \\ of \\ technical \\ progress \\\\\n",
    " v &: relative \\ risk \\ aversion \\ coefficient \\\\\n",
    " \\tilde{c} &: output \\ normalized \\ per \\ capita \\ consumption \\\\\n",
    " \\tilde{a} &: output \\ normalized \\ per \\ capita \\ asset \\ held \\ by \\ consumers \\\\\n",
    " \\tilde{w} &: output \\ normalized \\ per \\ capita \\ wage \\\\\n",
    " e &: individual \\ labor \\ productivity\n",
    "\\end{align}\n",
    "$\n",
    "\n",
    "### Government budget \n",
    "    $\\gamma+(r-g) b=\\tau \\quad\\left(\\gamma=G_{t} / Y_{t}\\right)$\n",
    "\n",
    "### Asset Market\n",
    "$\\bar{a}=k+b \\quad\\left(\\bar{a}=A_{t} / Y_{t}\\right)$\n",
    "\n",
    "* The competitive equilibrium is a set of\n",
    "    * Household policy function: \n",
    "        * $\\alpha (\\tilde{a} , e)$ (asset accumulation decision rule)\n",
    "    * Factor inputs $L$ and $K$\n",
    "    * Factor prices $w$ and $r$\n",
    "    * Government debt $B$\n",
    "    * Taxes $T$\n",
    "    \n",
    "* Such that:\n",
    "    * The equilibrium distribution of household over the state space $\\lambda (a, e)$ associated with $\\alpha (\\tilde{a} , e)$ and $\\pi (e' | e)$ is stationary\n",
    "    * Given $w$, $r$ and $T$, $\\alpha (\\tilde{a} , e)$ maximizes the houhsehold problem\n",
    "    * Given $w$ and $r$: firms choose $L$ and $K$ \n",
    "    * Households savings supply equals demand by firms and government\n",
    "    * Households labor supply equals demand by firms\n",
    "    * Government budget is satisfied\n",
    "    * Goods market clears"
   ]
  },
  {
   "cell_type": "markdown",
   "id": "hired-bottom",
   "metadata": {},
   "source": [
    "### How interest rate (r) is determined\n",
    "\n",
    "<center><img src=\"./Figures/interest.pdf\" style=\"height:250px\"></center>  \n",
    "\n",
    "Where:\n",
    "* $\\lambda \\equiv \\frac{(1+g)^{\\nu}}{\\beta}-1$ (Complete Market Asset Demand)\n",
    "* Asset demand\n",
    "    * $\\bar{\\alpha}(r; \\gamma, b, g)$ \n",
    "* Asset supply\n",
    "    * $\\kappa(r)+b$ where $k$ is a function of $r$"
   ]
  },
  {
   "cell_type": "markdown",
   "id": "raising-theology",
   "metadata": {},
   "source": [
    "### Utilitarian Welfare Function\n",
    "\n",
    "$$\n",
    "\\Omega=\\iint V(a, e) \\mathrm{d} H(a, e)\n",
    "$$\n",
    "\n",
    "* V: optimal value function\n",
    "* H: steady state distribution of assets and productivities\n",
    "* $\\Omega$ expresses welfare changes in percentage of consumption"
   ]
  },
  {
   "cell_type": "markdown",
   "id": "thermal-fitness",
   "metadata": {},
   "source": [
    "## 2. Benchmark Model \n",
    "\n",
    "### Stationary Steady State Mode\n",
    "\n",
    "Households:\n",
    "$\\max _{\\tilde{c}_{t}, l_{t}, \\tilde{a}_{t+1}} E\\left[\\left(Y_{0}\\right)^{\\eta(1-\\mu)} \\sum_{t=0}^{\\infty}\\left[\\beta(1+g)^{\\eta(1-\\mu)}\\right]^{t} \\frac{\\left(\\left.\\tilde{c}_{t}^{\\eta}\\right|_{t} ^{1-\\eta}\\right)^{1-\\mu}}{1-\\mu}\\right]$\n",
    "\n",
    "s.t. \n",
    "\n",
    "$\\tilde{c}_{t}+(1+g) \\tilde{a}_{t+1} \\leq\\left(1+\\left(1-\\tau_{y}\\right) r\\right) \\tilde{a}_{t}+\\left(1-\\tau_{y}\\right) w_{t} e_{t}\\left(1-I_{t}\\right)+\\chi$\n",
    "\n",
    "$\\tilde{c}_{t} \\geq 0 ; \\tilde{a}_{t} \\geq 0 ; 1 \\geq l_{t} \\geq 0 ; \\tilde{a}_{0}, e_{0}, Y_{0}$ \n",
    "\n",
    "\n",
    "### Parameters\n",
    "\n",
    "\n",
    "* Production function: Cobb Douglas (with capital share $\\theta)$\n",
    "* Labor productivity process:\n",
    "    * Assumed to be $\\operatorname{AR}(1)$\n",
    "    * Approximated as seven state Markov Chain, Tauchen [1986]\n",
    "    * From Aiyagari [1994]: $\\rho=0.6, \\sigma=0.3$\n",
    "        \n",
    "* Government policies and parameters:\n",
    "    * Averages of US postwar data:\n",
    "        * $\\gamma =21.7 \\%$\n",
    "        * $ \\chi=8.2 \\%$\n",
    "        * $ b=66 \\% \\text { (of GDP) }$\n",
    "        * $g =1.85 \\%, \\delta=0.075, \\theta=0.3$\n",
    "    \n",
    "* $\\rho, \\sigma, \\mu, \\beta, \\eta$ determines precautionary savings motive"
   ]
  },
  {
   "cell_type": "markdown",
   "id": "unlimited-dress",
   "metadata": {},
   "source": [
    "## 2. Benchmark Model - Results\n",
    "\n",
    "<center><img src=\"./Figures/goal.pdf\" style=\"height:400px\"></center>  \n",
    "\n",
    "* Insignificant welfare change in debt\n",
    "* Reduced model: Optimal debt is 140% although welfare loss is still small"
   ]
  },
  {
   "cell_type": "markdown",
   "id": "typical-terminology",
   "metadata": {},
   "source": [
    "# Replication "
   ]
  },
  {
   "cell_type": "markdown",
   "id": "prescription-latex",
   "metadata": {},
   "source": [
    "### NOTE: FOR A MORE COMPLETE VERSION OF THE REPLICATION, PLEASE CHECK THE PDF FILE (WHICH CAN BE REPRODUCED USING THE reproduce.sh FILE) TITLED LiqConstr.pdf CONTAINED IN THE SAME FOLDER AS THIS FILE."
   ]
  },
  {
   "cell_type": "code",
   "execution_count": 1,
   "id": "functioning-jurisdiction",
   "metadata": {},
   "outputs": [],
   "source": [
    "# Setup\n",
    "\n",
    "from HARK.utilities import plot_funcs\n",
    "from time import process_time\n",
    "from copy import deepcopy, copy\n",
    "import numpy as np\n",
    "from HARK.ConsumptionSaving.ConsIndShockModel import init_idiosyncratic_shocks\n",
    "from HARK.ConsumptionSaving.ConsMarkovModel import MarkovConsumerType\n",
    "from HARK.distribution import DiscreteDistribution\n",
    "mystr = lambda number: \"{:.4f}\".format(number)\n",
    "do_simulation = True\n",
    "import matplotlib.pyplot as plt\n",
    "\n",
    "\n",
    "import pandas as pd\n",
    "import numpy as np"
   ]
  },
  {
   "cell_type": "markdown",
   "id": "specific-peripheral",
   "metadata": {},
   "source": [
    "## Transition Marix and Markov Array - Tauchen’s Method\n",
    "\n",
    "Tauchen (1986) proposed a method of approximating an AR(1) process using a Markov chain. The first thing that we need to do is create a grid over $\\ln l_t$. To determine the maximum and minimum values of your grid, Tauchen recommends using 3 standard deviations of the process around its steady state. In this case, the variance of our process is given by \\sigma^2 and so we will use the grid points \\{- 3 $\\sigma, -2 \\sigma, -\\sigma, 0.0, \\sigma, 2 \\sigma, 3 \\sigma\\$}. The following code creates a grid for each state. The code is set to generalize to multiple state variables, but only one is needed to replicate Aiyagari."
   ]
  },
  {
   "cell_type": "code",
   "execution_count": 2,
   "id": "congressional-board",
   "metadata": {},
   "outputs": [
    {
     "data": {
      "text/plain": [
       "array([-0.6, -0.4, -0.2,  0. ,  0.2,  0.4,  0.6])"
      ]
     },
     "execution_count": 2,
     "metadata": {},
     "output_type": "execute_result"
    }
   ],
   "source": [
    "import math\n",
    "import numpy as np\n",
    "\n",
    "N = 7 # Number of grid points\n",
    "m = 3 # Number of standard deviations\n",
    "σ = 0.2 # σ = {0.2, 0.4}\n",
    "ρ = 0.6 # ρ = {0.0, 0.3, 0.6, 0.9}\n",
    "Σ = σ ** 2 * math.sqrt(1-ρ ** 2) ** 2 # Correlation Matrix\n",
    "Σy = σ # Standard Deviation\n",
    "ivΣ = 1 / Σ\n",
    "# Calculate Grid Values and Steps\n",
    "maxy = m * Σy # Three standard deviations high\n",
    "miny = -m * Σy # Three standard deviations low\n",
    "ys = (np.linspace(miny, maxy, N)) # Vector of values\n",
    "step = ys[-1] / (N-1) # Step size\n",
    "ys"
   ]
  },
  {
   "cell_type": "code",
   "execution_count": 3,
   "id": "waiting-canberra",
   "metadata": {},
   "outputs": [],
   "source": [
    "#Transition matrix calculated using Julia\n",
    "\n",
    "# P = zeros(N, N);\n",
    "# for j = 1:N\n",
    "#     μ = ρ*ys[j]\n",
    "#     for l = 1:N\n",
    "#         lowX = ys[l] - μ - step\n",
    "#         l == 1 && (lowX = ys[l] - μ - step - 100.0)\n",
    "#         highX = ys[l] - μ + step\n",
    "#         l == N && (highX = ys[l] - μ + step + 100.0)\n",
    "#         (val,err) = hcubature(x -> exp(-.5*x'*ivΣ*x)[1], lowX, highX,\n",
    "#         reltol=1e-4, abstol=0, maxevals=0)\n",
    "#         P[j,l] = (val ./ sqrt(2 *pi * Σ))\n",
    "#     end\n",
    "# end\n",
    " \n",
    "# P = P ./ sum(P, 2)\n",
    "# transition = P"
   ]
  },
  {
   "cell_type": "code",
   "execution_count": 4,
   "id": "mounted-deadline",
   "metadata": {},
   "outputs": [],
   "source": [
    "#Transition\n",
    "\n",
    "transition = np.array([[1.90787000e-01, 4.55383000e-01, 3.01749000e-01, 5.00608633e-02,\n",
    "        2.00160000e-03, 1.84984000e-05, 3.82913000e-08],\n",
    "       [5.20813000e-02, 3.01749000e-01, 4.55383000e-01, 1.73993422e-01,\n",
    "        1.64242000e-02, 3.67205000e-04, 1.87299000e-06],\n",
    "       [8.77448000e-03, 1.21520000e-01, 4.19444000e-01, 3.65695768e-01,\n",
    "        8.02333000e-02, 4.27914000e-03, 5.33123000e-05],\n",
    "       [8.89025000e-04, 2.95073000e-02, 2.35589000e-01, 4.68029350e-01,\n",
    "        2.35589000e-01, 2.95073000e-02, 8.89025000e-04],\n",
    "       [5.33123000e-05, 4.27914000e-03, 8.02333000e-02, 3.65695768e-01,\n",
    "        4.19444000e-01, 1.21520000e-01, 8.77448000e-03],\n",
    "       [1.87299000e-06, 3.67205000e-04, 1.64242000e-02, 1.73993422e-01,\n",
    "        4.55383000e-01, 3.01749000e-01, 5.20813000e-02],\n",
    "       [3.82913000e-08, 1.84984000e-05, 2.00160000e-03, 5.00608633e-02,\n",
    "        3.01749000e-01, 4.55383000e-01, 1.90787000e-01]])"
   ]
  },
  {
   "cell_type": "markdown",
   "id": "signal-gazette",
   "metadata": {},
   "source": [
    "## Dictionary"
   ]
  },
  {
   "cell_type": "code",
   "execution_count": 5,
   "id": "blind-pontiac",
   "metadata": {},
   "outputs": [],
   "source": [
    "init_perfect_foresight = {\n",
    "    'CRRA': 2.0,          # Coefficient of relative risk aversion,\n",
    "    'Rfree': 1.03,        # Interest factor on assets\n",
    "    'DiscFac': 0.991,      # Intertemporal discount factor\n",
    "    'LivPrb': [0.98],     # Survival probability\n",
    "    'PermGroFac': [1.01],  # Permanent income growth factor\n",
    "    'BoroCnstArt': None,  # Artificial borrowing constraint\n",
    "    'MaxKinks': 400,      # Maximum number of grid points to allow in cFunc (should be large)\n",
    "    'AgentCount': 10000,  # Number of agents of this type (only matters for simulation)\n",
    "    'aNrmInitMean': 0.0,  # Mean of log initial assets (only matters for simulation)\n",
    "    'aNrmInitStd': 1.0,  # Standard deviation of log initial assets (only for simulation)\n",
    "    'pLvlInitMean': 0.0,  # Mean of log initial permanent income (only matters for simulation)\n",
    "    # Standard deviation of log initial permanent income (only matters for simulation)\n",
    "    'pLvlInitStd': 0.0,\n",
    "    # Aggregate permanent income growth factor: portion of PermGroFac attributable to aggregate productivity growth (only matters for simulation)\n",
    "    'PermGroFacAgg': 1.0,\n",
    "    'T_age': None,       # Age after which simulated agents are automatically killed\n",
    "    'T_cycle': 1         # Number of periods in the cycle for this agent type\n",
    "}\n",
    "\n",
    "\n",
    "init_idiosyncratic_shocks = dict(\n",
    "    init_perfect_foresight,\n",
    "    **{\n",
    "        # assets above grid parameters\n",
    "        \"aXtraMin\": 0.001,  # Minimum end-of-period \"assets above minimum\" value\n",
    "        \"aXtraMax\": 20,  # Maximum end-of-period \"assets above minimum\" value\n",
    "        \"aXtraNestFac\": 3,  # Exponential nesting factor when constructing \"assets above minimum\" grid\n",
    "        \"aXtraCount\": 48,  # Number of points in the grid of \"assets above minimum\"\n",
    "        \"aXtraExtra\": [\n",
    "            None\n",
    "        ],  # Some other value of \"assets above minimum\" to add to the grid, not used\n",
    "        # Income process variables\n",
    "        \"PermShkStd\": [0.1],  # Standard deviation of log permanent income shocks\n",
    "        \"PermShkCount\": 7,  # Number of points in discrete approximation to permanent income shocks\n",
    "        \"TranShkStd\": [0.1],  # Standard deviation of log transitory income shocks\n",
    "        \"TranShkCount\": 7,  # Number of points in discrete approximation to transitory income shocks\n",
    "        \"UnempPrb\": 0.05,  # Probability of unemployment while working\n",
    "        \"UnempPrbRet\": 0.005,  # Probability of \"unemployment\" while retired\n",
    "        \"IncUnemp\": 0.3,  # Unemployment benefits replacement rate\n",
    "        \"IncUnempRet\": 0.0,  # \"Unemployment\" benefits when retired\n",
    "        \"BoroCnstArt\": 0.0,  # Artificial borrowing constraint; imposed minimum level of end-of period assets\n",
    "        \"tax_rate\": 0.0,  # Flat income tax rate\n",
    "        \"T_retire\": 0,  # Period of retirement (0 --> no retirement)\n",
    "        \"vFuncBool\": False,  # Whether to calculate the value function during solution\n",
    "        \"CubicBool\": False,  # Use cubic spline interpolation when True, linear interpolation when False\n",
    "    }\n",
    ")"
   ]
  },
  {
   "cell_type": "code",
   "execution_count": 6,
   "id": "alternate-image",
   "metadata": {},
   "outputs": [],
   "source": [
    "init_aiyagari = copy(init_idiosyncratic_shocks)\n",
    "init_aiyagari[\"MrkvArray\"] = [transition]\n",
    "init_aiyagari[\"UnempPrb\"] = 0  # to make income distribution when employed\n",
    "init_aiyagari[\"global_markov\"] = False\n",
    "aiyagariExample = MarkovConsumerType(**init_aiyagari)\n",
    "aiyagariExample.cycles = 0\n",
    "aiyagariExample.vFuncBool = False  # for easy toggling here"
   ]
  },
  {
   "cell_type": "markdown",
   "id": "coral-foundation",
   "metadata": {},
   "source": [
    "## Income Distribution"
   ]
  },
  {
   "cell_type": "code",
   "execution_count": 7,
   "id": "functional-andrew",
   "metadata": {},
   "outputs": [],
   "source": [
    "income_dist1 = DiscreteDistribution(np.ones(1), [np.ones(1), -0.6])  # Write in productivity level for the last columns\n",
    "income_dist2 = DiscreteDistribution(np.ones(1), [np.ones(1), -0.4])  \n",
    "income_dist3 = DiscreteDistribution(np.ones(1), [np.ones(1), -0.2])  \n",
    "income_dist4 = DiscreteDistribution(np.ones(1), [np.ones(1),  0.0])  \n",
    "income_dist5 = DiscreteDistribution(np.ones(1), [np.ones(1),  0.2])  \n",
    "income_dist6 = DiscreteDistribution(np.ones(1), [np.ones(1),  0.4]) \n",
    "income_dist7 = DiscreteDistribution(np.ones(1), [np.ones(1),  0.6])     \n",
    "\n",
    "aiyagariExample.IncShkDstn = [  #Put 7 income_dist1 to 7 but no repetitions\n",
    "    [\n",
    "        income_dist1,\n",
    "        income_dist2,\n",
    "        income_dist3,\n",
    "        income_dist4,\n",
    "        income_dist5,\n",
    "        income_dist6,\n",
    "        income_dist7,\n",
    "    ] #Why is this double bracketed\n",
    "]\n",
    "\n",
    "# Interest factor, permanent growth rates, and survival probabilities \n",
    "aiyagariExample.assign_parameters(Rfree = np.array(7 * [aiyagariExample.Rfree]))\n",
    "aiyagariExample.PermGroFac = [\n",
    "    np.array(7 * aiyagariExample.PermGroFac)\n",
    "]\n",
    "aiyagariExample.LivPrb = [aiyagariExample.LivPrb * np.ones(7)]"
   ]
  },
  {
   "cell_type": "code",
   "execution_count": 8,
   "id": "located-november",
   "metadata": {},
   "outputs": [
    {
     "name": "stdout",
     "output_type": "stream",
     "text": [
      "Consumption functions for each discrete state:\n"
     ]
    },
    {
     "name": "stderr",
     "output_type": "stream",
     "text": [
      "/home/econ-ark/.local/lib/python3.8/site-packages/HARK/interpolation.py:2032: RuntimeWarning: All-NaN slice encountered\n",
      "  y = self.compare(fx, axis=1)\n",
      "/home/econ-ark/.local/lib/python3.8/site-packages/HARK/interpolation.py:2032: RuntimeWarning: All-NaN slice encountered\n",
      "  y = self.compare(fx, axis=1)\n",
      "/home/econ-ark/.local/lib/python3.8/site-packages/HARK/interpolation.py:2032: RuntimeWarning: All-NaN slice encountered\n",
      "  y = self.compare(fx, axis=1)\n",
      "/home/econ-ark/.local/lib/python3.8/site-packages/HARK/interpolation.py:2032: RuntimeWarning: All-NaN slice encountered\n",
      "  y = self.compare(fx, axis=1)\n",
      "/home/econ-ark/.local/lib/python3.8/site-packages/HARK/interpolation.py:2032: RuntimeWarning: All-NaN slice encountered\n",
      "  y = self.compare(fx, axis=1)\n",
      "/home/econ-ark/.local/lib/python3.8/site-packages/HARK/interpolation.py:2032: RuntimeWarning: All-NaN slice encountered\n",
      "  y = self.compare(fx, axis=1)\n",
      "/home/econ-ark/.local/lib/python3.8/site-packages/HARK/interpolation.py:2032: RuntimeWarning: All-NaN slice encountered\n",
      "  y = self.compare(fx, axis=1)\n"
     ]
    },
    {
     "data": {
      "image/png": "[encoded data removed]",
      "text/plain": [
       "<Figure size 432x288 with 1 Axes>"
      ]
     },
     "metadata": {
      "needs_background": "light"
     },
     "output_type": "display_data"
    }
   ],
   "source": [
    "# Solve the consumer's problem and display solution\n",
    "aiyagariExample.solve()\n",
    "\n",
    "print(\"Consumption functions for each discrete state:\")\n",
    "plot_funcs(aiyagariExample.solution[0].cFunc, 30, 50)\n",
    "if aiyagariExample.vFuncBool:\n",
    "    print(\"Value functions for each discrete state:\")\n",
    "    plot_funcs(aiyagariExample.solution[0].vFunc, 30, 50)   "
   ]
  }
 ],
 "metadata": {
  "kernelspec": {
   "display_name": "Python 3",
   "language": "python",
   "name": "python3"
  },
  "language_info": {
   "codemirror_mode": {
    "name": "ipython",
    "version": 3
   },
   "file_extension": ".py",
   "mimetype": "text/x-python",
   "name": "python",
   "nbconvert_exporter": "python",
   "pygments_lexer": "ipython3",
   "version": "3.8.5"
  }
 },
 "nbformat": 4,
 "nbformat_minor": 5
}
