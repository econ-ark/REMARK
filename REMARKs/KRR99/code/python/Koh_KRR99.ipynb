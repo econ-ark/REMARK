{
 "cells": [
  {
   "cell_type": "markdown",
   "id": "d00bc7f1",
   "metadata": {},
   "source": [
    "# Replication Plans for Krusell and Rios-Rull (1999)\n",
    "### \"On the Size of U.S. Government: Political Economy in the Neoclassical Growth Model\"\n",
    "### AER 89 (5) p.1156-1181, 1999\n",
    "\n",
    "### Kyung Woong Koh (May 24, 2022)"
   ]
  },
  {
   "cell_type": "markdown",
   "id": "266ca20b",
   "metadata": {
    "jp-MarkdownHeadingCollapsed": true,
    "tags": []
   },
   "source": [
    "### Introduction: Part of A Serious Attempt at Political Economy and Macroeconomics\n",
    "\n",
    "- Political economy: \"How does the macroeconomy how are policies affected?\"\n",
    "- Macroeconomics: \"How do policies affect the macroeconomy?\"\n",
    "- A serious discussion in each discipline eventually requires a dynamic model that answers the other discipline's questions (ex. \"Is this tax cut exogenous?\")\n",
    "\n",
    "Krusell and Rios-Rull 1999 (henceforth KRR): Dynamic macroeconomic model with political economic mechanism for determining income tax rate\n",
    "- Income tax rate is determined by votes of all agents in the economy, as in Meltzer and Richard (1981)\n",
    "\n",
    "Original goal of KRR, inspired from Meltzer and Richard (1981), is to predict the size of total transfers (to GDP ratio) and therefore the \"size of the U.S. government\" from political economy theory\n",
    "- \"The total size of transfers predicted by our political-economy model is quite close to the size of transfers in the data.\" [About 30\\% in the data and KRR's dynamic model]\n",
    "\n",
    "Since then, this strand of literature (ex. political business cycles) has focused on the political economy question rather than the macroeconomic question\n",
    "- Most of macroeconomics and its modelling until now has been homogeneous agents\n",
    "- But politics can't exist among homogeneous agents (especially with homogeneous preferences)\n",
    "- Macro deals in means, but political economy deals in medians\n",
    "\n",
    "With heterogeneous agent macro, now we can discuss models with different agents, with different levels of income/wealth and therefore different preferred levels of taxation (poor people want more taxation and more redistribution than rich people do)\n",
    "\n",
    "With HARK, we can go further!"
   ]
  },
  {
   "cell_type": "markdown",
   "id": "c72eefeb",
   "metadata": {},
   "source": [
    "### My Goals from Replication of KRR\n",
    "1. Compare resulting size of transfers (\"size of government\") from replication with KRR\n",
    "2. Look at effects of parameter shocks (permanent income, transitory income, etc.) to size of transfers\n",
    "- Does a higher standard deviation of permanent or transitory income lead to a greater size of transfers preferred by the \"median\" voter? (\"Social insurance\")\n",
    "- Does a negative aggregate productivity shock lead to a greater size of transfers preferred by the \"median\" voter? Does the existence of idiosyncratic shocks change this result?"
   ]
  },
  {
   "cell_type": "markdown",
   "id": "bc77d326",
   "metadata": {
    "jp-MarkdownHeadingCollapsed": true,
    "tags": []
   },
   "source": [
    "### Description of the KRR Economy\n",
    "\n",
    "1. Economy is composed of heterogeneous consumers with individual labor productivity $\\varepsilon_{t}$ and assets $a_{t}$, receive at labor wage rate $w_{t}$ and capital rental rate $r_{t}$, pay $\\tau_{t}$ of their total income in tax, consume $c_{t}$ and save income towards individual wealth $a_{t+1}$\n",
    "\\begin{align}\n",
    "    &\\max \\sum_{t=0}^{\\infty} \\beta^{t} u(c_{t}, l_{t}) \\text{ s.t. } \\\\\n",
    "    c_{t} + a_{t+1} &= a_{t}(1+r_{t}(1-\\tau_{t})) + w_{t}\\varepsilon_{t}(1-l_{t})(1-\\tau_{t}) + T_{t} \\\\\n",
    "    u(c,l) &= ((c^{\\alpha}l^{1-\\alpha})^{1-\\sigma}-1)/(1-\\sigma)\n",
    "\\end{align}\n",
    "\n",
    "\n",
    "2. Aggregate labor and aggregate capital are normalized as follows:\n",
    "\\begin{align}\n",
    "    \\sum_{i}\\varepsilon_{it} &= N \\\\\n",
    "    \\sum_{i}a_{it} &= K\n",
    "\\end{align}\n",
    "\n",
    "\n",
    "3. Resource constraint of economy is\n",
    "\\begin{equation}\n",
    "    C_{t} + K_{t+1} - K_{t}(1-\\delta) + g_{t} = F(K_{t},N_{t})\n",
    "\\end{equation}\n",
    "where $F(K,N)$ is the aggregate production function\n",
    "\n",
    "\n",
    "4. Income taxation is redistributed as equal lump-sum transfers (after accounting for government consumption $g_{t}$)\n",
    "\\begin{equation}\n",
    "    g_{t} + T_{t} = \\tau_{t}(K_{t}r_{t} + N_{t}w_{t})\n",
    "\\end{equation}\n",
    "\n",
    "\n",
    "5. Each consumer periodically votes for the tax rate $\\tau_{t}$ that maximizes his/her equilibrium utility, given the asset (\"wealth\") distribution $A_{t}=\\{a_{it}\\}$:\n",
    "\\begin{align}\n",
    "    \\tau_{t+1} &= \\Psi(A_{t},\\tau_{t}) \\\\\n",
    "    A_{t+1} &= H(A_{t},\\tau_{t})\n",
    "\\end{align}\n",
    "where $\\Psi(A,\\tau)$ is the transition function of current asset distribution $A_{t}$ and tax rate $\\tau_{t}$ to the new politically determined tax rate $\\tau_{t+1}$ (political equilibrium), and $H(A,\\tau)$ is the transition function to the next period's asset distribution $A_{t+1}$ (economic equilibrium).\n",
    "\n",
    "Our goal is to find the politico-economic equilibrium $\\tau  =\\Psi(A,\\tau)$ and $A = H(A,\\tau)$"
   ]
  },
  {
   "cell_type": "markdown",
   "id": "51a7993d",
   "metadata": {},
   "source": [
    "### What is already possible in HARK\n",
    "\n",
    "I would use the $\\texttt{AggShockConsumerType}$ and $\\texttt{CobbDouglasEconomy}$ classes under $\\texttt{HARK.ConsumptionSaving.ConsAggShockModel}$, which provides the tools to compute  both consumption and labor choices in an economy with Cobb-Douglas production of aggregate labor and aggregate capital"
   ]
  },
  {
   "cell_type": "markdown",
   "id": "490dfc60-1ddf-4eb1-91ee-8a5e72becebd",
   "metadata": {
    "tags": []
   },
   "source": [
    "### To Do ###\n",
    "\n",
    "- Use \"market\" class for updating tax rates (partial eq. version, solve for R and w using Cobb-Douglas, etc.)\n",
    "(https://github.com/econ-ark/DistributionOfWealthMPC)\n",
    "- 1. compute with tax rates\n",
    "- 2. compute with different tax rates\n",
    "- 3. utility of different groups with different tax rates\n",
    "\n",
    "Distribution of wealth / permanent income / preferences"
   ]
  },
  {
   "cell_type": "markdown",
   "id": "3c81deb7-bc45-464f-ab4b-157b5d4e10a2",
   "metadata": {
    "tags": []
   },
   "source": [
    "<!-- **Krusell and Rios-Rull's parameters for income and wealth distribution:**\n",
    "\n",
    "Sorted by Wealth\n",
    "\n",
    "<p>Group 1 (49%): Household wealth = 0.30, Earnings = 0.57<br>\n",
    "Group 2 (2%): Household wealth = 1, Earnings = 1<br>\n",
    "Group 3 (49%): Household wealth = 4.78, Earnings = 1.91</p>\n",
    "\n",
    "<p>Sorted by Earnings<br>\n",
    "Group 1 (49%): Household wealth = 0.55, Earnings = 0.24<br>\n",
    "Group 2 (2%): Household wealth = 1, Earnings = 1<br>\n",
    "Group 3 (49%): Household wealth = 2.93, Earnings = 2.94</p>\n",
    "\n",
    "*Greater inequality in household wealth than in household earnings* -->"
   ]
  },
  {
   "cell_type": "markdown",
   "id": "14369395-a683-4a4c-8099-6085888e322b",
   "metadata": {},
   "source": [
    "**Parameters in KRR99**\n",
    "<p>beta = 0.96 (Annual discount rate)<br>\n",
    "alpha = 0.429 (Utility weight of consumption)<br>\n",
    "sigma = 4 (Risk aversion parameter)<br>\n",
    "delta = 0.05 (Depreciation rate)<br>\n",
    "theta = 0.36 (Share of capital income)<br>\n",
    "Wealth-output ratio = 3.3<br>\n",
    "r = 0.06 (Pre-tax)<br>\n",
    "C/Y = 0.638 (Consumption-output ratio)<br>\n",
    "g/Y = 0.199 (Government spending-output ratio, but for now I assume in the code g/Y = 0)<br>\n",
    "N = 0.34 (Labor hours)</p>"
   ]
  },
  {
   "cell_type": "markdown",
   "id": "534eb96b-d392-406f-b3a4-dac79078948a",
   "metadata": {},
   "source": [
    "**Progress:**\n",
    "1. *Devised code for `AggShockConsumerType_tax` class*: Inherits from `AggShockConsumerType` class and introduces flat income tax rate (`tax_rate`)\n",
    "2. *Included code for calculating value function (`vFunc`) in `AggShockConsumerType_tax` class*: This is to calculate the value function of the median agent (as in the agent with the median level of wealth)\n",
    "3. *Devised code for finding median agent's preferred tax rate*: For loop process for calculating post-tax(-and-transfer) value function of agent with median level of wealth"
   ]
  },
  {
   "cell_type": "markdown",
   "id": "8d215140-cbbf-4dc5-a6dd-ece0c88e5a4e",
   "metadata": {},
   "source": [
    "**Stumbling Blocks:**\n",
    "1. *Getting to single-peaked preferences for tax rates*: I have so far located and altered the code that calculates the lump-sum transfers that each agent receives, and higher tax rates do lead to lower levels of individual asset levels (`aLvl`, normalized to `aNrm`). However, I am having trouble replicating the single-peaked preferences of agents on the tax rate and hence level of redistribution (transfers). The code in its current state leads to the top 60\\% of the agents (in terms of wealth) preferring a zero tax rate and the bottom 40\\% preferring the maximum level of tax rate (0.95 in the current code).\n",
    "- If I can replicate the results of single-peaked preferences on tax rates for each agent, the most preferred tax rate of the median agent in terms of wealth should be the economy's chosen flat income tax rate."
   ]
  },
  {
   "cell_type": "code",
   "execution_count": 1,
   "id": "ac322ba6-510b-438b-837e-dde9a4ee2ee9",
   "metadata": {
    "tags": []
   },
   "outputs": [],
   "source": [
    "import HARK\n",
    "import sys\n",
    "from HARK.ConsumptionSaving.ConsAggShockModel import (AggShockConsumerType, CobbDouglasEconomy, init_agg_shocks,\n",
    "    init_cobb_douglas,\n",
    "    solveConsAggShock,\n",
    "    AggregateSavingRule\n",
    ")\n",
    "\n",
    "from ConsAggShockModel_tax import *\n",
    "\n",
    "import matplotlib.pyplot as plt\n",
    "import numpy as np\n",
    "import pandas as pd\n",
    "from copy import deepcopy\n",
    "from HARK.utilities import plot_funcs, make_figs\n",
    "import statsmodels.api as sm\n",
    "from time import process_time\n",
    "def mystr(number):\n",
    "    return \"{:.4f}\".format(number)"
   ]
  },
  {
   "cell_type": "markdown",
   "id": "fffc487a",
   "metadata": {
    "pycharm": {
     "name": "#%% md\n"
    }
   },
   "source": [
    "I first set the parameters for each agent in the `AggShockConsumerType_tax` class as follows, with the addition of a flat income tax rate (`tax_rate`):"
   ]
  },
  {
   "cell_type": "code",
   "execution_count": 2,
   "id": "c9645f21-92f8-436e-b794-ea26aa0f29de",
   "metadata": {
    "tags": []
   },
   "outputs": [],
   "source": [
    "# Define a dictionary with calibrated parameters\n",
    "AgentParameters = {\n",
    "    \"CRRA\":4.00,                    # Coefficient of relative risk aversion\n",
    "    \"DiscFac\": 0.96,             # Default intertemporal discount factor; dummy value, will be overwritten\n",
    "    \"Rfree\": 1.06, # Survival probability,\n",
    "    \"PermShkCount\" : 1,                    # Number of points in discrete approximation to permanent income shocks - no shocks of this kind!\n",
    "    \"TranShkCount\" : 5,                    # Number of points in discrete approximation to transitory income shocks\n",
    "    \"PermShkStd\" : [0.0],                   # Standard deviation of log permanent income shocks - no shocks of this kind!\n",
    "    \"TranShkStd\" : [0.5],                   # Standard deviation of log transitory income shocks\n",
    "    \"UnempPrb\" : 0.0,                      # Probability of unemployment while working - no shocks of this kind!\n",
    "    \"UnempPrbRet\" : 0.00,                  # Probability of \"unemployment\" while retired - no shocks of this kind!\n",
    "    \"IncUnemp\" : 0.0,                      # Unemployment benefits replacement rate\n",
    "    \"IncUnempRet\" : 0.0,                   # \"Unemployment\" benefits when retired\n",
    "    \"T_retire\" : 0,                        # Period of retirement (0 --> no retirement)\n",
    "    \"BoroCnstArt\" : 0.0,                   # Artificial borrowing constraint; imposed minimum level of end-of period assets\n",
    "    \"PermGroFac\" : [1.0],                  # Permanent income growth factor\n",
    "\n",
    "    \"CubicBool\":False,\n",
    "    \"vFuncBool\":True,\n",
    "    \"aXtraMin\":0.00001,  # Minimum end-of-period assets in grid\n",
    "    \"aXtraMax\":40,  # Maximum end-of-period assets in grid\n",
    "    \"aXtraCount\":32,  # Number of points in assets grid\n",
    "    \"aXtraExtra\":[None],\n",
    "    \"aXtraNestFac\":3,  # Number of times to 'exponentially nest' when constructing assets grid\n",
    "    \"LivPrb\":[1.0],  # Survival probability\n",
    "    # \"LivPrb\":[1.0 - 1.0/160.0],  # Survival probability\n",
    "\n",
    "    \"cycles\":0,\n",
    "    \"T_cycle\":1,\n",
    "    'T_sim':50,  # Number of periods to simulate (idiosyncratic shocks model, perpetual youth)\n",
    "    'T_age': 100,\n",
    "    'IndL': 1.0,  # Labor supply per individual (constant)\n",
    "    'aNrmInitMean':np.log(0.00001),\n",
    "    'aNrmInitStd':0.0,\n",
    "    'pLvlInitMean':0.0,\n",
    "    'pLvlInitStd':0.0,\n",
    "    'AgentCount':100,\n",
    "    'MgridBase': np.array([0.1,0.3,0.6,\n",
    "                           0.8,0.9,0.98,\n",
    "                           1.0,1.02,1.1,\n",
    "                           1.2,1.6,2.0,\n",
    "                           3.0]),          # Grid of capital-to-labor-ratios (factors)\n",
    "    'PermGroFacAgg': 1.0,\n",
    "\n",
    "    # Variables necessary for AggShockConsumerType_tax model\n",
    "    'tax_rate':0.00,\n",
    "\n",
    "    # Parameters describing the income process\n",
    "    # New Parameters that we need now\n",
    "    'PermShkAggStd' : [0.0],           # Standard deviation of log aggregate permanent shocks by state. No continous shocks in a state.\n",
    "    'TranShkAggStd' : [0.0],           # Standard deviation of log aggregate transitory shocks by state. No continuous shocks in a state.\n",
    "}"
   ]
  },
  {
   "cell_type": "code",
   "execution_count": 3,
   "id": "6b59cab9-deec-4cd2-8ff5-7f13297dc6b8",
   "metadata": {},
   "outputs": [],
   "source": [
    "# Code source: https://github.com/econ-ark/HARK/blob/master/examples/ConsumptionSaving/example_ConsAggShockModel.ipynb\n",
    "# See also, on HARK.core.Market: https://hark.readthedocs.io/en/latest/reference/tools/core.html#HARK.core.Market\n",
    "# For details on Krusell-Smith model in HARK: https://github.com/econ-ark/KrusellSmith/blob/master/Code/Python/KrusellSmith.ipynb\n",
    "# See also: https://github.com/econ-ark/HARK/blob/master/examples/HowWeSolveIndShockConsumerType/HowWeSolveIndShockConsumerType.ipynb\n",
    "\n",
    "AggShockAgent_tax = AggShockConsumerType_tax(**AgentParameters)"
   ]
  },
  {
   "cell_type": "markdown",
   "id": "167dacd2",
   "metadata": {
    "pycharm": {
     "name": "#%% md\n"
    }
   },
   "source": [
    "I create a new Market class, `CobbDouglasEconomy_tax`, to account for the fact that flat income tax rates have distortionary effects on output and therefore income. The trade-off is that higher tax rates lead to higher transfers to the median voter, but also incur greater productive inefficiencies and therefore decreases aggregate output and thus aggregate income.\n"
   ]
  },
  {
   "cell_type": "code",
   "execution_count": 4,
   "id": "d476e500-624c-4bc8-ae78-4d22901fd8dd",
   "metadata": {
    "tags": []
   },
   "outputs": [],
   "source": [
    "EconomyExample = CobbDouglasEconomy_tax(agents=[AggShockAgent_tax], PermShkAggCount = 1, TranShkAggCount = 1,\n",
    "                                    PermShkAggStd = 0.0, TranShkAggStd = 0.0, DeprFac = 0.025, PermGroFacAgg = 1.0,\n",
    "                                    AggregateL = 1.0, CapShare = 0.36, CRRA = 4.0, tolerance = 0.01, tax_rate = 0.00)"
   ]
  },
  {
   "cell_type": "markdown",
   "id": "183e4573",
   "metadata": {},
   "source": [
    "I then solve for the model."
   ]
  },
  {
   "cell_type": "code",
   "execution_count": 5,
   "id": "f5592aac-9677-4951-9c3c-8b675d7c971f",
   "metadata": {},
   "outputs": [],
   "source": [
    "# Have the consumers inherit relevant objects from the economy\n",
    "AggShockAgent_tax.get_economy_data(EconomyExample)\n",
    "\n",
    "# Simulate a history of aggregate shocks\n",
    "EconomyExample.make_AggShkHist()\n",
    "\n",
    "# Solve for aggregate shock consumer model\n",
    "AggShockAgent_tax.solve()\n",
    "AggShockAgent_tax.track_vars = ['pLvl','TranShk']"
   ]
  },
  {
   "cell_type": "code",
   "execution_count": 6,
   "id": "71c66623-6ff5-485a-8815-431c2be0764a",
   "metadata": {
    "scrolled": true,
    "tags": []
   },
   "outputs": [
    {
     "name": "stdout",
     "output_type": "stream",
     "text": [
      "Now solving for the equilibrium of a Cobb-Douglas economy.  This might take a few minutes...\n",
      "intercept=-0.4105444080600119, slope=1.125591755269752, r-sq=0.8751220283100419\n",
      "intercept=-0.5773773336944872, slope=1.1758308616806983, r-sq=0.7832480696460743\n",
      "intercept=-0.6143577175394321, slope=1.1769354543417325, r-sq=0.7775438351465407\n",
      "intercept=-0.6007363390178455, slope=1.1626718040790442, r-sq=0.7970695854316208\n",
      "intercept=-0.5690387254827868, slope=1.144596971056191, r-sq=0.8063777583962056\n",
      "intercept=-0.5468314979996045, slope=1.1330227287075487, r-sq=0.8063809444926041\n",
      "intercept=-0.5361412473190595, slope=1.1275020394502473, r-sq=0.8088097539216079\n",
      "intercept=-0.5311542259396487, slope=1.1249304315188215, r-sq=0.8099901725510611\n"
     ]
    }
   ],
   "source": [
    "# Solve the \"macroeconomic\" model by searching for a \"fixed point dynamic rule\"\n",
    "print(\"Now solving for the equilibrium of a Cobb-Douglas economy.  This might take a few minutes...\")\n",
    "EconomyExample.solve()"
   ]
  },
  {
   "cell_type": "markdown",
   "id": "f56a211b",
   "metadata": {
    "pycharm": {
     "name": "#%% md\n"
    }
   },
   "source": [
    "Consumption function at each aggregate market resources-to-labor ratio gridpoint"
   ]
  },
  {
   "cell_type": "code",
   "execution_count": 7,
   "id": "6b247866",
   "metadata": {},
   "outputs": [
    {
     "name": "stdout",
     "output_type": "stream",
     "text": [
      "Consumption function at each aggregate market resources-to-labor ratio gridpoint:\n"
     ]
    },
    {
     "data": {
      "image/png": "[encoded data removed]",
      "text/plain": [
       "<Figure size 432x288 with 1 Axes>"
      ]
     },
     "metadata": {
      "needs_background": "light"
     },
     "output_type": "display_data"
    }
   ],
   "source": [
    "AggShockAgent_tax.unpack('cFunc')\n",
    "\n",
    "print(\"Consumption function at each aggregate market resources-to-labor ratio gridpoint:\")\n",
    "m_grid = np.linspace(0, 5, 200)\n",
    "for M in AggShockAgent_tax.Mgrid.tolist():\n",
    "    mMin = AggShockAgent_tax.solution[0].mNrmMin(M)\n",
    "    c_at_this_M = AggShockAgent_tax.cFunc[0](m_grid + mMin, M * np.ones_like(m_grid))\n",
    "    plt.plot(m_grid + mMin, c_at_this_M)\n",
    "plt.show()"
   ]
  },
  {
   "cell_type": "markdown",
   "id": "8e041354",
   "metadata": {},
   "source": [
    "Value function at each aggregate market resources-to-labor ratio gridpoint"
   ]
  },
  {
   "cell_type": "code",
   "execution_count": 8,
   "id": "3141f9c5",
   "metadata": {
    "jupyter": {
     "outputs_hidden": false
    },
    "pycharm": {
     "name": "#%%\n"
    }
   },
   "outputs": [
    {
     "name": "stdout",
     "output_type": "stream",
     "text": [
      "Value function at each aggregate market resources-to-labor ratio gridpoint:\n"
     ]
    },
    {
     "data": {
      "image/png": "[encoded data removed]",
      "text/plain": [
       "<Figure size 432x288 with 1 Axes>"
      ]
     },
     "metadata": {
      "needs_background": "light"
     },
     "output_type": "display_data"
    }
   ],
   "source": [
    "AggShockAgent_tax.unpack('vFunc')\n",
    "\n",
    "print(\"Value function at each aggregate market resources-to-labor ratio gridpoint:\")\n",
    "m_grid = np.linspace(0, 5, 200)\n",
    "for M in AggShockAgent_tax.Mgrid.tolist():\n",
    "    mMin = AggShockAgent_tax.solution[0].mNrmMin(M)+0.5\n",
    "    v_at_this_M = AggShockAgent_tax.vFunc[0](m_grid + mMin, M * np.ones_like(m_grid))\n",
    "    plt.plot(m_grid + mMin, v_at_this_M)\n",
    "plt.show()"
   ]
  },
  {
   "cell_type": "markdown",
   "id": "8f2e560d",
   "metadata": {
    "pycharm": {
     "name": "#%% md\n"
    }
   },
   "source": [
    "Summary Statistics for Agents' Wealth and Income "
   ]
  },
  {
   "cell_type": "code",
   "execution_count": 9,
   "id": "bf1f7e9b-1ee3-43a4-a313-264e13c90dd0",
   "metadata": {
    "tags": []
   },
   "outputs": [
    {
     "name": "stdout",
     "output_type": "stream",
     "text": [
      "The lump-sum transfer in terms of permanent income is: 0.0\n",
      "The mean of individual market resources is 17.209977576559048; the standard deviation is 4.400319630466238; the median is 16.418608939597988.\n",
      "The mean of individual wealth is 14.981784923214564; the standard deviation is 4.153142622717656; the median is 14.234446679033013.\n",
      "The median level of market resources is: 16.418608939597988\n"
     ]
    }
   ],
   "source": [
    "# Normalized market resources of each agent\n",
    "sim_market_resources = AggShockAgent_tax.state_now['mNrm']\n",
    "\n",
    "# Normalized assets of each agent\n",
    "sim_wealth = AggShockAgent_tax.state_now['aNrm']\n",
    "\n",
    "# Summary Statistics\n",
    "\n",
    "# Lump-sum transfers are calculated through AggShockConsumerType_tax.calc_transfers() method:\n",
    "print(\"The lump-sum transfer in terms of permanent income is: \" + str(AggShockAgent_tax.calc_transfers()))\n",
    "\n",
    "print(\"The mean of individual market resources is \" + str(sim_market_resources.mean()) + \"; the standard deviation is \"\n",
    "      + str(sim_market_resources.std()) + \"; the median is \" + str(np.median(sim_market_resources)) + \".\")\n",
    "print(\"The mean of individual wealth is \" + str(sim_wealth.mean()) + \"; the standard deviation is \"\n",
    "      + str(sim_wealth.std()) + \"; the median is \" + str(np.median(sim_wealth)) + \".\")\n",
    "\n",
    "print(\"The median level of market resources is: \" + str(np.median(AggShockAgent_tax.state_now['mNrm'])))"
   ]
  },
  {
   "cell_type": "markdown",
   "id": "47704b66",
   "metadata": {},
   "source": [
    "So far, the model generatse far too little wealth inequality, as seen by the graph of the Lorenz curve of the wealth distribution below:"
   ]
  },
  {
   "cell_type": "code",
   "execution_count": 10,
   "id": "4a61f5a0-c60e-41bd-ada6-0efe880cb0b1",
   "metadata": {},
   "outputs": [
    {
     "data": {
      "image/png": "[encoded data removed]",
      "text/plain": [
       "<Figure size 432x288 with 1 Axes>"
      ]
     },
     "metadata": {
      "needs_background": "light"
     },
     "output_type": "display_data"
    }
   ],
   "source": [
    "# Lorenz Curve of Wealth Distribution\n",
    "\n",
    "from HARK.datasets import load_SCF_wealth_weights\n",
    "from HARK.utilities import get_lorenz_shares, get_percentiles\n",
    "\n",
    "SCF_wealth, SCF_weights = load_SCF_wealth_weights()\n",
    "\n",
    "pctiles = np.linspace(0.001,0.999,200)\n",
    "\n",
    "SCF_Lorenz_points = get_lorenz_shares(SCF_wealth,weights=SCF_weights,percentiles=pctiles)\n",
    "sim_Lorenz_points = get_lorenz_shares(sim_wealth,percentiles=pctiles)\n",
    "plt.plot(pctiles,pctiles,'-r')\n",
    "plt.plot(pctiles,SCF_Lorenz_points,'--k')\n",
    "plt.plot(pctiles,sim_Lorenz_points,'-b')\n",
    "plt.xlabel('Percentile of net worth')\n",
    "plt.ylabel('Cumulative share of wealth')\n",
    "plt.show(block=False)"
   ]
  },
  {
   "cell_type": "markdown",
   "id": "1f575e26",
   "metadata": {
    "pycharm": {
     "name": "#%% md\n"
    }
   },
   "source": [
    "### The method for determining the optimal tax rate for the median voter is as follows:\n",
    "\n",
    "1. Create a grid of tax rates.\n",
    "2. For each tax rate, use the procedure above to compute each agent's normalized market resources (and asset).\n",
    "3. Given the array of normalized market resources, we locate the median level of market resources as the median agent, then compute their value function at their level of market resources.\n",
    "4. Record the value function of the median agent at the given tax rate.\n",
    "5. Repeat steps 2 to 4 until we have solved for the median agent's value function at each tax rate. The tax rate corresponding to the highest value of the median agent's value function is the optimal tax rate **for the median voter**, hence the political equilibrium (flat income tax rate)."
   ]
  },
  {
   "cell_type": "markdown",
   "id": "0e4f4099",
   "metadata": {},
   "source": [
    "For tax rates, I create a 20 $\\times$ 1 grid of tax rates from 0.00 to 0.95.\n",
    "\n",
    "For reference (and to reduce computing time), in the for loop code below I calculate the optimal tax rate for agents with their wealth in the 10th, 20th, and up to 90th percentiles."
   ]
  },
  {
   "cell_type": "code",
   "execution_count": 11,
   "id": "8e6d627b-c3c7-4ab5-ab3f-97f6687a8d74",
   "metadata": {
    "scrolled": true
   },
   "outputs": [
    {
     "name": "stdout",
     "output_type": "stream",
     "text": [
      "intercept=-0.5288444895735478, slope=1.1237386173871755, r-sq=0.810535437461125\n",
      "intercept=-0.5277773305948623, slope=1.1231871654603125, r-sq=0.8107863137511139\n",
      "The flat income tax rate is: 0.0000\n",
      "The lump-sum transfer in terms of permanent income is: 0.0000\n",
      "The mean of individual wealth is 1.6152; the standard deviation is 1.1373366189717646; the median is 1.5974.\n",
      "The mean of individual market resources is 3.3754; the standard deviation is 1.4259230889521275; the median is 3.4264.\n",
      "The 90th percentile of individual wealth is 3.2004.\n",
      "The 80th percentile of individual wealth is 2.6403.\n",
      "The 70th percentile of individual wealth is 2.0155.\n",
      "The 60th percentile of individual wealth is 1.7983.\n",
      "The median of individual wealth is 1.5974.\n",
      "The 40th percentile of individual wealth is 1.0583.\n",
      "The 30th percentile of individual wealth is 0.8105.\n",
      "The 20th percentile of individual wealth is 0.5695.\n",
      "The 10th percentile of individual wealth is 0.3880.\n",
      "\n",
      "intercept=-0.5288444895735478, slope=1.1237386173871755, r-sq=0.810535437461125\n",
      "intercept=-0.5277773305948623, slope=1.1231871654603125, r-sq=0.8107863137511139\n",
      "The flat income tax rate is: 0.0500\n",
      "The lump-sum transfer in terms of permanent income is: 0.0854\n",
      "The mean of individual wealth is 1.5748; the standard deviation is 1.0714290458669407; the median is 1.5656.\n",
      "The mean of individual market resources is 3.3332; the standard deviation is 1.3444825044181996; the median is 3.3874.\n",
      "The 90th percentile of individual wealth is 3.0626.\n",
      "The 80th percentile of individual wealth is 2.5094.\n",
      "The 70th percentile of individual wealth is 1.9663.\n",
      "The 60th percentile of individual wealth is 1.7630.\n",
      "The median of individual wealth is 1.5656.\n",
      "The 40th percentile of individual wealth is 1.0590.\n",
      "The 30th percentile of individual wealth is 0.8263.\n",
      "The 20th percentile of individual wealth is 0.5900.\n",
      "The 10th percentile of individual wealth is 0.4048.\n",
      "\n",
      "intercept=-0.5288444895735478, slope=1.1237386173871755, r-sq=0.810535437461125\n",
      "intercept=-0.5277773305948623, slope=1.1231871654603125, r-sq=0.8107863137511139\n",
      "The flat income tax rate is: 0.1000\n",
      "The lump-sum transfer in terms of permanent income is: 0.1707\n",
      "The mean of individual wealth is 1.5369; the standard deviation is 1.0066276298249914; the median is 1.5348.\n",
      "The mean of individual market resources is 3.2931; the standard deviation is 1.2647573137114339; the median is 3.3495.\n",
      "The 90th percentile of individual wealth is 2.9307.\n",
      "The 80th percentile of individual wealth is 2.3850.\n",
      "The 70th percentile of individual wealth is 1.9176.\n",
      "The 60th percentile of individual wealth is 1.7301.\n",
      "The median of individual wealth is 1.5348.\n",
      "The 40th percentile of individual wealth is 1.0601.\n",
      "The 30th percentile of individual wealth is 0.8428.\n",
      "The 20th percentile of individual wealth is 0.6133.\n",
      "The 10th percentile of individual wealth is 0.4306.\n",
      "\n",
      "intercept=-0.5288444895735478, slope=1.1237386173871755, r-sq=0.810535437461125\n",
      "intercept=-0.5277773305948623, slope=1.1231871654603125, r-sq=0.8107863137511139\n",
      "The flat income tax rate is: 0.1500\n",
      "The lump-sum transfer in terms of permanent income is: 0.2558\n",
      "The mean of individual wealth is 1.5019; the standard deviation is 0.9425527162442904; the median is 1.5084.\n",
      "The mean of individual market resources is 3.2558; the standard deviation is 1.1865037694883243; the median is 3.3171.\n",
      "The 90th percentile of individual wealth is 2.8030.\n",
      "The 80th percentile of individual wealth is 2.2719.\n",
      "The 70th percentile of individual wealth is 1.8698.\n",
      "The 60th percentile of individual wealth is 1.6981.\n",
      "The median of individual wealth is 1.5084.\n",
      "The 40th percentile of individual wealth is 1.0624.\n",
      "The 30th percentile of individual wealth is 0.8594.\n",
      "The 20th percentile of individual wealth is 0.6396.\n",
      "The 10th percentile of individual wealth is 0.4488.\n",
      "\n",
      "intercept=-0.5288444895735478, slope=1.1237386173871755, r-sq=0.810535437461125\n",
      "intercept=-0.5277773305948623, slope=1.1231871654603125, r-sq=0.8107863137511139\n",
      "The flat income tax rate is: 0.2000\n",
      "The lump-sum transfer in terms of permanent income is: 0.3408\n",
      "The mean of individual wealth is 1.4693; the standard deviation is 0.8797683997815959; the median is 1.4851.\n",
      "The mean of individual market resources is 3.2211; the standard deviation is 1.1091670100871052; the median is 3.2886.\n",
      "The 90th percentile of individual wealth is 2.6819.\n",
      "The 80th percentile of individual wealth is 2.1686.\n",
      "The 70th percentile of individual wealth is 1.8256.\n",
      "The 60th percentile of individual wealth is 1.6668.\n",
      "The median of individual wealth is 1.4851.\n",
      "The 40th percentile of individual wealth is 1.0653.\n",
      "The 30th percentile of individual wealth is 0.8769.\n",
      "The 20th percentile of individual wealth is 0.6694.\n",
      "The 10th percentile of individual wealth is 0.4440.\n",
      "\n",
      "intercept=-0.5288444895735478, slope=1.1237386173871755, r-sq=0.810535437461125\n",
      "intercept=-0.5277773305948623, slope=1.1231871654603125, r-sq=0.8107863137511139\n",
      "The flat income tax rate is: 0.2500\n",
      "The lump-sum transfer in terms of permanent income is: 0.4257\n",
      "The mean of individual wealth is 1.4390; the standard deviation is 0.8185711901903785; the median is 1.4633.\n",
      "The mean of individual market resources is 3.1891; the standard deviation is 1.0333752680278874; the median is 3.2616.\n",
      "The 90th percentile of individual wealth is 2.5594.\n",
      "The 80th percentile of individual wealth is 2.0709.\n",
      "The 70th percentile of individual wealth is 1.7823.\n",
      "The 60th percentile of individual wealth is 1.6358.\n",
      "The median of individual wealth is 1.4633.\n",
      "The 40th percentile of individual wealth is 1.0691.\n",
      "The 30th percentile of individual wealth is 0.8895.\n",
      "The 20th percentile of individual wealth is 0.6964.\n",
      "The 10th percentile of individual wealth is 0.4496.\n",
      "\n",
      "intercept=-0.5288444895735478, slope=1.1237386173871755, r-sq=0.810535437461125\n",
      "intercept=-0.5277773305948623, slope=1.1231871654603125, r-sq=0.8107863137511139\n",
      "The flat income tax rate is: 0.3000\n",
      "The lump-sum transfer in terms of permanent income is: 0.5105\n",
      "The mean of individual wealth is 1.4112; the standard deviation is 0.7583331889418846; the median is 1.4414.\n",
      "The mean of individual market resources is 3.1598; the standard deviation is 0.9583674440519271; the median is 3.2344.\n",
      "The 90th percentile of individual wealth is 2.4515.\n",
      "The 80th percentile of individual wealth is 1.9747.\n",
      "The 70th percentile of individual wealth is 1.7392.\n",
      "The 60th percentile of individual wealth is 1.6054.\n",
      "The median of individual wealth is 1.4414.\n",
      "The 40th percentile of individual wealth is 1.0736.\n",
      "The 30th percentile of individual wealth is 0.9016.\n",
      "The 20th percentile of individual wealth is 0.7217.\n",
      "The 10th percentile of individual wealth is 0.4750.\n",
      "\n",
      "intercept=-0.5288444895735478, slope=1.1237386173871755, r-sq=0.810535437461125\n",
      "intercept=-0.5277773305948623, slope=1.1231871654603125, r-sq=0.8107863137511139\n",
      "The flat income tax rate is: 0.3500\n",
      "The lump-sum transfer in terms of permanent income is: 0.5953\n",
      "The mean of individual wealth is 1.3856; the standard deviation is 0.6988534721259945; the median is 1.4169.\n",
      "The mean of individual market resources is 3.1328; the standard deviation is 0.8841353664226425; the median is 3.2037.\n",
      "The 90th percentile of individual wealth is 2.3416.\n",
      "The 80th percentile of individual wealth is 1.9091.\n",
      "The 70th percentile of individual wealth is 1.6976.\n",
      "The 60th percentile of individual wealth is 1.5745.\n",
      "The median of individual wealth is 1.4169.\n",
      "The 40th percentile of individual wealth is 1.0791.\n",
      "The 30th percentile of individual wealth is 0.9165.\n",
      "The 20th percentile of individual wealth is 0.7473.\n",
      "The 10th percentile of individual wealth is 0.5118.\n",
      "\n",
      "intercept=-0.5288444895735478, slope=1.1237386173871755, r-sq=0.810535437461125\n",
      "intercept=-0.5277773305948623, slope=1.1231871654603125, r-sq=0.8107863137511139\n",
      "The flat income tax rate is: 0.4000\n",
      "The lump-sum transfer in terms of permanent income is: 0.6800\n",
      "The mean of individual wealth is 1.3623; the standard deviation is 0.6405593018138305; the median is 1.3931.\n",
      "The mean of individual market resources is 3.1083; the standard deviation is 0.8109795580122193; the median is 3.1736.\n",
      "The 90th percentile of individual wealth is 2.2362.\n",
      "The 80th percentile of individual wealth is 1.8488.\n",
      "The 70th percentile of individual wealth is 1.6569.\n",
      "The 60th percentile of individual wealth is 1.5434.\n",
      "The median of individual wealth is 1.3931.\n",
      "The 40th percentile of individual wealth is 1.0853.\n",
      "The 30th percentile of individual wealth is 0.9337.\n",
      "The 20th percentile of individual wealth is 0.7756.\n",
      "The 10th percentile of individual wealth is 0.5548.\n",
      "\n"
     ]
    },
    {
     "name": "stdout",
     "output_type": "stream",
     "text": [
      "intercept=-0.5288444895735478, slope=1.1237386173871755, r-sq=0.810535437461125\n",
      "intercept=-0.5277773305948623, slope=1.1231871654603125, r-sq=0.8107863137511139\n",
      "The flat income tax rate is: 0.4500\n",
      "The lump-sum transfer in terms of permanent income is: 0.7646\n",
      "The mean of individual wealth is 1.3410; the standard deviation is 0.5833032342349028; the median is 1.3700.\n",
      "The mean of individual market resources is 3.0860; the standard deviation is 0.7388351961625467; the median is 3.1445.\n",
      "The 90th percentile of individual wealth is 2.1357.\n",
      "The 80th percentile of individual wealth is 1.7904.\n",
      "The 70th percentile of individual wealth is 1.6173.\n",
      "The 60th percentile of individual wealth is 1.5121.\n",
      "The median of individual wealth is 1.3700.\n",
      "The 40th percentile of individual wealth is 1.0939.\n",
      "The 30th percentile of individual wealth is 0.9513.\n",
      "The 20th percentile of individual wealth is 0.8059.\n",
      "The 10th percentile of individual wealth is 0.6010.\n",
      "\n",
      "intercept=-0.5288444895735478, slope=1.1237386173871755, r-sq=0.810535437461125\n",
      "intercept=-0.5277773305948623, slope=1.1231871654603125, r-sq=0.8107863137511139\n",
      "The flat income tax rate is: 0.5000\n",
      "The lump-sum transfer in terms of permanent income is: 0.8491\n",
      "The mean of individual wealth is 1.3219; the standard deviation is 0.5267598218139468; the median is 1.3488.\n",
      "The mean of individual market resources is 3.0659; the standard deviation is 0.6677477677191371; the median is 3.1176.\n",
      "The 90th percentile of individual wealth is 2.0377.\n",
      "The 80th percentile of individual wealth is 1.7337.\n",
      "The 70th percentile of individual wealth is 1.5778.\n",
      "The 60th percentile of individual wealth is 1.4814.\n",
      "The median of individual wealth is 1.3488.\n",
      "The 40th percentile of individual wealth is 1.1034.\n",
      "The 30th percentile of individual wealth is 0.9700.\n",
      "The 20th percentile of individual wealth is 0.8390.\n",
      "The 10th percentile of individual wealth is 0.6495.\n",
      "\n",
      "intercept=-0.5288444895735478, slope=1.1237386173871755, r-sq=0.810535437461125\n",
      "intercept=-0.5277773305948623, slope=1.1231871654603125, r-sq=0.8107863137511139\n",
      "The flat income tax rate is: 0.5500\n",
      "The lump-sum transfer in terms of permanent income is: 0.9337\n",
      "The mean of individual wealth is 1.3049; the standard deviation is 0.4709080382935694; the median is 1.3329.\n",
      "The mean of individual market resources is 3.0480; the standard deviation is 0.5973544529624285; the median is 3.0976.\n",
      "The 90th percentile of individual wealth is 1.9401.\n",
      "The 80th percentile of individual wealth is 1.6779.\n",
      "The 70th percentile of individual wealth is 1.5378.\n",
      "The 60th percentile of individual wealth is 1.4522.\n",
      "The median of individual wealth is 1.3329.\n",
      "The 40th percentile of individual wealth is 1.1134.\n",
      "The 30th percentile of individual wealth is 0.9899.\n",
      "The 20th percentile of individual wealth is 0.8749.\n",
      "The 10th percentile of individual wealth is 0.6959.\n",
      "\n",
      "intercept=-0.5288444895735478, slope=1.1237386173871755, r-sq=0.810535437461125\n",
      "intercept=-0.5277773305948623, slope=1.1231871654603125, r-sq=0.8107863137511139\n",
      "The flat income tax rate is: 0.6000\n",
      "The lump-sum transfer in terms of permanent income is: 1.0182\n",
      "The mean of individual wealth is 1.2899; the standard deviation is 0.4158368452258919; the median is 1.3197.\n",
      "The mean of individual market resources is 3.0322; the standard deviation is 0.5278107660477036; the median is 3.0809.\n",
      "The 90th percentile of individual wealth is 1.8436.\n",
      "The 80th percentile of individual wealth is 1.6186.\n",
      "The 70th percentile of individual wealth is 1.4992.\n",
      "The 60th percentile of individual wealth is 1.4242.\n",
      "The median of individual wealth is 1.3197.\n",
      "The 40th percentile of individual wealth is 1.1239.\n",
      "The 30th percentile of individual wealth is 1.0107.\n",
      "The 20th percentile of individual wealth is 0.9111.\n",
      "The 10th percentile of individual wealth is 0.7510.\n",
      "\n",
      "intercept=-0.5288444895735478, slope=1.1237386173871755, r-sq=0.810535437461125\n",
      "intercept=-0.5277773305948623, slope=1.1231871654603125, r-sq=0.8107863137511139\n",
      "The flat income tax rate is: 0.6500\n",
      "The lump-sum transfer in terms of permanent income is: 1.1027\n",
      "The mean of individual wealth is 1.2766; the standard deviation is 0.36135567791924733; the median is 1.3065.\n",
      "The mean of individual market resources is 3.0182; the standard deviation is 0.45895175878646766; the median is 3.0643.\n",
      "The 90th percentile of individual wealth is 1.7529.\n",
      "The 80th percentile of individual wealth is 1.5552.\n",
      "The 70th percentile of individual wealth is 1.4605.\n",
      "The 60th percentile of individual wealth is 1.3961.\n",
      "The median of individual wealth is 1.3065.\n",
      "The 40th percentile of individual wealth is 1.1348.\n",
      "The 30th percentile of individual wealth is 1.0346.\n",
      "The 20th percentile of individual wealth is 0.9476.\n",
      "The 10th percentile of individual wealth is 0.8059.\n",
      "\n",
      "intercept=-0.5288444895735478, slope=1.1237386173871755, r-sq=0.810535437461125\n",
      "intercept=-0.5277773305948623, slope=1.1231871654603125, r-sq=0.8107863137511139\n",
      "The flat income tax rate is: 0.7000\n",
      "The lump-sum transfer in terms of permanent income is: 1.1873\n",
      "The mean of individual wealth is 1.2652; the standard deviation is 0.30781299157303355; the median is 1.2938.\n",
      "The mean of individual market resources is 3.0061; the standard deviation is 0.3909826989677497; the median is 3.0482.\n",
      "The 90th percentile of individual wealth is 1.6743.\n",
      "The 80th percentile of individual wealth is 1.4987.\n",
      "The 70th percentile of individual wealth is 1.4248.\n",
      "The 60th percentile of individual wealth is 1.3696.\n",
      "The median of individual wealth is 1.2938.\n",
      "The 40th percentile of individual wealth is 1.1471.\n",
      "The 30th percentile of individual wealth is 1.0593.\n",
      "The 20th percentile of individual wealth is 0.9847.\n",
      "The 10th percentile of individual wealth is 0.8638.\n",
      "\n",
      "intercept=-0.5288444895735478, slope=1.1237386173871755, r-sq=0.810535437461125\n",
      "intercept=-0.5277773305948623, slope=1.1231871654603125, r-sq=0.8107863137511139\n",
      "The flat income tax rate is: 0.7500\n",
      "The lump-sum transfer in terms of permanent income is: 1.2718\n",
      "The mean of individual wealth is 1.2556; the standard deviation is 0.25505636247846414; the median is 1.2822.\n",
      "The mean of individual market resources is 2.9959; the standard deviation is 0.32393688137019283; the median is 3.0335.\n",
      "The 90th percentile of individual wealth is 1.5946.\n",
      "The 80th percentile of individual wealth is 1.4489.\n",
      "The 70th percentile of individual wealth is 1.3897.\n",
      "The 60th percentile of individual wealth is 1.3440.\n",
      "The median of individual wealth is 1.2822.\n",
      "The 40th percentile of individual wealth is 1.1602.\n",
      "The 30th percentile of individual wealth is 1.0849.\n",
      "The 20th percentile of individual wealth is 1.0236.\n",
      "The 10th percentile of individual wealth is 0.9227.\n",
      "\n",
      "intercept=-0.5288444895735478, slope=1.1237386173871755, r-sq=0.810535437461125\n",
      "intercept=-0.5277773305948623, slope=1.1231871654603125, r-sq=0.8107863137511139\n",
      "The flat income tax rate is: 0.8000\n",
      "The lump-sum transfer in terms of permanent income is: 1.3563\n",
      "The mean of individual wealth is 1.2478; the standard deviation is 0.20292086959984096; the median is 1.2707.\n",
      "The mean of individual market resources is 2.9877; the standard deviation is 0.2577239580096911; the median is 3.0191.\n",
      "The 90th percentile of individual wealth is 1.5157.\n",
      "The 80th percentile of individual wealth is 1.4011.\n",
      "The 70th percentile of individual wealth is 1.3536.\n",
      "The 60th percentile of individual wealth is 1.3196.\n",
      "The median of individual wealth is 1.2707.\n",
      "The 40th percentile of individual wealth is 1.1741.\n",
      "The 30th percentile of individual wealth is 1.1123.\n",
      "The 20th percentile of individual wealth is 1.0622.\n",
      "The 10th percentile of individual wealth is 0.9827.\n",
      "\n",
      "intercept=-0.5288444895735478, slope=1.1237386173871755, r-sq=0.810535437461125\n",
      "intercept=-0.5277773305948623, slope=1.1231871654603125, r-sq=0.8107863137511139\n",
      "The flat income tax rate is: 0.8500\n",
      "The lump-sum transfer in terms of permanent income is: 1.4409\n",
      "The mean of individual wealth is 1.2415; the standard deviation is 0.15152449997491307; the median is 1.2597.\n",
      "The mean of individual market resources is 2.9811; the standard deviation is 0.19237219236114972; the median is 3.0052.\n",
      "The 90th percentile of individual wealth is 1.4395.\n",
      "The 80th percentile of individual wealth is 1.3553.\n",
      "The 70th percentile of individual wealth is 1.3197.\n",
      "The 60th percentile of individual wealth is 1.2972.\n",
      "The median of individual wealth is 1.2597.\n",
      "The 40th percentile of individual wealth is 1.1885.\n",
      "The 30th percentile of individual wealth is 1.1410.\n",
      "The 20th percentile of individual wealth is 1.1026.\n",
      "The 10th percentile of individual wealth is 1.0438.\n",
      "\n"
     ]
    },
    {
     "name": "stdout",
     "output_type": "stream",
     "text": [
      "intercept=-0.5288444895735478, slope=1.1237386173871755, r-sq=0.810535437461125\n",
      "intercept=-0.5277773305948623, slope=1.1231871654603125, r-sq=0.8107863137511139\n",
      "The flat income tax rate is: 0.9000\n",
      "The lump-sum transfer in terms of permanent income is: 1.5255\n",
      "The mean of individual wealth is 1.2373; the standard deviation is 0.10086260227471801; the median is 1.2498.\n",
      "The mean of individual market resources is 2.9766; the standard deviation is 0.12778456908404473; the median is 2.9926.\n",
      "The 90th percentile of individual wealth is 1.3677.\n",
      "The 80th percentile of individual wealth is 1.3137.\n",
      "The 70th percentile of individual wealth is 1.2893.\n",
      "The 60th percentile of individual wealth is 1.2758.\n",
      "The median of individual wealth is 1.2498.\n",
      "The 40th percentile of individual wealth is 1.2037.\n",
      "The 30th percentile of individual wealth is 1.1716.\n",
      "The 20th percentile of individual wealth is 1.1454.\n",
      "The 10th percentile of individual wealth is 1.1054.\n",
      "\n",
      "intercept=-0.5288444895735478, slope=1.1237386173871755, r-sq=0.810535437461125\n",
      "intercept=-0.5277773305948623, slope=1.1231871654603125, r-sq=0.8107863137511139\n",
      "The flat income tax rate is: 0.9500\n",
      "The lump-sum transfer in terms of permanent income is: 1.6102\n",
      "The mean of individual wealth is 1.2356; the standard deviation is 0.05031191420969742; the median is 1.2422.\n",
      "The mean of individual market resources is 2.9747; the standard deviation is 0.06354821655377278; the median is 2.9830.\n",
      "The 90th percentile of individual wealth is 1.3001.\n",
      "The 80th percentile of individual wealth is 1.2739.\n",
      "The 70th percentile of individual wealth is 1.2619.\n",
      "The 60th percentile of individual wealth is 1.2554.\n",
      "The median of individual wealth is 1.2422.\n",
      "The 40th percentile of individual wealth is 1.2193.\n",
      "The 30th percentile of individual wealth is 1.2032.\n",
      "The 20th percentile of individual wealth is 1.1898.\n",
      "The 10th percentile of individual wealth is 1.1699.\n",
      "\n"
     ]
    }
   ],
   "source": [
    "rates = 20\n",
    "tax_rates = np.linspace(0.00, 0.95, num=rates)\n",
    "\n",
    "v_at_p90_wealth = [] # Vector for value function of 90th percentile wealth agent at each level of flat income tax rate\n",
    "v_at_p80_wealth = [] # Vector for value function of 80th percentile wealth agent at each level of flat income tax rate\n",
    "v_at_p70_wealth = [] # Vector for value function of 70th percentile wealth agent at each level of flat income tax rate\n",
    "v_at_p60_wealth = [] # Vector for value function of 60th percentile wealth agent at each level of flat income tax rate\n",
    "v_at_median_wealth = [] # Vector for value function of median wealth agent at each level of flat income tax rate\n",
    "v_at_p40_wealth = [] # Vector for value function of 40th percentile wealth agent at each level of flat income tax rate\n",
    "v_at_p30_wealth = [] # Vector for value function of 30th percentile wealth agent at each level of flat income tax rate\n",
    "v_at_p20_wealth = [] # Vector for value function of 20th percentile wealth agent at each level of flat income tax rate\n",
    "v_at_p10_wealth = [] # Vector for value function of 10th percentile wealth agent at each level of flat income tax rate\n",
    "\n",
    "for tau in tax_rates:\n",
    "\n",
    "    AggShockAgent_tax_tau = deepcopy(AggShockAgent_tax)\n",
    "    AggShockAgent_tax_tau.tax_rate = tau\n",
    "    EconomyExample_tau = deepcopy(EconomyExample)\n",
    "    EconomyExample_tau.tax_rate = tau\n",
    "    AggShockAgent_tax_tau.get_economy_data(EconomyExample_tau)\n",
    "    EconomyExample_tau.make_AggShkHist()\n",
    "    AggShockAgent_tax_tau.solve()\n",
    "    AggShockAgent_tax_tau.initialize_sim()\n",
    "    AggShockAgent_tax_tau.simulate()\n",
    "    AggShockAgent_tax_tau.track_vars = ['aNrm','pLvl','mNrm','TranShk']\n",
    "    EconomyExample_tau.solve()\n",
    "    AggShockAgent_tax_tau.unpack('vFunc')\n",
    "\n",
    "    sim_market_resources_tau = AggShockAgent_tax_tau.state_now['mNrm']\n",
    "    sim_wealth_tau = AggShockAgent_tax_tau.state_now['aNrm']\n",
    "    \n",
    "    print(\"The flat income tax rate is: \" + mystr(AggShockAgent_tax_tau.tax_rate))\n",
    "\n",
    "    print(\"The lump-sum transfer in terms of permanent income is: \" + mystr(AggShockAgent_tax_tau.calc_transfers()))\n",
    "\n",
    "    print(\"The mean of individual wealth is \" + mystr(sim_wealth_tau.mean()) + \"; the standard deviation is \"\n",
    "          + str(sim_wealth_tau.std()) + \"; the median is \" + mystr(np.median(sim_wealth_tau)) + \".\")\n",
    "    print(\"The mean of individual market resources is \" + mystr(sim_market_resources_tau.mean()) + \"; the standard deviation is \"\n",
    "          + str(sim_market_resources_tau.std()) + \"; the median is \" + mystr(np.median(sim_market_resources_tau)) + \".\")\n",
    "    print(\"The 90th percentile of individual wealth is \" + mystr(np.percentile(sim_wealth_tau,90)) + \".\")\n",
    "    print(\"The 80th percentile of individual wealth is \" + mystr(np.percentile(sim_wealth_tau,80)) + \".\")\n",
    "    print(\"The 70th percentile of individual wealth is \" + mystr(np.percentile(sim_wealth_tau,70)) + \".\")\n",
    "    print(\"The 60th percentile of individual wealth is \" + mystr(np.percentile(sim_wealth_tau,60)) + \".\")\n",
    "    print(\"The median of individual wealth is \" + mystr(np.median(sim_wealth_tau)) + \".\")\n",
    "    print(\"The 40th percentile of individual wealth is \" + mystr(np.percentile(sim_wealth_tau,40)) + \".\")\n",
    "    print(\"The 30th percentile of individual wealth is \" + mystr(np.percentile(sim_wealth_tau,30)) + \".\")\n",
    "    print(\"The 20th percentile of individual wealth is \" + mystr(np.percentile(sim_wealth_tau,20)) + \".\")\n",
    "    print(\"The 10th percentile of individual wealth is \" + mystr(np.percentile(sim_wealth_tau,10)) + \".\\n\")\n",
    "    \n",
    "    # Tax rate as determined by agent (pre-tax)'s wealth and income\n",
    "    sim_p90_wealth_tau = np.percentile(sim_wealth_tau,90)\n",
    "    sim_p90_market_resources_tau = np.percentile(sim_market_resources_tau,90)\n",
    "    sim_p80_wealth_tau = np.percentile(sim_wealth_tau,80)\n",
    "    sim_p80_market_resources_tau = np.percentile(sim_market_resources_tau,80)\n",
    "    sim_p70_wealth_tau = np.percentile(sim_wealth_tau,70)\n",
    "    sim_p70_market_resources_tau = np.percentile(sim_market_resources_tau,70)\n",
    "    sim_p60_wealth_tau = np.percentile(sim_wealth_tau,60)\n",
    "    sim_p60_market_resources_tau = np.percentile(sim_market_resources_tau,60)\n",
    "    sim_median_wealth_tau = np.median(sim_wealth_tau)\n",
    "    sim_median_market_resources_tau = np.median(sim_market_resources_tau)\n",
    "    sim_p40_wealth_tau = np.percentile(sim_wealth_tau,40)\n",
    "    sim_p40_market_resources_tau = np.percentile(sim_market_resources_tau,40)\n",
    "    sim_p30_wealth_tau = np.percentile(sim_wealth_tau,30)\n",
    "    sim_p30_market_resources_tau = np.percentile(sim_market_resources_tau,30)\n",
    "    sim_p20_wealth_tau = np.percentile(sim_wealth_tau,20)\n",
    "    sim_p20_market_resources_tau = np.percentile(sim_market_resources_tau,20)\n",
    "    sim_p10_wealth_tau = np.percentile(sim_wealth_tau,10)\n",
    "    sim_p10_market_resources_tau = np.percentile(sim_market_resources_tau,10)\n",
    "    # Find value function of post-tax Xth-percentile wealth agent/voter, with X taking values from 10 to 90\n",
    "    # vFunc arguments: Each agent's level of market resources\n",
    "    # and median agent's capital-labor ratio (assumed as 1.0 for now)\n",
    "    v_at_p90_wealth_tau = AggShockAgent_tax_tau.vFunc[0](sim_p90_market_resources_tau, 1.0)\n",
    "    v_at_p80_wealth_tau = AggShockAgent_tax_tau.vFunc[0](sim_p80_market_resources_tau, 1.0)\n",
    "    v_at_p70_wealth_tau = AggShockAgent_tax_tau.vFunc[0](sim_p70_market_resources_tau, 1.0)\n",
    "    v_at_p60_wealth_tau = AggShockAgent_tax_tau.vFunc[0](sim_p60_market_resources_tau, 1.0)\n",
    "    v_at_median_wealth_tau = AggShockAgent_tax_tau.vFunc[0](sim_median_market_resources_tau, 1.0)\n",
    "    v_at_p40_wealth_tau = AggShockAgent_tax_tau.vFunc[0](sim_p40_market_resources_tau, 1.0)\n",
    "    v_at_p30_wealth_tau = AggShockAgent_tax_tau.vFunc[0](sim_p30_market_resources_tau, 1.0)\n",
    "    v_at_p20_wealth_tau = AggShockAgent_tax_tau.vFunc[0](sim_p20_market_resources_tau, 1.0)\n",
    "    v_at_p10_wealth_tau = AggShockAgent_tax_tau.vFunc[0](sim_p10_market_resources_tau, 1.0)\n",
    "\n",
    "    v_at_p90_wealth.append(v_at_p90_wealth_tau)\n",
    "    v_at_p80_wealth.append(v_at_p80_wealth_tau)\n",
    "    v_at_p70_wealth.append(v_at_p70_wealth_tau)\n",
    "    v_at_p60_wealth.append(v_at_p60_wealth_tau)\n",
    "    v_at_median_wealth.append(v_at_median_wealth_tau)\n",
    "    v_at_p40_wealth.append(v_at_p40_wealth_tau)\n",
    "    v_at_p30_wealth.append(v_at_p30_wealth_tau)\n",
    "    v_at_p20_wealth.append(v_at_p20_wealth_tau)\n",
    "    v_at_p10_wealth.append(v_at_p10_wealth_tau)"
   ]
  },
  {
   "cell_type": "code",
   "execution_count": 12,
   "id": "1ce75045-7f2e-4248-82bb-4f9a15d12303",
   "metadata": {},
   "outputs": [
    {
     "name": "stdout",
     "output_type": "stream",
     "text": [
      "[-0.18024185069296117, -0.18317580502027975, -0.1860943631876579, -0.18863797524560463, -0.19091539573104457, -0.19331515020503487, -0.19578321513387012, -0.19863371576492914, -0.20146974527626826, -0.20427111010720223, -0.20689967041648563, -0.208894082770684, -0.21057150198480734, -0.21225877485094602, -0.21389641664241943, -0.21538697127150086, -0.21687049297348124, -0.2183058299162628, -0.2196147425502362, -0.22062562463681654]\n",
      "-0.1802\n",
      "The optimal tax rate for the median voter is 0.0000.\n"
     ]
    }
   ],
   "source": [
    "# Create graph of value function of agent with median level of wealth for each tax rate from 0.00 to 0.95 (in increments of 0.05)\n",
    "print(v_at_median_wealth)\n",
    "print(mystr(np.max(v_at_median_wealth)))\n",
    "optimal_tax_rate = tax_rates[v_at_median_wealth.index(np.max(v_at_median_wealth))]\n",
    "print(\"The optimal tax rate for the median voter is \" + str(mystr(optimal_tax_rate)) + \".\")"
   ]
  },
  {
   "cell_type": "code",
   "execution_count": 13,
   "id": "c9f6f0a4-0155-4f25-b15b-9a26ccddc502",
   "metadata": {
    "scrolled": false,
    "tags": []
   },
   "outputs": [
    {
     "data": {
      "image/png": "[encoded data removed]",
      "text/plain": [
       "<Figure size 504x288 with 1 Axes>"
      ]
     },
     "metadata": {
      "needs_background": "light"
     },
     "output_type": "display_data"
    }
   ],
   "source": [
    "plt.figure(figsize=(7,4))\n",
    "plt.plot(tax_rates, v_at_median_wealth, 'b-', label = 'Value function of median wealth agent')\n",
    "plt.xlabel('Flat income tax rate')\n",
    "plt.ylabel('Value function of median wealth agent')\n",
    "plt.show()"
   ]
  },
  {
   "cell_type": "markdown",
   "id": "16fb31a4",
   "metadata": {},
   "source": [
    "The graph above shows the value function for the median wealth agent at tax rates from 0\\% to 95\\% (in 5\\% increments). We see that the value function generally decreases linearly.\n",
    "\n",
    "Ideally, the graph would show single-peaked preferences for the median wealth agent, with a roughly parabolic value function."
   ]
  },
  {
   "cell_type": "markdown",
   "id": "9e14a0e8-efab-4647-850e-a8909e965d09",
   "metadata": {},
   "source": [
    "### So far, the problem is that the median pre-tax wealth is already greater than the mean pre-tax wealth, and so the median voter most prefers an income tax rate of 0.\n",
    "\n",
    "What would be the optimal tax rate for agents with wealth / market resources of other percentiles?"
   ]
  },
  {
   "cell_type": "code",
   "execution_count": 14,
   "id": "29ebd769-075f-45a9-af40-23fcabd8b2d1",
   "metadata": {
    "scrolled": false
   },
   "outputs": [
    {
     "data": {
      "image/png": "[encoded data removed]",
      "text/plain": [
       "<Figure size 936x432 with 1 Axes>"
      ]
     },
     "metadata": {
      "needs_background": "light"
     },
     "output_type": "display_data"
    }
   ],
   "source": [
    "plt.figure(figsize=(13,6))\n",
    "plt.plot(tax_rates, v_at_p90_wealth, 'r--', label = 'Value function of p90 wealth agent')\n",
    "plt.plot(tax_rates, v_at_p80_wealth, 'g--', label = 'Value function of p80 wealth agent')\n",
    "plt.plot(tax_rates, v_at_p70_wealth, 'b--', label = 'Value function of p70 wealth agent')\n",
    "plt.plot(tax_rates, v_at_p60_wealth, 'y--', label = 'Value function of p60 wealth agent')\n",
    "plt.plot(tax_rates, v_at_median_wealth, 'k-', label = 'Value function of median wealth agent')\n",
    "plt.plot(tax_rates, v_at_p40_wealth, 'r-', label = 'Value function of p40 wealth agent')\n",
    "plt.plot(tax_rates, v_at_p30_wealth, 'g-', label = 'Value function of p30 wealth agent')\n",
    "plt.plot(tax_rates, v_at_p20_wealth, 'b-', label = 'Value function of p20 wealth agent')\n",
    "plt.plot(tax_rates, v_at_p10_wealth, 'y-', label = 'Value function of p10 wealth agent')\n",
    "\n",
    "plt.xlabel('Flat income tax rate')\n",
    "plt.ylabel('Value function of agents')\n",
    "plt.legend()\n",
    "plt.show()"
   ]
  },
  {
   "cell_type": "markdown",
   "id": "52a25c9d",
   "metadata": {},
   "source": [
    "The graph above shows the value function for an agent at the 10th, 20th, and up to 90th percentile of the wealth distribution at tax rates from 0\\% to 95\\% (in 5\\% increments). We see that the value function generally increases linearly for agents with relatively lower levels of wealth (up to the 40th percentile, or `p40 wealth agent`), but generally decreases linearly for agents with relatively higher levels of wealth (down to the 50th percnetile, or `median wealth agent`).\n",
    "\n",
    "Ideally, the graph would show single-peaked preferences for each agent, with the value functions being roughly parabolic and with their peaks at higher levels of tax rates for agents with relatively lower levels of wealth."
   ]
  },
  {
   "cell_type": "code",
   "execution_count": 15,
   "id": "064044b2-8897-4d41-bac0-c5f3fd10a199",
   "metadata": {},
   "outputs": [
    {
     "name": "stdout",
     "output_type": "stream",
     "text": [
      "The optimal tax rate for the 90th percentile voter is 0.0000.\n",
      "The optimal tax rate for the 80th percentile voter is 0.0000.\n",
      "The optimal tax rate for the 70th percentile voter is 0.0000.\n",
      "The optimal tax rate for the 60th percentile voter is 0.0000.\n",
      "The optimal tax rate for the median voter is 0.0000.\n",
      "The optimal tax rate for the 40th percentile voter is 0.9500.\n",
      "The optimal tax rate for the 30th percentile voter is 0.9500.\n",
      "The optimal tax rate for the 20th percentile voter is 0.9500.\n",
      "The optimal tax rate for the 10th percentile voter is 0.9500.\n"
     ]
    }
   ],
   "source": [
    "optimal_tax_rate_p90 = tax_rates[v_at_p90_wealth.index(np.max(v_at_p90_wealth))]\n",
    "optimal_tax_rate_p80 = tax_rates[v_at_p80_wealth.index(np.max(v_at_p80_wealth))]\n",
    "optimal_tax_rate_p70 = tax_rates[v_at_p70_wealth.index(np.max(v_at_p70_wealth))]\n",
    "optimal_tax_rate_p60 = tax_rates[v_at_p60_wealth.index(np.max(v_at_p60_wealth))]\n",
    "optimal_tax_rate_median = tax_rates[v_at_median_wealth.index(np.max(v_at_median_wealth))]\n",
    "optimal_tax_rate_p40 = tax_rates[v_at_p40_wealth.index(np.max(v_at_p40_wealth))]\n",
    "optimal_tax_rate_p30 = tax_rates[v_at_p30_wealth.index(np.max(v_at_p30_wealth))]\n",
    "optimal_tax_rate_p20 = tax_rates[v_at_p20_wealth.index(np.max(v_at_p20_wealth))]\n",
    "optimal_tax_rate_p10 = tax_rates[v_at_p10_wealth.index(np.max(v_at_p10_wealth))]\n",
    "\n",
    "print(\"The optimal tax rate for the 90th percentile voter is \" + str(mystr(optimal_tax_rate_p90)) + \".\")\n",
    "print(\"The optimal tax rate for the 80th percentile voter is \" + str(mystr(optimal_tax_rate_p80)) + \".\")\n",
    "print(\"The optimal tax rate for the 70th percentile voter is \" + str(mystr(optimal_tax_rate_p70)) + \".\")\n",
    "print(\"The optimal tax rate for the 60th percentile voter is \" + str(mystr(optimal_tax_rate_p60)) + \".\")\n",
    "print(\"The optimal tax rate for the median voter is \" + str(mystr(optimal_tax_rate_median)) + \".\")\n",
    "print(\"The optimal tax rate for the 40th percentile voter is \" + str(mystr(optimal_tax_rate_p40)) + \".\")\n",
    "print(\"The optimal tax rate for the 30th percentile voter is \" + str(mystr(optimal_tax_rate_p30)) + \".\")\n",
    "print(\"The optimal tax rate for the 20th percentile voter is \" + str(mystr(optimal_tax_rate_p20)) + \".\")\n",
    "print(\"The optimal tax rate for the 10th percentile voter is \" + str(mystr(optimal_tax_rate_p10)) + \".\")"
   ]
  },
  {
   "cell_type": "markdown",
   "id": "2562716a",
   "metadata": {},
   "source": [
    "So far, for agents in different percentiles of wealth still prefer a flat income tax rate of either zero or the maximum value (here, 0.95), which shows that the code so far does not result in single-peaked preferences of voters for tax rates. However, we do find that the optimal tax rate for agents with lower levels of wealth relative to others prefer a higher tax rate. This somewhat confirms that voters with lower levels of wealth will prefer higher levels of taxation and redistribution, and vice versa.\n",
    "\n",
    "In this simulation, we find that the bottom 40 percent of voters would vote for (nearly) full redistribution, whereas the top 60 percent would vote for zero redistribution. This would lead to a politically determined tax rate of 0\\%."
   ]
  },
  {
   "cell_type": "markdown",
   "id": "a7e521a4",
   "metadata": {},
   "source": [
    "### Things to Improve Upon\n",
    "\n",
    "My replication, so far, is able to show how voters/agents with lower levels of wealth prefer a higher flat income tax rate and thus a higher level of redistribution than voters/agents with higher levels of wealth, thus satisfying a crucial result from Romer (1975) and Krusell and Rios-Rull (1999).\n",
    "\n",
    "However, my still fails to show single-peaked preferences for the flat income tax rate and thus the level of income redistribution of each voter/agent at their respective level of wealth / market resources.\n",
    "\n",
    "In further simulations (by changing parameter values), I find that changing the value of the CRRA coefficient or the standard deviation of the transitory idiosyncratic income shock does not substantially change the results of this replication in its current state: still not enough voters (around 40\\%) prefer a positive tax rate, resulting in zero redistribution.\n",
    "\n",
    "A significant part of the problem is that somehow the specifications so far lead to the median voter facing a post-tax decrease in market resources, thereby preferring to vote against any positive tax rate. The solution may lie in altering the parameters to the point where the lump-sum transfers that the median-wealth voter gets is greater than the loss in output / median-wealth voter's wealth through distortionary taxation.\n",
    "\n",
    "Alternatively, it may just be that the current `AggShockConsumerType` class simply assumes an exogenous labor supply of 1 (both for each agent and, in aggregate, mean). With an endogenous labor supply, a higher income tax rate would lower each agent's labor supply and increase each agent's leisure, thus leading to a higher value of the value function at higher tax rates than currently from the code. That may increase the optimal tax rate for some agents (particularly for the median agent), although I am not sure whether that would lead to single-peaked preferences as opposed to the linear shape of the curves above that we see right now."
   ]
  }
 ],
 "metadata": {
  "kernelspec": {
   "display_name": "Python 3 (ipykernel)",
   "language": "python",
   "name": "python3"
  },
  "language_info": {
   "codemirror_mode": {
    "name": "ipython",
    "version": 3
   },
   "file_extension": ".py",
   "mimetype": "text/x-python",
   "name": "python",
   "nbconvert_exporter": "python",
   "pygments_lexer": "ipython3",
   "version": "3.9.12"
  }
 },
 "nbformat": 4,
 "nbformat_minor": 5
}
