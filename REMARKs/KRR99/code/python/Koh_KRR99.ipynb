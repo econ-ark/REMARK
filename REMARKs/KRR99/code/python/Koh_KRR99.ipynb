{
 "cells": [
  {
   "cell_type": "markdown",
   "id": "d00bc7f1",
   "metadata": {},
   "source": [
    "# Replication Plans for Krusell and Rios-Rull (1999)\n",
    "### \"On the Size of U.S. Government: Political Economy in the Neoclassical Growth Model\", AER 89 (5) p.1156-1181, 1999\n",
    "\n",
    "## Kyung Woong Koh (May 17, 2022)"
   ]
  },
  {
   "cell_type": "markdown",
   "id": "266ca20b",
   "metadata": {
    "jp-MarkdownHeadingCollapsed": true,
    "tags": []
   },
   "source": [
    "### Introduction: Part of A Serious Attempt at Political Economy and Macroeconomics\n",
    "\n",
    "- Political economy: \"How does the macroeconomy how are policies affected?\"\n",
    "- Macroeconomics: \"How do policies affect the macroeconomy?\"\n",
    "- A serious discussion in each discipline eventually requires a dynamic model that answers the other discipline's questions (ex. \"Is this tax cut exogenous?\")\n",
    "\n",
    "Krusell and Rios-Rull 1999 (henceforth KRR): Dynamic macroeconomic model with political economic mechanism for determining income tax rate\n",
    "- Income tax rate is determined by votes of all agents in the economy, as in Meltzer and Richard (1981)\n",
    "\n",
    "Original goal of KRR, inspired from Meltzer and Richard (1981), is to predict the size of total transfers (to GDP ratio) and therefore the \"size of the U.S. government\" from political economy theory\n",
    "- \"The total size of transfers predicted by our political-economy model is quite close to the size of transfers in the data.\" [About 30\\% in the data and KRR's dynamic model]\n",
    "\n",
    "Since then, this strand of literature (ex. political business cycles) has focused on the political economy question rather than the macroeconomic question\n",
    "- Most of macroeconomics and its modelling until now has been homogeneous agents\n",
    "- But politics can't exist among homogeneous agents (especially with homogeneous preferences)\n",
    "- Macro deals in means, but political economy deals in medians\n",
    "\n",
    "With heterogeneous agent macro, now we can discuss models with different agents, with different levels of income/wealth and therefore different preferred levels of taxation (poor people want more taxation and more redistribution than rich people do)\n",
    "\n",
    "With HARK, we can go further!"
   ]
  },
  {
   "cell_type": "markdown",
   "id": "c72eefeb",
   "metadata": {},
   "source": [
    "### My Goals from Replication of KRR\n",
    "1. Compare resulting size of transfers (\"size of government\") from replication with KRR\n",
    "2. Look at effects of parameter shocks (permanent income, transitory income, etc.) to size of transfers\n",
    "- Does a higher standard deviation of permanent or transitory income lead to a greater size of transfers preferred by the \"median\" voter? (\"Social insurance\")\n",
    "- Does a negative aggregate productivity shock lead to a greater size of transfers preferred by the \"median\" voter? Does the existence of idiosyncratic shocks change this result?"
   ]
  },
  {
   "cell_type": "markdown",
   "id": "bc77d326",
   "metadata": {
    "jp-MarkdownHeadingCollapsed": true,
    "tags": []
   },
   "source": [
    "### Description of the KRR Economy\n",
    "\n",
    "1. Economy is composed of heterogeneous consumers with individual labor productivity $\\varepsilon_{t}$ and assets $a_{t}$, receive at labor wage rate $w_{t}$ and capital rental rate $r_{t}$, pay $\\tau_{t}$ of their total income in tax, consume $c_{t}$ and save income towards individual wealth $a_{t+1}$\n",
    "\\begin{align}\n",
    "    &\\max \\sum_{t=0}^{\\infty} \\beta^{t} u(c_{t}, l_{t}) \\text{ s.t. } \\\\\n",
    "    c_{t} + a_{t+1} &= a_{t}(1+r_{t}(1-\\tau_{t})) + w_{t}\\varepsilon_{t}(1-l_{t})(1-\\tau_{t}) + T_{t} \\\\\n",
    "    u(c,l) &= ((c^{\\alpha}l^{1-\\alpha})^{1-\\sigma}-1)/(1-\\sigma)\n",
    "\\end{align}\n",
    "\n",
    "\n",
    "2. Aggregate labor and aggregate capital are normalized as follows:\n",
    "\\begin{align}\n",
    "    \\sum_{i}\\varepsilon_{it} &= N \\\\\n",
    "    \\sum_{i}a_{it} &= K\n",
    "\\end{align}\n",
    "\n",
    "\n",
    "3. Resource constraint of economy is\n",
    "\\begin{equation}\n",
    "    C_{t} + K_{t+1} - K_{t}(1-\\delta) + g_{t} = F(K_{t},N_{t})\n",
    "\\end{equation}\n",
    "where $F(K,N)$ is the aggregate production function\n",
    "\n",
    "\n",
    "4. Income taxation is redistributed as equal lump-sum transfers (after accounting for government consumption $g_{t}$)\n",
    "\\begin{equation}\n",
    "    g_{t} + T_{t} = \\tau_{t}(K_{t}r_{t} + N_{t}w_{t})\n",
    "\\end{equation}\n",
    "\n",
    "\n",
    "5. Each consumer periodically votes for the tax rate $\\tau_{t}$ that maximizes his/her equilibrium utility, given the asset (\"wealth\") distribution $A_{t}=\\{a_{it}\\}$:\n",
    "\\begin{align}\n",
    "    \\tau_{t+1} &= \\Psi(A_{t},\\tau_{t}) \\\\\n",
    "    A_{t+1} &= H(A_{t},\\tau_{t})\n",
    "\\end{align}\n",
    "where $\\Psi(A,\\tau)$ is the transition function of current asset distribution $A_{t}$ and tax rate $\\tau_{t}$ to the new politically determined tax rate $\\tau_{t+1}$ (political equilibrium), and $H(A,\\tau)$ is the transition function to the next period's asset distribution $A_{t+1}$ (economic equilibrium).\n",
    "\n",
    "Our goal is to find the politico-economic equilibrium $\\tau  =\\Psi(A,\\tau)$ and $A = H(A,\\tau)$"
   ]
  },
  {
   "cell_type": "markdown",
   "id": "51a7993d",
   "metadata": {},
   "source": [
    "### What is already possible in HARK\n",
    "\n",
    "I would use the $\\texttt{AggShockConsumerType}$ and $\\texttt{CobbDouglasEconomy}$ classes under $\\texttt{HARK.ConsumptionSaving.ConsAggShockModel}$, which provides the tools to compute  both consumption and labor choices in an economy with Cobb-Douglas production of aggregate labor and aggregate capital"
   ]
  },
  {
   "cell_type": "markdown",
   "id": "490dfc60-1ddf-4eb1-91ee-8a5e72becebd",
   "metadata": {
    "tags": []
   },
   "source": [
    "### To Do ###\n",
    "\n",
    "- Use \"market\" class for updating tax rates (partial eq. version, solve for R and w using Cobb-Douglas, etc.)\n",
    "(https://github.com/econ-ark/DistributionOfWealthMPC)\n",
    "- 1. compute with tax rates\n",
    "- 2. compute with different tax rates\n",
    "- 3. utility of different groups with different tax rates\n",
    "\n",
    "Distribution of wealth / permanent income / preferences"
   ]
  },
  {
   "cell_type": "markdown",
   "id": "3c81deb7-bc45-464f-ab4b-157b5d4e10a2",
   "metadata": {
    "tags": []
   },
   "source": [
    "<!-- **Krusell and Rios-Rull's parameters for income and wealth distribution:**\n",
    "\n",
    "Sorted by Wealth\n",
    "\n",
    "<p>Group 1 (49%): Household wealth = 0.30, Earnings = 0.57<br>\n",
    "Group 2 (2%): Household wealth = 1, Earnings = 1<br>\n",
    "Group 3 (49%): Household wealth = 4.78, Earnings = 1.91</p>\n",
    "\n",
    "<p>Sorted by Earnings<br>\n",
    "Group 1 (49%): Household wealth = 0.55, Earnings = 0.24<br>\n",
    "Group 2 (2%): Household wealth = 1, Earnings = 1<br>\n",
    "Group 3 (49%): Household wealth = 2.93, Earnings = 2.94</p>\n",
    "\n",
    "*Greater inequality in household wealth than in household earnings* -->"
   ]
  },
  {
   "cell_type": "markdown",
   "id": "14369395-a683-4a4c-8099-6085888e322b",
   "metadata": {},
   "source": [
    "**Parameters in KRR99**\n",
    "<p>beta = 0.96 (Annual discount rate)<br>\n",
    "alpha = 0.429 (Utility weight of consumption)<br>\n",
    "sigma = 4 (Risk aversion parameter)<br>\n",
    "delta = 0.05 (Depreciation rate)<br>\n",
    "theta = 0.36 (Share of capital income)<br>\n",
    "Wealth-output ratio = 3.3<br>\n",
    "r = 0.06 (Pre-tax)<br>\n",
    "C/Y = 0.638 (Consumption-output ratio)<br>\n",
    "g/Y = 0.199 (Government spending-output ratio)<br>\n",
    "N = 0.34 (Labor hours)</p>"
   ]
  },
  {
   "cell_type": "markdown",
   "id": "534eb96b-d392-406f-b3a4-dac79078948a",
   "metadata": {},
   "source": [
    "**Progress:**\n",
    "1. *Devised code for AggShockConsumerType_tax class*: Inherits from AggShockConsumerType class and introduces flat income tax rate (\"tax_rate\")\n",
    "2. *Included code for calculating value function (vFunc) in AggShockConsumerType_tax class*: This is to calculate the value function of the median agent (as in the agent with the median level of wealth)\n",
    "3. *Devised code for finding median agent's preferred tax rate*: For loop process for calculating post-tax(-and-transfer) value function of agent with median level of wealth"
   ]
  },
  {
   "cell_type": "markdown",
   "id": "8d215140-cbbf-4dc5-a6dd-ece0c88e5a4e",
   "metadata": {},
   "source": [
    "**Stumbling Blocks:**\n",
    "1. *Updating agents' asset levels after taxes and transfers*: I tried multiplying the transitory income shock with (1-tax_rate), but then I had difficulty in locating exactly which part of the code updates individuals' asset levels (aLvl) or normalized asset levels (aNrm). So far, the asset levels (and therefore aggregate capital stock) of the agents are exactly the same for each level of tax rate. Once I figure this part out, the value function for the median agent in each tax rate would be accurate, and hopefully show that the median (wealth) agent's value function is maximized at some middle tax rate between 0 (no redistribution and no distortive taxation) and 1 (total redistribution and totally distortive taxation)"
   ]
  },
  {
   "cell_type": "code",
   "execution_count": 1,
   "id": "ac322ba6-510b-438b-837e-dde9a4ee2ee9",
   "metadata": {
    "tags": []
   },
   "outputs": [],
   "source": [
    "import HARK\n",
    "import sys\n",
    "from HARK.ConsumptionSaving.ConsAggShockModel import (AggShockConsumerType, CobbDouglasEconomy, init_agg_shocks,\n",
    "    init_cobb_douglas,\n",
    "    solveConsAggShock,\n",
    "    AggregateSavingRule\n",
    ")\n",
    "\n",
    "from ConsAggShockModel_tax import *\n",
    "\n",
    "import matplotlib.pyplot as plt\n",
    "import numpy as np\n",
    "import pandas as pd\n",
    "from copy import deepcopy\n",
    "from HARK.utilities import plot_funcs, make_figs\n",
    "import statsmodels.api as sm\n",
    "from time import process_time\n",
    "def mystr(number):\n",
    "    return \"{:.4f}\".format(number)"
   ]
  },
  {
   "cell_type": "markdown",
   "id": "fffc487a",
   "metadata": {
    "pycharm": {
     "name": "#%% md\n"
    }
   },
   "source": [
    "I first set the parameters for each agent as follows, with the addition of a flat income tax rate (`tax_rate`):"
   ]
  },
  {
   "cell_type": "code",
   "execution_count": 2,
   "id": "c9645f21-92f8-436e-b794-ea26aa0f29de",
   "metadata": {
    "tags": []
   },
   "outputs": [],
   "source": [
    "# Define a dictionary with calibrated parameters\n",
    "AgentParameters = {\n",
    "    \"CRRA\":4.00,                    # Coefficient of relative risk aversion\n",
    "    \"DiscFac\": 0.96,             # Default intertemporal discount factor; dummy value, will be overwritten\n",
    "    \"Rfree\": 1.06, # Survival probability,\n",
    "    \"PermShkCount\" : 1,                    # Number of points in discrete approximation to permanent income shocks - no shocks of this kind!\n",
    "    \"TranShkCount\" : 5,                    # Number of points in discrete approximation to transitory income shocks - no shocks of this kind!\n",
    "    \"PermShkStd\" : [0.0],                   # Standard deviation of log permanent income shocks - no shocks of this kind!\n",
    "    \"TranShkStd\" : [0.5],                   # Standard deviation of log transitory income shocks\n",
    "    \"UnempPrb\" : 0.0,                      # Probability of unemployment while working - no shocks of this kind!\n",
    "    \"UnempPrbRet\" : 0.00,                  # Probability of \"unemployment\" while retired - no shocks of this kind!\n",
    "    \"IncUnemp\" : 0.0,                      # Unemployment benefits replacement rate\n",
    "    \"IncUnempRet\" : 0.0,                   # \"Unemployment\" benefits when retired\n",
    "    \"T_retire\" : 0,                        # Period of retirement (0 --> no retirement)\n",
    "    \"BoroCnstArt\" : 0.0,                   # Artificial borrowing constraint; imposed minimum level of end-of period assets\n",
    "    \"PermGroFac\" : [1.0],                  # Permanent income growth factor\n",
    "\n",
    "    \"CubicBool\":False,\n",
    "    \"vFuncBool\":True,\n",
    "    \"aXtraMin\":0.00001,  # Minimum end-of-period assets in grid\n",
    "    \"aXtraMax\":40,  # Maximum end-of-period assets in grid\n",
    "    \"aXtraCount\":32,  # Number of points in assets grid\n",
    "    \"aXtraExtra\":[None],\n",
    "    \"aXtraNestFac\":3,  # Number of times to 'exponentially nest' when constructing assets grid\n",
    "    \"LivPrb\":[1.0],  # Survival probability\n",
    "    # \"LivPrb\":[1.0 - 1.0/160.0],  # Survival probability\n",
    "\n",
    "    \"cycles\":0,\n",
    "    \"T_cycle\":1,\n",
    "    'T_sim':50,  # Number of periods to simulate (idiosyncratic shocks model, perpetual youth)\n",
    "    'T_age': 100,\n",
    "    'IndL': 1.0,  # Labor supply per individual (constant)\n",
    "    'aNrmInitMean':np.log(0.00001),\n",
    "    'aNrmInitStd':0.0,\n",
    "    'pLvlInitMean':0.0,\n",
    "    'pLvlInitStd':0.0,\n",
    "    'AgentCount':100,\n",
    "    'MgridBase': np.array([0.1,0.3,0.6,\n",
    "                           0.8,0.9,0.98,\n",
    "                           1.0,1.02,1.1,\n",
    "                           1.2,1.6,2.0,\n",
    "                           3.0]),          # Grid of capital-to-labor-ratios (factors)\n",
    "    'PermGroFacAgg': 1.0,\n",
    "\n",
    "    # Variables necessary for AggShockConsumerType_tax model\n",
    "    'tax_rate':0.00,\n",
    "\n",
    "    # Parameters describing the income process\n",
    "    # New Parameters that we need now\n",
    "    'PermShkAggStd' : [0.0],           # Standard deviation of log aggregate permanent shocks by state. No continous shocks in a state.\n",
    "    'TranShkAggStd' : [0.0],           # Standard deviation of log aggregate transitory shocks by state. No continuous shocks in a state.\n",
    "}"
   ]
  },
  {
   "cell_type": "code",
   "execution_count": 3,
   "id": "6b59cab9-deec-4cd2-8ff5-7f13297dc6b8",
   "metadata": {},
   "outputs": [],
   "source": [
    "# Code source: https://github.com/econ-ark/HARK/blob/master/examples/ConsumptionSaving/example_ConsAggShockModel.ipynb\n",
    "# See also, on HARK.core.Market: https://hark.readthedocs.io/en/latest/reference/tools/core.html#HARK.core.Market\n",
    "# For details on Krusell-Smith model in HARK: https://github.com/econ-ark/KrusellSmith/blob/master/Code/Python/KrusellSmith.ipynb\n",
    "# See also: https://github.com/econ-ark/HARK/blob/master/examples/HowWeSolveIndShockConsumerType/HowWeSolveIndShockConsumerType.ipynb\n",
    "\n",
    "AggShockAgent_tax = AggShockConsumerType_tax(**AgentParameters)"
   ]
  },
  {
   "cell_type": "markdown",
   "id": "167dacd2",
   "metadata": {
    "pycharm": {
     "name": "#%% md\n"
    }
   },
   "source": [
    "I create a new Market class, CobbDouglasEconomy_tax, to account for the fact that flat income tax rates have distortionary effects on output and therefore income. The trade-off is that higher tax rates lead to higher transfers to the median voter, but also incur greater productive inefficiencies and therefore decreases aggregate output and thus aggregate income.\n"
   ]
  },
  {
   "cell_type": "code",
   "execution_count": 4,
   "id": "d476e500-624c-4bc8-ae78-4d22901fd8dd",
   "metadata": {
    "tags": []
   },
   "outputs": [],
   "source": [
    "EconomyExample = CobbDouglasEconomy_tax(agents=[AggShockAgent_tax], PermShkAggCount = 1, TranShkAggCount = 1,\n",
    "                                    PermShkAggStd = 0.0, TranShkAggStd = 0.0, DeprFac = 0.025, PermGroFacAgg = 1.0,\n",
    "                                    AggregateL = 1.0, CapShare = 0.36, CRRA = 4.0, tolerance = 0.01, tax_rate = 0.00)"
   ]
  },
  {
   "cell_type": "markdown",
   "id": "183e4573",
   "metadata": {},
   "source": [
    "I then solve for the model."
   ]
  },
  {
   "cell_type": "code",
   "execution_count": 5,
   "id": "f5592aac-9677-4951-9c3c-8b675d7c971f",
   "metadata": {},
   "outputs": [],
   "source": [
    "# Have the consumers inherit relevant objects from the economy\n",
    "AggShockAgent_tax.get_economy_data(EconomyExample)\n",
    "\n",
    "# Simulate a history of aggregate shocks\n",
    "EconomyExample.make_AggShkHist()\n",
    "\n",
    "# Solve for aggregate shock consumer model\n",
    "AggShockAgent_tax.solve()\n",
    "AggShockAgent_tax.track_vars = ['pLvl','TranShk']"
   ]
  },
  {
   "cell_type": "code",
   "execution_count": 6,
   "id": "71c66623-6ff5-485a-8815-431c2be0764a",
   "metadata": {
    "scrolled": true,
    "tags": []
   },
   "outputs": [
    {
     "name": "stdout",
     "output_type": "stream",
     "text": [
      "Now solving for the equilibrium of a Cobb-Douglas economy.  This might take a few minutes...\n",
      "intercept=-0.4105444080600119, slope=1.125591755269752, r-sq=0.8751220283100419\n",
      "intercept=-0.5773773336944872, slope=1.1758308616806983, r-sq=0.7832480696460743\n",
      "intercept=-0.6143577175394321, slope=1.1769354543417325, r-sq=0.7775438351465407\n",
      "intercept=-0.6007363390178455, slope=1.1626718040790442, r-sq=0.7970695854316208\n",
      "intercept=-0.5690387254827868, slope=1.144596971056191, r-sq=0.8063777583962056\n",
      "intercept=-0.5468314979996045, slope=1.1330227287075487, r-sq=0.8063809444926041\n",
      "intercept=-0.5361412473190595, slope=1.1275020394502473, r-sq=0.8088097539216079\n",
      "intercept=-0.5311542259396487, slope=1.1249304315188215, r-sq=0.8099901725510611\n"
     ]
    }
   ],
   "source": [
    "# Solve the \"macroeconomic\" model by searching for a \"fixed point dynamic rule\"\n",
    "print(\"Now solving for the equilibrium of a Cobb-Douglas economy.  This might take a few minutes...\")\n",
    "EconomyExample.solve()"
   ]
  },
  {
   "cell_type": "markdown",
   "id": "f56a211b",
   "metadata": {
    "pycharm": {
     "name": "#%% md\n"
    }
   },
   "source": [
    "Consumption function at each aggregate market resources-to-labor ratio gridpoint"
   ]
  },
  {
   "cell_type": "code",
   "execution_count": 7,
   "id": "6b247866",
   "metadata": {},
   "outputs": [
    {
     "name": "stdout",
     "output_type": "stream",
     "text": [
      "Consumption function at each aggregate market resources-to-labor ratio gridpoint:\n"
     ]
    },
    {
     "data": {
      "image/png": "[encoded data removed]",
      "text/plain": [
       "<Figure size 432x288 with 1 Axes>"
      ]
     },
     "metadata": {
      "needs_background": "light"
     },
     "output_type": "display_data"
    }
   ],
   "source": [
    "AggShockAgent_tax.unpack('cFunc')\n",
    "\n",
    "print(\"Consumption function at each aggregate market resources-to-labor ratio gridpoint:\")\n",
    "m_grid = np.linspace(0, 5, 200)\n",
    "for M in AggShockAgent_tax.Mgrid.tolist():\n",
    "    mMin = AggShockAgent_tax.solution[0].mNrmMin(M)\n",
    "    c_at_this_M = AggShockAgent_tax.cFunc[0](m_grid + mMin, M * np.ones_like(m_grid))\n",
    "    plt.plot(m_grid + mMin, c_at_this_M)\n",
    "plt.show()"
   ]
  },
  {
   "cell_type": "markdown",
   "id": "8e041354",
   "metadata": {},
   "source": [
    "Value function at each aggregate market resources-to-labor ratio gridpoint"
   ]
  },
  {
   "cell_type": "code",
   "execution_count": 8,
   "id": "3141f9c5",
   "metadata": {
    "jupyter": {
     "outputs_hidden": false
    },
    "pycharm": {
     "name": "#%%\n"
    }
   },
   "outputs": [
    {
     "name": "stdout",
     "output_type": "stream",
     "text": [
      "Value function at each aggregate market resources-to-labor ratio gridpoint:\n"
     ]
    },
    {
     "data": {
      "image/png": "[encoded data removed]",
      "text/plain": [
       "<Figure size 432x288 with 1 Axes>"
      ]
     },
     "metadata": {
      "needs_background": "light"
     },
     "output_type": "display_data"
    }
   ],
   "source": [
    "AggShockAgent_tax.unpack('vFunc')\n",
    "\n",
    "print(\"Value function at each aggregate market resources-to-labor ratio gridpoint:\")\n",
    "m_grid = np.linspace(0, 5, 200)\n",
    "for M in AggShockAgent_tax.Mgrid.tolist():\n",
    "    mMin = AggShockAgent_tax.solution[0].mNrmMin(M)+0.5\n",
    "    v_at_this_M = AggShockAgent_tax.vFunc[0](m_grid + mMin, M * np.ones_like(m_grid))\n",
    "    plt.plot(m_grid + mMin, v_at_this_M)\n",
    "plt.show()"
   ]
  },
  {
   "cell_type": "markdown",
   "id": "8f2e560d",
   "metadata": {
    "pycharm": {
     "name": "#%% md\n"
    }
   },
   "source": [
    "Summary Statistics for Agents' Wealth and Income "
   ]
  },
  {
   "cell_type": "code",
   "execution_count": 9,
   "id": "bf1f7e9b-1ee3-43a4-a313-264e13c90dd0",
   "metadata": {
    "tags": []
   },
   "outputs": [
    {
     "name": "stdout",
     "output_type": "stream",
     "text": [
      "The lump-sum transfer in terms of permanent income is: 0.0\n",
      "The mean of individual market resources is 17.209977576559048; the standard deviation is 4.400319630466238; the median is 16.418608939597988.\n",
      "The mean of individual wealth is 14.981784923214564; the standard deviation is 4.153142622717656; the median is 14.234446679033013.\n",
      "The median level of market resources is: 16.418608939597988\n"
     ]
    }
   ],
   "source": [
    "# Normalized market resources of each agent\n",
    "sim_market_resources = AggShockAgent_tax.state_now['mNrm']\n",
    "\n",
    "# Normalized assets of each agent\n",
    "sim_wealth = AggShockAgent_tax.state_now['aNrm']\n",
    "\n",
    "# Summary Statistics\n",
    "\n",
    "# Lump-sum transfers are calculated through AggShockConsumerType_tax.calc_transfers() method:\n",
    "print(\"The lump-sum transfer in terms of permanent income is: \" + str(AggShockAgent_tax.calc_transfers()))\n",
    "\n",
    "print(\"The mean of individual market resources is \" + str(sim_market_resources.mean()) + \"; the standard deviation is \"\n",
    "      + str(sim_market_resources.std()) + \"; the median is \" + str(np.median(sim_market_resources)) + \".\")\n",
    "print(\"The mean of individual wealth is \" + str(sim_wealth.mean()) + \"; the standard deviation is \"\n",
    "      + str(sim_wealth.std()) + \"; the median is \" + str(np.median(sim_wealth)) + \".\")\n",
    "\n",
    "print(\"The median level of market resources is: \" + str(np.median(AggShockAgent_tax.state_now['mNrm'])))"
   ]
  },
  {
   "cell_type": "markdown",
   "id": "47704b66",
   "metadata": {},
   "source": [
    "So far, the model does not seem to generate enough wealth inequality, as seen by the graph of the Lorenz curve of the wealth distribution below:"
   ]
  },
  {
   "cell_type": "code",
   "execution_count": 10,
   "id": "4a61f5a0-c60e-41bd-ada6-0efe880cb0b1",
   "metadata": {},
   "outputs": [
    {
     "data": {
      "image/png": "[encoded data removed]",
      "text/plain": [
       "<Figure size 432x288 with 1 Axes>"
      ]
     },
     "metadata": {
      "needs_background": "light"
     },
     "output_type": "display_data"
    }
   ],
   "source": [
    "# Lorenz Curve of Wealth Distribution\n",
    "\n",
    "from HARK.datasets import load_SCF_wealth_weights\n",
    "from HARK.utilities import get_lorenz_shares, get_percentiles\n",
    "\n",
    "SCF_wealth, SCF_weights = load_SCF_wealth_weights()\n",
    "\n",
    "pctiles = np.linspace(0.001,0.999,200)\n",
    "\n",
    "SCF_Lorenz_points = get_lorenz_shares(SCF_wealth,weights=SCF_weights,percentiles=pctiles)\n",
    "sim_Lorenz_points = get_lorenz_shares(sim_wealth,percentiles=pctiles)\n",
    "plt.plot(pctiles,pctiles,'-r')\n",
    "plt.plot(pctiles,SCF_Lorenz_points,'--k')\n",
    "plt.plot(pctiles,sim_Lorenz_points,'-b')\n",
    "plt.xlabel('Percentile of net worth')\n",
    "plt.ylabel('Cumulative share of wealth')\n",
    "plt.show(block=False)"
   ]
  },
  {
   "cell_type": "markdown",
   "id": "1f575e26",
   "metadata": {
    "pycharm": {
     "name": "#%% md\n"
    }
   },
   "source": [
    "The method for determining the optimal tax rate for the median voter is as follows:\n",
    "\n",
    "1. Create a grid of tax rates.\n",
    "2. For each tax rate, use the procedure above to compute each agent's normalized market resources (and asset).\n",
    "3. Given the array of normalized market resources, we locate the median level of market resources as the median agent, then compute their value function at their level of market resources.\n",
    "4. Record the value function of the median agent at the given tax rate.\n",
    "5. Repeat steps 2 to 4 until we have solved for the median agent's value function at each tax rate. The tax rate corresponding to the highest value of the median agent's value function is the optimal tax rate **for the median voter**, hence the political equilibrium (flat income tax rate)."
   ]
  },
  {
   "cell_type": "code",
   "execution_count": 11,
   "id": "8615e5e7-338b-4219-a563-22409e5d0c5b",
   "metadata": {
    "scrolled": true
   },
   "outputs": [
    {
     "name": "stdout",
     "output_type": "stream",
     "text": [
      "intercept=-0.5288444895735478, slope=1.1237386173871755, r-sq=0.810535437461125\n",
      "intercept=-0.5277773305948623, slope=1.1231871654603125, r-sq=0.8107863137511139\n",
      "The flat income tax rate is: 0.0000\n",
      "The lump-sum transfer in terms of permanent income is: 0.0\n",
      "The mean of individual market resources is 3.375362172060929; the standard deviation is 1.4259230889521275; the median is 3.4263567807499244.\n",
      "The mean of individual wealth is 1.6152166383978621; the standard deviation is 1.1373366189717646; the median is 1.5973516839615254.\n",
      "The market resources of the median agent is 3.4264, \n",
      " and the value function for the median-wealth voter at tax rate 0.0000 is -0.1802. \n",
      "\n",
      "intercept=-0.5288444895735478, slope=1.1237386173871755, r-sq=0.810535437461125\n",
      "intercept=-0.5277773305948623, slope=1.1231871654603125, r-sq=0.8107863137511139\n",
      "The flat income tax rate is: 0.0500\n",
      "The lump-sum transfer in terms of permanent income is: 0.08110787241333293\n",
      "The mean of individual market resources is 3.30973484275261; the standard deviation is 1.3377244879603751; the median is 3.3693657351839854.\n",
      "The mean of individual wealth is 1.556438903761209; the standard deviation is 1.0639438888899186; the median is 1.5509309897522723.\n",
      "The market resources of the median agent is 3.3694, \n",
      " and the value function for the median-wealth voter at tax rate 0.0500 is -0.1846. \n",
      "\n",
      "intercept=-0.5288444895735478, slope=1.1237386173871755, r-sq=0.810535437461125\n",
      "intercept=-0.5277773305948623, slope=1.1231871654603125, r-sq=0.8107863137511139\n",
      "The flat income tax rate is: 0.1000\n",
      "The lump-sum transfer in terms of permanent income is: 0.16200780821136587\n",
      "The mean of individual market resources is 3.246673866636698; the standard deviation is 1.2520229927395188; the median is 3.3121183901728566.\n",
      "The mean of individual wealth is 1.5002526337341997; the standard deviation is 0.9929035918870248; the median is 1.5043015329549145.\n",
      "The market resources of the median agent is 3.3121, \n",
      " and the value function for the median-wealth voter at tax rate 0.1000 is -0.1890. \n",
      "\n",
      "intercept=-0.5288444895735478, slope=1.1237386173871755, r-sq=0.810535437461125\n",
      "intercept=-0.5277773305948623, slope=1.1231871654603125, r-sq=0.8107863137511139\n",
      "The flat income tax rate is: 0.1500\n",
      "The lump-sum transfer in terms of permanent income is: 0.24271391541611823\n",
      "The mean of individual market resources is 3.1862828615693752; the standard deviation is 1.168962166474006; the median is 3.2599266750250537.\n",
      "The mean of individual wealth is 1.447124303151485; the standard deviation is 0.9235623554628882; the median is 1.4619065950416985.\n",
      "The market resources of the median agent is 3.2599, \n",
      " and the value function for the median-wealth voter at tax rate 0.1500 is -0.1935. \n",
      "\n",
      "intercept=-0.5288444895735478, slope=1.1237386173871755, r-sq=0.810535437461125\n",
      "intercept=-0.5277773305948623, slope=1.1231871654603125, r-sq=0.8107863137511139\n",
      "The flat income tax rate is: 0.2000\n",
      "The lump-sum transfer in terms of permanent income is: 0.323242175823087\n",
      "The mean of individual market resources is 3.128825931710148; the standard deviation is 1.0875222965598483; the median is 3.2089354374967316.\n",
      "The mean of individual wealth is 1.3967319396276536; the standard deviation is 0.856063635366787; the median is 1.421066631614395.\n",
      "The market resources of the median agent is 3.2089, \n",
      " and the value function for the median-wealth voter at tax rate 0.2000 is -0.1981. \n",
      "\n",
      "intercept=-0.5288444895735478, slope=1.1237386173871755, r-sq=0.810535437461125\n",
      "intercept=-0.5277773305948623, slope=1.1231871654603125, r-sq=0.8107863137511139\n",
      "The flat income tax rate is: 0.2500\n",
      "The lump-sum transfer in terms of permanent income is: 0.40360485629261217\n",
      "The mean of individual market resources is 3.07393519696484; the standard deviation is 1.008347389535206; the median is 3.1599702422309206.\n",
      "The mean of individual wealth is 1.348727844891705; the standard deviation is 0.7909224641555209; the median is 1.3822909271162092.\n",
      "The market resources of the median agent is 3.1600, \n",
      " and the value function for the median-wealth voter at tax rate 0.2500 is -0.2028. \n",
      "\n",
      "intercept=-0.5288444895735478, slope=1.1237386173871755, r-sq=0.810535437461125\n",
      "intercept=-0.5277773305948623, slope=1.1231871654603125, r-sq=0.8107863137511139\n",
      "The flat income tax rate is: 0.3000\n",
      "The lump-sum transfer in terms of permanent income is: 0.48381901664775584\n",
      "The mean of individual market resources is 3.021939153897076; the standard deviation is 0.9308118958455757; the median is 3.1123073181313043.\n",
      "The mean of individual wealth is 1.303351396879359; the standard deviation is 0.7276814207959237; the median is 1.3445554595844542.\n",
      "The market resources of the median agent is 3.1123, \n",
      " and the value function for the median-wealth voter at tax rate 0.3000 is -0.2074. \n",
      "\n",
      "intercept=-0.5288444895735478, slope=1.1237386173871755, r-sq=0.810535437461125\n",
      "intercept=-0.5277773305948623, slope=1.1231871654603125, r-sq=0.8107863137511139\n",
      "The flat income tax rate is: 0.3500\n",
      "The lump-sum transfer in terms of permanent income is: 0.5638962650656257\n",
      "The mean of individual market resources is 2.972537878019223; the standard deviation is 0.8547369801052926; the median is 3.0584366817672937.\n",
      "The mean of individual wealth is 1.2603246492264513; the standard deviation is 0.6661794316634178; the median is 1.3019052511083558.\n",
      "The market resources of the median agent is 3.0584, \n",
      " and the value function for the median-wealth voter at tax rate 0.3500 is -0.2129. \n",
      "\n",
      "intercept=-0.5288444895735478, slope=1.1237386173871755, r-sq=0.810535437461125\n",
      "intercept=-0.5277773305948623, slope=1.1231871654603125, r-sq=0.8107863137511139\n",
      "The flat income tax rate is: 0.4000\n",
      "The lump-sum transfer in terms of permanent income is: 0.6438478874783078\n",
      "The mean of individual market resources is 2.9255583363848894; the standard deviation is 0.7803144004751789; the median is 3.0054928143252972.\n",
      "The mean of individual wealth is 1.2196091096449893; the standard deviation is 0.606333217089106; the median is 1.2599887797922569.\n",
      "The market resources of the median agent is 3.0055, \n",
      " and the value function for the median-wealth voter at tax rate 0.4000 is -0.2183. \n",
      "\n",
      "intercept=-0.5288444895735478, slope=1.1237386173871755, r-sq=0.810535437461125\n",
      "intercept=-0.5277773305948623, slope=1.1231871654603125, r-sq=0.8107863137511139\n",
      "The flat income tax rate is: 0.4500\n",
      "The lump-sum transfer in terms of permanent income is: 0.7236851242592217\n",
      "The mean of individual market resources is 2.8809012749374263; the standard deviation is 0.7077378310325457; the median is 2.956161355805598.\n",
      "The mean of individual wealth is 1.1812726415471329; the standard deviation is 0.5481037226319276; the median is 1.2209323079867593.\n",
      "The market resources of the median agent is 2.9562, \n",
      " and the value function for the median-wealth voter at tax rate 0.4500 is -0.2235. \n",
      "\n",
      "intercept=-0.5288444895735478, slope=1.1237386173871755, r-sq=0.810535437461125\n",
      "intercept=-0.5277773305948623, slope=1.1231871654603125, r-sq=0.8107863137511139\n",
      "The flat income tax rate is: 0.5000\n",
      "The lump-sum transfer in terms of permanent income is: 0.8034210360557753\n",
      "The mean of individual market resources is 2.838609761062614; the standard deviation is 0.6366522892047719; the median is 2.9130137756022285.\n",
      "The mean of individual wealth is 1.1451538268900965; the standard deviation is 0.4916602363506698; the median is 1.1867717074236241.\n",
      "The market resources of the median agent is 2.9130, \n",
      " and the value function for the median-wealth voter at tax rate 0.5000 is -0.2282. \n",
      "\n",
      "intercept=-0.5288444895735478, slope=1.1237386173871755, r-sq=0.810535437461125\n",
      "intercept=-0.5277773305948623, slope=1.1231871654603125, r-sq=0.8107863137511139\n",
      "The flat income tax rate is: 0.5500\n",
      "The lump-sum transfer in terms of permanent income is: 0.8830690706795172\n",
      "The mean of individual market resources is 2.7987308377426485; the standard deviation is 0.5669560252924258; the median is 2.8728163545868233.\n",
      "The mean of individual wealth is 1.1111850978846975; the standard deviation is 0.4365733784929202; the median is 1.1549467931062227.\n",
      "The market resources of the median agent is 2.8728, \n",
      " and the value function for the median-wealth voter at tax rate 0.5500 is -0.2327. \n",
      "\n",
      "intercept=-0.5288444895735478, slope=1.1237386173871755, r-sq=0.810535437461125\n"
     ]
    },
    {
     "name": "stdout",
     "output_type": "stream",
     "text": [
      "intercept=-0.5277773305948623, slope=1.1231871654603125, r-sq=0.8107863137511139\n",
      "The flat income tax rate is: 0.6000\n",
      "The lump-sum transfer in terms of permanent income is: 0.962642905712668\n",
      "The mean of individual market resources is 2.761306448547628; the standard deviation is 0.49887367155268225; the median is 2.8327661123090184.\n",
      "The mean of individual wealth is 1.0795317262763333; the standard deviation is 0.3831093614174129; the median is 1.1232384024511646.\n",
      "The market resources of the median agent is 2.8328, \n",
      " and the value function for the median-wealth voter at tax rate 0.6000 is -0.2377. \n",
      "\n",
      "intercept=-0.5288444895735478, slope=1.1237386173871755, r-sq=0.810535437461125\n",
      "intercept=-0.5277773305948623, slope=1.1231871654603125, r-sq=0.8107863137511139\n",
      "The flat income tax rate is: 0.6500\n",
      "The lump-sum transfer in terms of permanent income is: 1.0421487412559023\n",
      "The mean of individual market resources is 2.7260404831100815; the standard deviation is 0.43186109416598456; the median is 2.7938732035092264.\n",
      "The mean of individual wealth is 1.049937019896209; the standard deviation is 0.33062122613343714; the median is 1.0931465191989214.\n",
      "The market resources of the median agent is 2.7939, \n",
      " and the value function for the median-wealth voter at tax rate 0.6500 is -0.2427. \n",
      "\n",
      "intercept=-0.5288444895735478, slope=1.1237386173871755, r-sq=0.810535437461125\n",
      "intercept=-0.5277773305948623, slope=1.1231871654603125, r-sq=0.8107863137511139\n",
      "The flat income tax rate is: 0.7000\n",
      "The lump-sum transfer in terms of permanent income is: 1.121600099657847\n",
      "The mean of individual market resources is 2.6930167672331202; the standard deviation is 0.3661997508951041; the median is 2.755504621852627.\n",
      "The mean of individual wealth is 1.0224886887816542; the standard deviation is 0.27935478620487086; the median is 1.0641344919259825.\n",
      "The market resources of the median agent is 2.7555, \n",
      " and the value function for the median-wealth voter at tax rate 0.7000 is -0.2479. \n",
      "\n",
      "intercept=-0.5288444895735478, slope=1.1237386173871755, r-sq=0.810535437461125\n",
      "intercept=-0.5277773305948623, slope=1.1231871654603125, r-sq=0.8107863137511139\n",
      "The flat income tax rate is: 0.7500\n",
      "The lump-sum transfer in terms of permanent income is: 1.2010022594379157\n",
      "The mean of individual market resources is 2.661986177298545; the standard deviation is 0.3017720534853086; the median is 2.7179561053238777.\n",
      "The mean of individual wealth is 0.9970310684195496; the standard deviation is 0.2295028302673594; the median is 1.0357425488685024.\n",
      "The market resources of the median agent is 2.7180, \n",
      " and the value function for the median-wealth voter at tax rate 0.7500 is -0.2530. \n",
      "\n",
      "intercept=-0.5288444895735478, slope=1.1237386173871755, r-sq=0.810535437461125\n",
      "intercept=-0.5277773305948623, slope=1.1231871654603125, r-sq=0.8107863137511139\n",
      "The flat income tax rate is: 0.8000\n",
      "The lump-sum transfer in terms of permanent income is: 1.2803630006666817\n",
      "The mean of individual market resources is 2.6328500972210453; the standard deviation is 0.23857079928341574; the median is 2.6811030255663866.\n",
      "The mean of individual wealth is 0.9734673583559486; the standard deviation is 0.18084029906989046; the median is 1.0078764535151385.\n",
      "The market resources of the median agent is 2.6811, \n",
      " and the value function for the median-wealth voter at tax rate 0.8000 is -0.2582. \n",
      "\n",
      "intercept=-0.5288444895735478, slope=1.1237386173871755, r-sq=0.810535437461125\n",
      "intercept=-0.5277773305948623, slope=1.1231871654603125, r-sq=0.8107863137511139\n",
      "The flat income tax rate is: 0.8500\n",
      "The lump-sum transfer in terms of permanent income is: 1.3596960073172408\n",
      "The mean of individual market resources is 2.6057291292873526; the standard deviation is 0.17688282902136962; the median is 2.6440079967422445.\n",
      "The mean of individual wealth is 0.9517781407121343; the standard deviation is 0.13356511804653823; the median is 0.9798274107444546.\n",
      "The market resources of the median agent is 2.6440, \n",
      " and the value function for the median-wealth voter at tax rate 0.8500 is -0.2634. \n",
      "\n",
      "intercept=-0.5288444895735478, slope=1.1237386173871755, r-sq=0.810535437461125\n",
      "intercept=-0.5277773305948623, slope=1.1231871654603125, r-sq=0.8107863137511139\n",
      "The flat income tax rate is: 0.9000\n",
      "The lump-sum transfer in terms of permanent income is: 1.4390209077517238\n",
      "The mean of individual market resources is 2.5809033838648774; the standard deviation is 0.11653107959120272; the median is 2.6070662834442087.\n",
      "The mean of individual wealth is 0.9323428488168439; the standard deviation is 0.08782708639327413; the median is 0.9518942960074035.\n",
      "The market resources of the median agent is 2.6071, \n",
      " and the value function for the median-wealth voter at tax rate 0.9000 is -0.2688. \n",
      "\n",
      "intercept=-0.5288444895735478, slope=1.1237386173871755, r-sq=0.810535437461125\n",
      "intercept=-0.5277773305948623, slope=1.1231871654603125, r-sq=0.8107863137511139\n",
      "The flat income tax rate is: 0.9500\n",
      "The lump-sum transfer in terms of permanent income is: 1.5183703433420366\n",
      "The mean of individual market resources is 2.5589804659305084; the standard deviation is 0.05764036899369175; the median is 2.5724961701970654.\n",
      "The mean of individual wealth is 0.9155420032979318; the standard deviation is 0.04356736107282193; the median is 0.9257544434235597.\n",
      "The market resources of the median agent is 2.5725, \n",
      " and the value function for the median-wealth voter at tax rate 0.9500 is -0.2740. \n",
      "\n"
     ]
    }
   ],
   "source": [
    "rates = 20\n",
    "tax_rates = np.linspace(0.00, 0.95, num=rates) # Each tax rate from 0.00, 0.05, 0.10, ... , 0.95\n",
    "v_at_median_wealth = [] # Vector for value function of median wealth agent at each level of flat income tax rate\n",
    "\n",
    "for tau in tax_rates:\n",
    "    AggShockAgent_tax_tau = deepcopy(AggShockAgent_tax)\n",
    "    AggShockAgent_tax_tau.tax_rate = tau\n",
    "    EconomyExample_tau = deepcopy(EconomyExample)\n",
    "    EconomyExample_tau.tax_rate = tau\n",
    "    AggShockAgent_tax_tau.get_economy_data(EconomyExample_tau)\n",
    "    EconomyExample_tau.make_AggShkHist()\n",
    "    AggShockAgent_tax_tau.solve()\n",
    "    AggShockAgent_tax_tau.initialize_sim()\n",
    "    AggShockAgent_tax_tau.simulate()\n",
    "    AggShockAgent_tax_tau.track_vars = ['aNrm','pLvl','mNrm','TranShk']\n",
    "    EconomyExample_tau.solve()\n",
    "    AggShockAgent_tax_tau.unpack('vFunc')\n",
    "\n",
    "    sim_market_resources_tau = AggShockAgent_tax_tau.state_now['mNrm']\n",
    "    sim_wealth_tau = AggShockAgent_tax_tau.state_now['aNrm']\n",
    "\n",
    "    print(\"The flat income tax rate is: \" + mystr(AggShockAgent_tax_tau.tax_rate))\n",
    "\n",
    "    print(\"The lump-sum transfer in terms of permanent income is: \" + str(AggShockAgent_tax_tau.calc_transfers()))\n",
    "\n",
    "    print(\"The mean of individual market resources is \" + str(sim_market_resources_tau.mean()) + \"; the standard deviation is \"\n",
    "          + str(sim_market_resources_tau.std()) + \"; the median is \" + str(np.median(sim_market_resources_tau)) + \".\")\n",
    "    print(\"The mean of individual wealth is \" + str(sim_wealth_tau.mean()) + \"; the standard deviation is \"\n",
    "          + str(sim_wealth_tau.std()) + \"; the median is \" + str(np.median(sim_wealth_tau)) + \".\")\n",
    "\n",
    "    # Tax rate as determined by median agent (pre-tax)'s wealth and income\n",
    "    sim_median_wealth_tau = np.median(sim_wealth_tau)\n",
    "    sim_median_market_resources_tau = np.median(sim_market_resources_tau)\n",
    "\n",
    "    # Find value function of post-tax median wealth agent/voter\n",
    "    # vFunc arguments: Median agent's level of market resources\n",
    "    # and median agent's capital-labor ratio (assumed as 1.0 for now)\n",
    "    v_at_median_wealth_tau = AggShockAgent_tax_tau.vFunc[0](sim_median_market_resources_tau,\n",
    "                                                            1.0)\n",
    "\n",
    "    v_at_median_wealth.append(v_at_median_wealth_tau)\n",
    "\n",
    "    print(\"The market resources of the median agent is \"\n",
    "          + str(mystr(sim_median_market_resources_tau)) \n",
    "          + \", \\n and the value function for the median-wealth voter at tax rate \"\n",
    "          + str(mystr(AggShockAgent_tax_tau.tax_rate))\n",
    "          + \" is \" + str(mystr(v_at_median_wealth_tau)) + \". \\n\")"
   ]
  },
  {
   "cell_type": "code",
   "execution_count": 12,
   "id": "1ce75045-7f2e-4248-82bb-4f9a15d12303",
   "metadata": {},
   "outputs": [
    {
     "name": "stdout",
     "output_type": "stream",
     "text": [
      "[-0.18024185069296117, -0.18455806238930317, -0.18903355172658706, -0.19346392517460834, -0.19814098520933243, -0.2027751787467651, -0.20742596341089536, -0.21285529753227597, -0.21827310064074493, -0.22347902643837517, -0.22816895274298954, -0.23265702523122397, -0.2376641480947056, -0.24272278380653958, -0.24785487654852859, -0.2530183142248006, -0.25817331887361744, -0.2634471807019704, -0.26884297005638635, -0.27402664188836884]\n",
      "-0.1802\n",
      "The optimal tax rate for the median voter is 0.0000.\n"
     ]
    }
   ],
   "source": [
    "# Create graph of value function of agent with median level of wealth for each tax rate from 0.00 to 0.95 (in increments of 0.05)\n",
    "print(v_at_median_wealth)\n",
    "print(mystr(np.max(v_at_median_wealth)))\n",
    "optimal_tax_rate = tax_rates[v_at_median_wealth.index(np.max(v_at_median_wealth))]\n",
    "print(\"The optimal tax rate for the median voter is \" + str(mystr(optimal_tax_rate)) + \".\")"
   ]
  },
  {
   "cell_type": "code",
   "execution_count": 13,
   "id": "c9f6f0a4-0155-4f25-b15b-9a26ccddc502",
   "metadata": {
    "tags": []
   },
   "outputs": [
    {
     "data": {
      "image/png": "[encoded data removed]",
      "text/plain": [
       "<Figure size 504x288 with 1 Axes>"
      ]
     },
     "metadata": {
      "needs_background": "light"
     },
     "output_type": "display_data"
    }
   ],
   "source": [
    "plt.figure(figsize=(7,4))\n",
    "plt.plot(tax_rates, v_at_median_wealth, 'b-', label = 'Value function of median wealth agent')\n",
    "plt.xlabel('Flat income tax rate')\n",
    "plt.ylabel('Value function of median wealth agent')\n",
    "plt.show()"
   ]
  },
  {
   "cell_type": "markdown",
   "id": "9e14a0e8-efab-4647-850e-a8909e965d09",
   "metadata": {},
   "source": [
    "### So far, the problem is that median wealth is greater than mean wealth, and so the median voter most prefers an income tax rate of 0.\n",
    "\n",
    "What would be the optimal tax rate for agents with wealth / market resources of other percentiles?"
   ]
  },
  {
   "cell_type": "code",
   "execution_count": 14,
   "id": "8e6d627b-c3c7-4ab5-ab3f-97f6687a8d74",
   "metadata": {
    "scrolled": true
   },
   "outputs": [
    {
     "name": "stdout",
     "output_type": "stream",
     "text": [
      "intercept=-0.5288444895735478, slope=1.1237386173871755, r-sq=0.810535437461125\n",
      "intercept=-0.5277773305948623, slope=1.1231871654603125, r-sq=0.8107863137511139\n",
      "The flat income tax rate is: 0.0000\n",
      "The lump-sum transfer in terms of permanent income is: 0.0000\n",
      "The mean of individual wealth is 1.6152; the standard deviation is 1.1373366189717646; the median is 1.5974.\n",
      "The mean of individual market resources is 3.3754; the standard deviation is 1.4259230889521275; the median is 3.4264.\n",
      "The 90th percentile of individual wealth is 3.2004.\n",
      "The 80th percentile of individual wealth is 2.6403.\n",
      "The 70th percentile of individual wealth is 2.0155.\n",
      "The 60th percentile of individual wealth is 1.7983.\n",
      "The 40th percentile of individual wealth is 1.0583.\n",
      "The 30th percentile of individual wealth is 0.8105.\n",
      "The 20th percentile of individual wealth is 0.5695.\n",
      "The 10th percentile of individual wealth is 0.3880.\n",
      "\n",
      "intercept=-0.5288444895735478, slope=1.1237386173871755, r-sq=0.810535437461125\n",
      "intercept=-0.5277773305948623, slope=1.1231871654603125, r-sq=0.8107863137511139\n",
      "The flat income tax rate is: 0.0500\n",
      "The lump-sum transfer in terms of permanent income is: 0.0811\n",
      "The mean of individual wealth is 1.5564; the standard deviation is 1.0639438888899186; the median is 1.5509.\n",
      "The mean of individual market resources is 3.3097; the standard deviation is 1.3377244879603751; the median is 3.3694.\n",
      "The 90th percentile of individual wealth is 3.0308.\n",
      "The 80th percentile of individual wealth is 2.4744.\n",
      "The 70th percentile of individual wealth is 1.9491.\n",
      "The 60th percentile of individual wealth is 1.7425.\n",
      "The 40th percentile of individual wealth is 1.0392.\n",
      "The 30th percentile of individual wealth is 0.8120.\n",
      "The 20th percentile of individual wealth is 0.5807.\n",
      "The 10th percentile of individual wealth is 0.3985.\n",
      "\n",
      "intercept=-0.5288444895735478, slope=1.1237386173871755, r-sq=0.810535437461125\n",
      "intercept=-0.5277773305948623, slope=1.1231871654603125, r-sq=0.8107863137511139\n",
      "The flat income tax rate is: 0.1000\n",
      "The lump-sum transfer in terms of permanent income is: 0.1620\n",
      "The mean of individual wealth is 1.5003; the standard deviation is 0.9929035918870248; the median is 1.5043.\n",
      "The mean of individual market resources is 3.2467; the standard deviation is 1.2520229927395188; the median is 3.3121.\n",
      "The 90th percentile of individual wealth is 2.8697.\n",
      "The 80th percentile of individual wealth is 2.3182.\n",
      "The 70th percentile of individual wealth is 1.8833.\n",
      "The 60th percentile of individual wealth is 1.6912.\n",
      "The 40th percentile of individual wealth is 1.0218.\n",
      "The 30th percentile of individual wealth is 0.8140.\n",
      "The 20th percentile of individual wealth is 0.5916.\n",
      "The 10th percentile of individual wealth is 0.4145.\n",
      "\n",
      "intercept=-0.5288444895735478, slope=1.1237386173871755, r-sq=0.810535437461125\n",
      "intercept=-0.5277773305948623, slope=1.1231871654603125, r-sq=0.8107863137511139\n",
      "The flat income tax rate is: 0.1500\n",
      "The lump-sum transfer in terms of permanent income is: 0.2427\n",
      "The mean of individual wealth is 1.4471; the standard deviation is 0.9235623554628882; the median is 1.4619.\n",
      "The mean of individual market resources is 3.1863; the standard deviation is 1.168962166474006; the median is 3.2599.\n",
      "The 90th percentile of individual wealth is 2.7158.\n",
      "The 80th percentile of individual wealth is 2.1776.\n",
      "The 70th percentile of individual wealth is 1.8193.\n",
      "The 60th percentile of individual wealth is 1.6405.\n",
      "The 40th percentile of individual wealth is 1.0059.\n",
      "The 30th percentile of individual wealth is 0.8092.\n",
      "The 20th percentile of individual wealth is 0.6035.\n",
      "The 10th percentile of individual wealth is 0.4331.\n",
      "\n",
      "intercept=-0.5288444895735478, slope=1.1237386173871755, r-sq=0.810535437461125\n",
      "intercept=-0.5277773305948623, slope=1.1231871654603125, r-sq=0.8107863137511139\n",
      "The flat income tax rate is: 0.2000\n",
      "The lump-sum transfer in terms of permanent income is: 0.3232\n",
      "The mean of individual wealth is 1.3967; the standard deviation is 0.856063635366787; the median is 1.4211.\n",
      "The mean of individual market resources is 3.1288; the standard deviation is 1.0875222965598483; the median is 3.2089.\n",
      "The 90th percentile of individual wealth is 2.5645.\n",
      "The 80th percentile of individual wealth is 2.0467.\n",
      "The 70th percentile of individual wealth is 1.7570.\n",
      "The 60th percentile of individual wealth is 1.5891.\n",
      "The 40th percentile of individual wealth is 0.9908.\n",
      "The 30th percentile of individual wealth is 0.8041.\n",
      "The 20th percentile of individual wealth is 0.6184.\n",
      "The 10th percentile of individual wealth is 0.4288.\n",
      "\n",
      "intercept=-0.5288444895735478, slope=1.1237386173871755, r-sq=0.810535437461125\n",
      "intercept=-0.5277773305948623, slope=1.1231871654603125, r-sq=0.8107863137511139\n",
      "The flat income tax rate is: 0.2500\n",
      "The lump-sum transfer in terms of permanent income is: 0.4036\n",
      "The mean of individual wealth is 1.3487; the standard deviation is 0.7909224641555209; the median is 1.3823.\n",
      "The mean of individual market resources is 3.0739; the standard deviation is 1.008347389535206; the median is 3.1600.\n",
      "The 90th percentile of individual wealth is 2.4291.\n",
      "The 80th percentile of individual wealth is 1.9366.\n",
      "The 70th percentile of individual wealth is 1.6949.\n",
      "The 60th percentile of individual wealth is 1.5377.\n",
      "The 40th percentile of individual wealth is 0.9764.\n",
      "The 30th percentile of individual wealth is 0.8004.\n",
      "The 20th percentile of individual wealth is 0.6332.\n",
      "The 10th percentile of individual wealth is 0.4201.\n",
      "\n",
      "intercept=-0.5288444895735478, slope=1.1237386173871755, r-sq=0.810535437461125\n",
      "intercept=-0.5277773305948623, slope=1.1231871654603125, r-sq=0.8107863137511139\n",
      "The flat income tax rate is: 0.3000\n",
      "The lump-sum transfer in terms of permanent income is: 0.4838\n",
      "The mean of individual wealth is 1.3034; the standard deviation is 0.7276814207959237; the median is 1.3446.\n",
      "The mean of individual market resources is 3.0219; the standard deviation is 0.9308118958455757; the median is 3.1123.\n",
      "The 90th percentile of individual wealth is 2.2938.\n",
      "The 80th percentile of individual wealth is 1.8543.\n",
      "The 70th percentile of individual wealth is 1.6298.\n",
      "The 60th percentile of individual wealth is 1.4840.\n",
      "The 40th percentile of individual wealth is 0.9637.\n",
      "The 30th percentile of individual wealth is 0.7987.\n",
      "The 20th percentile of individual wealth is 0.6481.\n",
      "The 10th percentile of individual wealth is 0.4303.\n",
      "\n",
      "intercept=-0.5288444895735478, slope=1.1237386173871755, r-sq=0.810535437461125\n",
      "intercept=-0.5277773305948623, slope=1.1231871654603125, r-sq=0.8107863137511139\n",
      "The flat income tax rate is: 0.3500\n",
      "The lump-sum transfer in terms of permanent income is: 0.5639\n",
      "The mean of individual wealth is 1.2603; the standard deviation is 0.6661794316634178; the median is 1.3019.\n",
      "The mean of individual market resources is 2.9725; the standard deviation is 0.8547369801052926; the median is 3.0584.\n",
      "The 90th percentile of individual wealth is 2.1641.\n",
      "The 80th percentile of individual wealth is 1.7748.\n",
      "The 70th percentile of individual wealth is 1.5639.\n",
      "The 60th percentile of individual wealth is 1.4315.\n",
      "The 40th percentile of individual wealth is 0.9540.\n",
      "The 30th percentile of individual wealth is 0.7982.\n",
      "The 20th percentile of individual wealth is 0.6564.\n",
      "The 10th percentile of individual wealth is 0.4476.\n",
      "\n",
      "intercept=-0.5288444895735478, slope=1.1237386173871755, r-sq=0.810535437461125\n",
      "intercept=-0.5277773305948623, slope=1.1231871654603125, r-sq=0.8107863137511139\n",
      "The flat income tax rate is: 0.4000\n",
      "The lump-sum transfer in terms of permanent income is: 0.6438\n",
      "The mean of individual wealth is 1.2196; the standard deviation is 0.606333217089106; the median is 1.2600.\n",
      "The mean of individual market resources is 2.9256; the standard deviation is 0.7803144004751789; the median is 3.0055.\n",
      "The 90th percentile of individual wealth is 2.0408.\n",
      "The 80th percentile of individual wealth is 1.6976.\n",
      "The 70th percentile of individual wealth is 1.5006.\n",
      "The 60th percentile of individual wealth is 1.3810.\n",
      "The 40th percentile of individual wealth is 0.9458.\n",
      "The 30th percentile of individual wealth is 0.7990.\n",
      "The 20th percentile of individual wealth is 0.6715.\n",
      "The 10th percentile of individual wealth is 0.4671.\n",
      "\n",
      "intercept=-0.5288444895735478, slope=1.1237386173871755, r-sq=0.810535437461125\n"
     ]
    },
    {
     "name": "stdout",
     "output_type": "stream",
     "text": [
      "intercept=-0.5277773305948623, slope=1.1231871654603125, r-sq=0.8107863137511139\n",
      "The flat income tax rate is: 0.4500\n",
      "The lump-sum transfer in terms of permanent income is: 0.7237\n",
      "The mean of individual wealth is 1.1813; the standard deviation is 0.5481037226319276; the median is 1.2209.\n",
      "The mean of individual market resources is 2.8809; the standard deviation is 0.7077378310325457; the median is 2.9562.\n",
      "The 90th percentile of individual wealth is 1.9194.\n",
      "The 80th percentile of individual wealth is 1.6157.\n",
      "The 70th percentile of individual wealth is 1.4403.\n",
      "The 60th percentile of individual wealth is 1.3318.\n",
      "The 40th percentile of individual wealth is 0.9391.\n",
      "The 30th percentile of individual wealth is 0.8013.\n",
      "The 20th percentile of individual wealth is 0.6871.\n",
      "The 10th percentile of individual wealth is 0.4883.\n",
      "\n",
      "intercept=-0.5288444895735478, slope=1.1237386173871755, r-sq=0.810535437461125\n",
      "intercept=-0.5277773305948623, slope=1.1231871654603125, r-sq=0.8107863137511139\n",
      "The flat income tax rate is: 0.5000\n",
      "The lump-sum transfer in terms of permanent income is: 0.8034\n",
      "The mean of individual wealth is 1.1452; the standard deviation is 0.4916602363506698; the median is 1.1868.\n",
      "The mean of individual market resources is 2.8386; the standard deviation is 0.6366522892047719; the median is 2.9130.\n",
      "The 90th percentile of individual wealth is 1.8022.\n",
      "The 80th percentile of individual wealth is 1.5227.\n",
      "The 70th percentile of individual wealth is 1.3822.\n",
      "The 60th percentile of individual wealth is 1.2842.\n",
      "The 40th percentile of individual wealth is 0.9326.\n",
      "The 30th percentile of individual wealth is 0.8047.\n",
      "The 20th percentile of individual wealth is 0.7002.\n",
      "The 10th percentile of individual wealth is 0.5163.\n",
      "\n",
      "intercept=-0.5288444895735478, slope=1.1237386173871755, r-sq=0.810535437461125\n",
      "intercept=-0.5277773305948623, slope=1.1231871654603125, r-sq=0.8107863137511139\n",
      "The flat income tax rate is: 0.5500\n",
      "The lump-sum transfer in terms of permanent income is: 0.8831\n",
      "The mean of individual wealth is 1.1112; the standard deviation is 0.4365733784929202; the median is 1.1549.\n",
      "The mean of individual market resources is 2.7987; the standard deviation is 0.5669560252924258; the median is 2.8728.\n",
      "The 90th percentile of individual wealth is 1.6927.\n",
      "The 80th percentile of individual wealth is 1.4483.\n",
      "The 70th percentile of individual wealth is 1.3212.\n",
      "The 60th percentile of individual wealth is 1.2380.\n",
      "The 40th percentile of individual wealth is 0.9266.\n",
      "The 30th percentile of individual wealth is 0.8091.\n",
      "The 20th percentile of individual wealth is 0.7138.\n",
      "The 10th percentile of individual wealth is 0.5489.\n",
      "\n",
      "intercept=-0.5288444895735478, slope=1.1237386173871755, r-sq=0.810535437461125\n",
      "intercept=-0.5277773305948623, slope=1.1231871654603125, r-sq=0.8107863137511139\n",
      "The flat income tax rate is: 0.6000\n",
      "The lump-sum transfer in terms of permanent income is: 0.9626\n",
      "The mean of individual wealth is 1.0795; the standard deviation is 0.3831093614174129; the median is 1.1232.\n",
      "The mean of individual market resources is 2.7613; the standard deviation is 0.49887367155268225; the median is 2.8328.\n",
      "The 90th percentile of individual wealth is 1.5876.\n",
      "The 80th percentile of individual wealth is 1.3739.\n",
      "The 70th percentile of individual wealth is 1.2602.\n",
      "The 60th percentile of individual wealth is 1.1935.\n",
      "The 40th percentile of individual wealth is 0.9212.\n",
      "The 30th percentile of individual wealth is 0.8146.\n",
      "The 20th percentile of individual wealth is 0.7312.\n",
      "The 10th percentile of individual wealth is 0.5823.\n",
      "\n",
      "intercept=-0.5288444895735478, slope=1.1237386173871755, r-sq=0.810535437461125\n",
      "intercept=-0.5277773305948623, slope=1.1231871654603125, r-sq=0.8107863137511139\n",
      "The flat income tax rate is: 0.6500\n",
      "The lump-sum transfer in terms of permanent income is: 1.0421\n",
      "The mean of individual wealth is 1.0499; the standard deviation is 0.33062122613343714; the median is 1.0931.\n",
      "The mean of individual market resources is 2.7260; the standard deviation is 0.43186109416598456; the median is 2.7939.\n",
      "The 90th percentile of individual wealth is 1.4846.\n",
      "The 80th percentile of individual wealth is 1.3030.\n",
      "The 70th percentile of individual wealth is 1.2037.\n",
      "The 60th percentile of individual wealth is 1.1518.\n",
      "The 40th percentile of individual wealth is 0.9172.\n",
      "The 30th percentile of individual wealth is 0.8214.\n",
      "The 20th percentile of individual wealth is 0.7485.\n",
      "The 10th percentile of individual wealth is 0.6182.\n",
      "\n",
      "intercept=-0.5288444895735478, slope=1.1237386173871755, r-sq=0.810535437461125\n",
      "intercept=-0.5277773305948623, slope=1.1231871654603125, r-sq=0.8107863137511139\n",
      "The flat income tax rate is: 0.7000\n",
      "The lump-sum transfer in terms of permanent income is: 1.1216\n",
      "The mean of individual wealth is 1.0225; the standard deviation is 0.27935478620487086; the median is 1.0641.\n",
      "The mean of individual market resources is 2.6930; the standard deviation is 0.3661997508951041; the median is 2.7555.\n",
      "The 90th percentile of individual wealth is 1.3868.\n",
      "The 80th percentile of individual wealth is 1.2383.\n",
      "The 70th percentile of individual wealth is 1.1551.\n",
      "The 60th percentile of individual wealth is 1.1122.\n",
      "The 40th percentile of individual wealth is 0.9139.\n",
      "The 30th percentile of individual wealth is 0.8307.\n",
      "The 20th percentile of individual wealth is 0.7671.\n",
      "The 10th percentile of individual wealth is 0.6569.\n",
      "\n",
      "intercept=-0.5288444895735478, slope=1.1237386173871755, r-sq=0.810535437461125\n",
      "intercept=-0.5277773305948623, slope=1.1231871654603125, r-sq=0.8107863137511139\n",
      "The flat income tax rate is: 0.7500\n",
      "The lump-sum transfer in terms of permanent income is: 1.2010\n",
      "The mean of individual wealth is 0.9970; the standard deviation is 0.2295028302673594; the median is 1.0357.\n",
      "The mean of individual market resources is 2.6620; the standard deviation is 0.3017720534853086; the median is 2.7180.\n",
      "The 90th percentile of individual wealth is 1.2969.\n",
      "The 80th percentile of individual wealth is 1.1760.\n",
      "The 70th percentile of individual wealth is 1.1076.\n",
      "The 60th percentile of individual wealth is 1.0739.\n",
      "The 40th percentile of individual wealth is 0.9108.\n",
      "The 30th percentile of individual wealth is 0.8409.\n",
      "The 20th percentile of individual wealth is 0.7872.\n",
      "The 10th percentile of individual wealth is 0.6963.\n",
      "\n",
      "intercept=-0.5288444895735478, slope=1.1237386173871755, r-sq=0.810535437461125\n",
      "intercept=-0.5277773305948623, slope=1.1231871654603125, r-sq=0.8107863137511139\n",
      "The flat income tax rate is: 0.8000\n",
      "The lump-sum transfer in terms of permanent income is: 1.2804\n",
      "The mean of individual wealth is 0.9735; the standard deviation is 0.18084029906989046; the median is 1.0079.\n",
      "The mean of individual market resources is 2.6329; the standard deviation is 0.23857079928341574; the median is 2.6811.\n",
      "The 90th percentile of individual wealth is 1.2083.\n",
      "The 80th percentile of individual wealth is 1.1155.\n",
      "The 70th percentile of individual wealth is 1.0622.\n",
      "The 60th percentile of individual wealth is 1.0367.\n",
      "The 40th percentile of individual wealth is 0.9080.\n",
      "The 30th percentile of individual wealth is 0.8517.\n",
      "The 20th percentile of individual wealth is 0.8079.\n",
      "The 10th percentile of individual wealth is 0.7358.\n",
      "\n",
      "intercept=-0.5288444895735478, slope=1.1237386173871755, r-sq=0.810535437461125\n",
      "intercept=-0.5277773305948623, slope=1.1231871654603125, r-sq=0.8107863137511139\n",
      "The flat income tax rate is: 0.8500\n",
      "The lump-sum transfer in terms of permanent income is: 1.3597\n",
      "The mean of individual wealth is 0.9518; the standard deviation is 0.13356511804653823; the median is 0.9798.\n",
      "The mean of individual market resources is 2.6057; the standard deviation is 0.17688282902136962; the median is 2.6440.\n",
      "The 90th percentile of individual wealth is 1.1215.\n",
      "The 80th percentile of individual wealth is 1.0583.\n",
      "The 70th percentile of individual wealth is 1.0191.\n",
      "The 60th percentile of individual wealth is 1.0001.\n",
      "The 40th percentile of individual wealth is 0.9045.\n",
      "The 30th percentile of individual wealth is 0.8630.\n",
      "The 20th percentile of individual wealth is 0.8285.\n",
      "The 10th percentile of individual wealth is 0.7754.\n",
      "\n",
      "intercept=-0.5288444895735478, slope=1.1237386173871755, r-sq=0.810535437461125\n",
      "intercept=-0.5277773305948623, slope=1.1231871654603125, r-sq=0.8107863137511139\n",
      "The flat income tax rate is: 0.9000\n",
      "The lump-sum transfer in terms of permanent income is: 1.4390\n",
      "The mean of individual wealth is 0.9323; the standard deviation is 0.08782708639327413; the median is 0.9519.\n",
      "The mean of individual market resources is 2.5809; the standard deviation is 0.11653107959120272; the median is 2.6071.\n",
      "The 90th percentile of individual wealth is 1.0448.\n",
      "The 80th percentile of individual wealth is 1.0019.\n",
      "The 70th percentile of individual wealth is 0.9774.\n",
      "The 60th percentile of individual wealth is 0.9653.\n",
      "The 40th percentile of individual wealth is 0.9016.\n",
      "The 30th percentile of individual wealth is 0.8749.\n",
      "The 20th percentile of individual wealth is 0.8500.\n",
      "The 10th percentile of individual wealth is 0.8142.\n",
      "\n"
     ]
    },
    {
     "name": "stdout",
     "output_type": "stream",
     "text": [
      "intercept=-0.5288444895735478, slope=1.1237386173871755, r-sq=0.810535437461125\n",
      "intercept=-0.5277773305948623, slope=1.1231871654603125, r-sq=0.8107863137511139\n",
      "The flat income tax rate is: 0.9500\n",
      "The lump-sum transfer in terms of permanent income is: 1.5184\n",
      "The mean of individual wealth is 0.9155; the standard deviation is 0.04356736107282193; the median is 0.9258.\n",
      "The mean of individual market resources is 2.5590; the standard deviation is 0.05764036899369175; the median is 2.5725.\n",
      "The 90th percentile of individual wealth is 0.9699.\n",
      "The 80th percentile of individual wealth is 0.9502.\n",
      "The 70th percentile of individual wealth is 0.9380.\n",
      "The 60th percentile of individual wealth is 0.9321.\n",
      "The 40th percentile of individual wealth is 0.9006.\n",
      "The 30th percentile of individual wealth is 0.8875.\n",
      "The 20th percentile of individual wealth is 0.8747.\n",
      "The 10th percentile of individual wealth is 0.8562.\n",
      "\n"
     ]
    }
   ],
   "source": [
    "# rates = 20\n",
    "# tax_rates = np.linspace(0.00, 0.95, num=rates)\n",
    "\n",
    "v_at_p90_wealth = [] # Vector for value function of 90th percentile wealth agent at each level of flat income tax rate\n",
    "v_at_p80_wealth = [] # Vector for value function of 80th percentile wealth agent at each level of flat income tax rate\n",
    "v_at_p70_wealth = [] # Vector for value function of 70th percentile wealth agent at each level of flat income tax rate\n",
    "v_at_p60_wealth = [] # Vector for value function of 60th percentile wealth agent at each level of flat income tax rate\n",
    "\n",
    "\n",
    "v_at_p40_wealth = [] # Vector for value function of 40th percentile wealth agent at each level of flat income tax rate\n",
    "v_at_p30_wealth = [] # Vector for value function of 30th percentile wealth agent at each level of flat income tax rate\n",
    "v_at_p20_wealth = [] # Vector for value function of 20th percentile wealth agent at each level of flat income tax rate\n",
    "v_at_p10_wealth = [] # Vector for value function of 10th percentile wealth agent at each level of flat income tax rate\n",
    "\n",
    "for tau in tax_rates:\n",
    "\n",
    "    AggShockAgent_tax_tau = deepcopy(AggShockAgent_tax)\n",
    "    AggShockAgent_tax_tau.tax_rate = tau\n",
    "    EconomyExample_tau = deepcopy(EconomyExample)\n",
    "    EconomyExample_tau.tax_rate = tau\n",
    "    AggShockAgent_tax_tau.get_economy_data(EconomyExample_tau)\n",
    "    EconomyExample_tau.make_AggShkHist()\n",
    "    AggShockAgent_tax_tau.solve()\n",
    "    AggShockAgent_tax_tau.initialize_sim()\n",
    "    AggShockAgent_tax_tau.simulate()\n",
    "    AggShockAgent_tax_tau.track_vars = ['aNrm','pLvl','mNrm','TranShk']\n",
    "    EconomyExample_tau.solve()\n",
    "    AggShockAgent_tax_tau.unpack('vFunc')\n",
    "\n",
    "    sim_market_resources_tau = AggShockAgent_tax_tau.state_now['mNrm']\n",
    "    sim_wealth_tau = AggShockAgent_tax_tau.state_now['aNrm']\n",
    "    #print(sim_wealth_tau)\n",
    "    print(\"The flat income tax rate is: \" + mystr(AggShockAgent_tax_tau.tax_rate))\n",
    "\n",
    "    print(\"The lump-sum transfer in terms of permanent income is: \" + mystr(AggShockAgent_tax_tau.calc_transfers()))\n",
    "\n",
    "    print(\"The mean of individual wealth is \" + mystr(sim_wealth_tau.mean()) + \"; the standard deviation is \"\n",
    "          + str(sim_wealth_tau.std()) + \"; the median is \" + mystr(np.median(sim_wealth_tau)) + \".\")\n",
    "    print(\"The mean of individual market resources is \" + mystr(sim_market_resources_tau.mean()) + \"; the standard deviation is \"\n",
    "          + str(sim_market_resources_tau.std()) + \"; the median is \" + mystr(np.median(sim_market_resources_tau)) + \".\")\n",
    "    print(\"The 90th percentile of individual wealth is \" + mystr(np.percentile(sim_wealth_tau,90)) + \".\")\n",
    "    print(\"The 80th percentile of individual wealth is \" + mystr(np.percentile(sim_wealth_tau,80)) + \".\")\n",
    "    print(\"The 70th percentile of individual wealth is \" + mystr(np.percentile(sim_wealth_tau,70)) + \".\")# + \"; the standard deviation is \")\n",
    "    print(\"The 60th percentile of individual wealth is \" + mystr(np.percentile(sim_wealth_tau,60)) + \".\")\n",
    "    print(\"The 40th percentile of individual wealth is \" + mystr(np.percentile(sim_wealth_tau,40)) + \".\")# + \"; the standard deviation is \")\n",
    "    print(\"The 30th percentile of individual wealth is \" + mystr(np.percentile(sim_wealth_tau,30)) + \".\")\n",
    "    print(\"The 20th percentile of individual wealth is \" + mystr(np.percentile(sim_wealth_tau,20)) + \".\")\n",
    "    print(\"The 10th percentile of individual wealth is \" + mystr(np.percentile(sim_wealth_tau,10)) + \".\\n\")\n",
    "    \n",
    "    # Tax rate as determined by agent (pre-tax)'s wealth and income\n",
    "    sim_p90_wealth_tau = np.percentile(sim_wealth_tau,90)\n",
    "    sim_p90_market_resources_tau = np.percentile(sim_market_resources_tau,90)\n",
    "    sim_p80_wealth_tau = np.percentile(sim_wealth_tau,80)\n",
    "    sim_p80_market_resources_tau = np.percentile(sim_market_resources_tau,80)\n",
    "    sim_p70_wealth_tau = np.percentile(sim_wealth_tau,70)\n",
    "    sim_p70_market_resources_tau = np.percentile(sim_market_resources_tau,70)\n",
    "    sim_p60_wealth_tau = np.percentile(sim_wealth_tau,60)\n",
    "    sim_p60_market_resources_tau = np.percentile(sim_market_resources_tau,60)\n",
    "    sim_p40_wealth_tau = np.percentile(sim_wealth_tau,40)\n",
    "    sim_p40_market_resources_tau = np.percentile(sim_market_resources_tau,40)\n",
    "    sim_p30_wealth_tau = np.percentile(sim_wealth_tau,30)\n",
    "    sim_p30_market_resources_tau = np.percentile(sim_market_resources_tau,30)\n",
    "    sim_p20_wealth_tau = np.percentile(sim_wealth_tau,20)\n",
    "    sim_p20_market_resources_tau = np.percentile(sim_market_resources_tau,20)\n",
    "    sim_p10_wealth_tau = np.percentile(sim_wealth_tau,10)\n",
    "    sim_p10_market_resources_tau = np.percentile(sim_market_resources_tau,10)\n",
    "    # Find value function of post-tax median wealth agent/voter\n",
    "    # vFunc arguments: Median agent's level of market resources\n",
    "    # and median agent's capital-labor ratio (assumed as 1.0 for now)\n",
    "    v_at_p90_wealth_tau = AggShockAgent_tax_tau.vFunc[0](sim_p90_market_resources_tau, 1.0)\n",
    "    v_at_p80_wealth_tau = AggShockAgent_tax_tau.vFunc[0](sim_p80_market_resources_tau, 1.0)\n",
    "    v_at_p70_wealth_tau = AggShockAgent_tax_tau.vFunc[0](sim_p70_market_resources_tau, 1.0)\n",
    "    v_at_p60_wealth_tau = AggShockAgent_tax_tau.vFunc[0](sim_p60_market_resources_tau, 1.0)\n",
    "    v_at_p40_wealth_tau = AggShockAgent_tax_tau.vFunc[0](sim_p40_market_resources_tau, 1.0)\n",
    "    v_at_p30_wealth_tau = AggShockAgent_tax_tau.vFunc[0](sim_p30_market_resources_tau, 1.0)\n",
    "    v_at_p20_wealth_tau = AggShockAgent_tax_tau.vFunc[0](sim_p20_market_resources_tau, 1.0)\n",
    "    v_at_p10_wealth_tau = AggShockAgent_tax_tau.vFunc[0](sim_p10_market_resources_tau, 1.0)\n",
    "\n",
    "    v_at_p90_wealth.append(v_at_p90_wealth_tau)\n",
    "    v_at_p80_wealth.append(v_at_p80_wealth_tau)\n",
    "    v_at_p70_wealth.append(v_at_p70_wealth_tau)\n",
    "    v_at_p60_wealth.append(v_at_p60_wealth_tau)\n",
    "    v_at_p40_wealth.append(v_at_p40_wealth_tau)\n",
    "    v_at_p30_wealth.append(v_at_p30_wealth_tau)\n",
    "    v_at_p20_wealth.append(v_at_p20_wealth_tau)\n",
    "    v_at_p10_wealth.append(v_at_p10_wealth_tau)"
   ]
  },
  {
   "cell_type": "code",
   "execution_count": 15,
   "id": "29ebd769-075f-45a9-af40-23fcabd8b2d1",
   "metadata": {},
   "outputs": [
    {
     "data": {
      "image/png": "[encoded data removed]",
      "text/plain": [
       "<Figure size 648x360 with 1 Axes>"
      ]
     },
     "metadata": {
      "needs_background": "light"
     },
     "output_type": "display_data"
    }
   ],
   "source": [
    "plt.figure(figsize=(9,5))\n",
    "plt.plot(tax_rates, v_at_p90_wealth, 'r--', label = 'Value function of p40 wealth agent')\n",
    "plt.plot(tax_rates, v_at_p80_wealth, 'g--', label = 'Value function of p30 wealth agent')\n",
    "plt.plot(tax_rates, v_at_p70_wealth, 'b--', label = 'Value function of p20 wealth agent')\n",
    "plt.plot(tax_rates, v_at_p60_wealth, 'y--', label = 'Value function of p10 wealth agent')\n",
    "plt.plot(tax_rates, v_at_median_wealth, 'k-', label = 'Value function of median wealth agent')\n",
    "plt.plot(tax_rates, v_at_p40_wealth, 'r-', label = 'Value function of p40 wealth agent')\n",
    "plt.plot(tax_rates, v_at_p30_wealth, 'g-', label = 'Value function of p30 wealth agent')\n",
    "plt.plot(tax_rates, v_at_p20_wealth, 'b-', label = 'Value function of p20 wealth agent')\n",
    "plt.plot(tax_rates, v_at_p10_wealth, 'y-', label = 'Value function of p10 wealth agent')\n",
    "\n",
    "plt.xlabel('Flat income tax rate')\n",
    "plt.ylabel('Value function of agents')\n",
    "plt.legend()\n",
    "plt.show()"
   ]
  },
  {
   "cell_type": "code",
   "execution_count": 16,
   "id": "064044b2-8897-4d41-bac0-c5f3fd10a199",
   "metadata": {},
   "outputs": [
    {
     "name": "stdout",
     "output_type": "stream",
     "text": [
      "The optimal tax rate for the 90th percentile voter is 0.0000.\n",
      "The optimal tax rate for the 80th percentile voter is 0.0000.\n",
      "The optimal tax rate for the 70th percentile voter is 0.0000.\n",
      "The optimal tax rate for the 60th percentile voter is 0.0000.\n",
      "The optimal tax rate for the median voter is 0.0000.\n",
      "The optimal tax rate for the 40th percentile voter is 0.0000.\n",
      "The optimal tax rate for the 30th percentile voter is 0.9500.\n",
      "The optimal tax rate for the 20th percentile voter is 0.9500.\n",
      "The optimal tax rate for the 10th percentile voter is 0.9500.\n"
     ]
    }
   ],
   "source": [
    "optimal_tax_rate_p90 = tax_rates[v_at_p90_wealth.index(np.max(v_at_p90_wealth))]\n",
    "optimal_tax_rate_p80 = tax_rates[v_at_p80_wealth.index(np.max(v_at_p80_wealth))]\n",
    "optimal_tax_rate_p70 = tax_rates[v_at_p70_wealth.index(np.max(v_at_p70_wealth))]\n",
    "optimal_tax_rate_p60 = tax_rates[v_at_p60_wealth.index(np.max(v_at_p60_wealth))]\n",
    "optimal_tax_rate_median = tax_rates[v_at_median_wealth.index(np.max(v_at_median_wealth))]\n",
    "optimal_tax_rate_p40 = tax_rates[v_at_p40_wealth.index(np.max(v_at_p40_wealth))]\n",
    "optimal_tax_rate_p30 = tax_rates[v_at_p30_wealth.index(np.max(v_at_p30_wealth))]\n",
    "optimal_tax_rate_p20 = tax_rates[v_at_p20_wealth.index(np.max(v_at_p20_wealth))]\n",
    "optimal_tax_rate_p10 = tax_rates[v_at_p10_wealth.index(np.max(v_at_p10_wealth))]\n",
    "\n",
    "print(\"The optimal tax rate for the 90th percentile voter is \" + str(mystr(optimal_tax_rate_p90)) + \".\")\n",
    "print(\"The optimal tax rate for the 80th percentile voter is \" + str(mystr(optimal_tax_rate_p80)) + \".\")\n",
    "print(\"The optimal tax rate for the 70th percentile voter is \" + str(mystr(optimal_tax_rate_p70)) + \".\")\n",
    "print(\"The optimal tax rate for the 60th percentile voter is \" + str(mystr(optimal_tax_rate_p60)) + \".\")\n",
    "print(\"The optimal tax rate for the median voter is \" + str(mystr(optimal_tax_rate_median)) + \".\")\n",
    "print(\"The optimal tax rate for the 40th percentile voter is \" + str(mystr(optimal_tax_rate_p40)) + \".\")\n",
    "print(\"The optimal tax rate for the 30th percentile voter is \" + str(mystr(optimal_tax_rate_p30)) + \".\")\n",
    "print(\"The optimal tax rate for the 20th percentile voter is \" + str(mystr(optimal_tax_rate_p20)) + \".\")\n",
    "print(\"The optimal tax rate for the 10th percentile voter is \" + str(mystr(optimal_tax_rate_p10)) + \".\")"
   ]
  },
  {
   "cell_type": "markdown",
   "id": "2562716a",
   "metadata": {},
   "source": [
    "So far, for agents in different percentiles of wealth still prefer a flat income tax rate of either zero or the maximum value (here, 0.95). However, we do find that the optimal tax rate for agents with lower levels of wealth relative to others prefer a higher tax rate. This somewhat confirms that voters with lower levels of wealth will prefer higher levels of taxation and redistribution.\n",
    "\n",
    "In this simulation, we find that the bottom 30th percent of voters would vote for (nearly) full redistribution, whereas the rest would vote for zero redistribution. This would lead to a politically determined tax rate of 0\\%."
   ]
  }
 ],
 "metadata": {
  "kernelspec": {
   "display_name": "Python 3 (ipykernel)",
   "language": "python",
   "name": "python3"
  },
  "language_info": {
   "codemirror_mode": {
    "name": "ipython",
    "version": 3
   },
   "file_extension": ".py",
   "mimetype": "text/x-python",
   "name": "python",
   "nbconvert_exporter": "python",
   "pygments_lexer": "ipython3",
   "version": "3.9.12"
  }
 },
 "nbformat": 4,
 "nbformat_minor": 5
}
