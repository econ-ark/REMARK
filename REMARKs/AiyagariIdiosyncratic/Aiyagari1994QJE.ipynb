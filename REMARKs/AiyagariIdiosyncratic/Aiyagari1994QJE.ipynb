{
 "cells": [
  {
   "cell_type": "markdown",
   "metadata": {},
   "source": [
    "# [Uninsured Idiosyncratic Risk and Aggregate Saving](https://www.jstor.org/stable/2118417?seq=1#metadata_info_tab_contents)\n",
    "* Author: S. Rao Aiyagari\n",
    "* Source: The Quaterly Journal of Economics, Vol. 109, No. 3 (Aug., 1994), pp. 659-684\n",
    "* Notebook by Zixuan Huang and Mingzuo Sun\n",
    "* 2019 Fall"
   ]
  },
  {
   "cell_type": "markdown",
   "metadata": {},
   "source": [
    "This notebook uses [EconForge/Dolark](http://www.econforge.org/dolark/) toolkit to describe the results and reproduce the tables in the linked paper.\n",
    "\n",
    "__NOTES:__ This is a preliminary draft. This replication depends on $\\texttt{Dolo}$ 's and $\\texttt{Dolark}$ 's current master branch."
   ]
  },
  {
   "cell_type": "code",
   "execution_count": 1,
   "metadata": {},
   "outputs": [],
   "source": [
    "# Set up\n",
    "# Before this setup, please go and check \"README.md\" to install what are necessary for running the following code.\n",
    "from dolo import *\n",
    "\n",
    "import dolark\n",
    "from dolark import HModel  # The model is written in yaml file, and HModel reads the yaml file.\n",
    "from dolark.equilibrium import find_steady_state\n",
    "from dolark.perturbation import perturb   #find variations\n",
    "from dolo import time_iteration, improved_time_iteration     #time iteration is backward induction\n",
    "from matplotlib import pyplot as plt\n",
    "import numpy as np"
   ]
  },
  {
   "cell_type": "markdown",
   "metadata": {},
   "source": [
    "## Abtract \n",
    "* The paper modifies standard growth model to include precautionary saving motives and liquidity constraints. \n",
    "* The paper examines the impact of the introduction of a particular kind of uninsurable idiosyncratic risk on the aggregate saving rate; the importance of asset trading to individuals; and the relative inequality of the wealth and income distributions. "
   ]
  },
  {
   "cell_type": "markdown",
   "metadata": {},
   "source": [
    "## Introduction\n",
    "\n",
    "### Paper's Goals \n",
    "* To provide an exposition of models whose aggregate behavior is the result of market interaction among a large number of agents subject to idiosyncratic shocks. \n",
    "> * This class of models contrasts with representative agent models where individual dynamics and uncertainty coincide with aggregate dynamics and uncertainty. <br/>\n",
    "> * This exposition is built around the standard growth model of Brock and Mirman(1972) modified to include a role for uninsured idiosyncratic risk and borrowing constraint.\n",
    "* To use such a model to study the quantitative importance of individual risk for aggregate saving. <br/>\n",
    "\n",
    "\n",
    "### Key features\n",
    "* Endogenous heterogeneity \n",
    "* Aggregation\n",
    "* Infinite horizons \n",
    "* Exogenous borrowing constraint\n",
    "* General equilibrium. i.e. interest rate is endogenously determined since in a steady state equilibrium the capital per capita must equal the per capita asset holdings of consumers, and the interest rate must equal the net marginal product of capital. "
   ]
  },
  {
   "cell_type": "markdown",
   "metadata": {},
   "source": [
    "## Related Literature\n",
    "* The Aiyagari model originates from Bewley model and a subsequent literature Zeldes (1989), Deaton (1991), Carroll (1992), and puts these kinds of models into a general equilibrium context. These models all share the same key components as mentioned in the previous part. And they are used to study the following topics:\n",
    "> * How much of observed wealth inequality does a particular choice of uninsurable idiosyncratic income uncertainty explain? <br/>\n",
    "> * In this model, what is the fraction of aggregate savings due to the precautionary motive? <br/>\n",
    "> * In this model, what are the redistributional implications of various policies?\n"
   ]
  },
  {
   "cell_type": "markdown",
   "metadata": {},
   "source": [
    "## Model\n",
    "### The Individual's Problem\n",
    "\n",
    "\\begin{split}\n",
    "&\\max E_0\\left(\\sum_{t=0}^\\infty \\beta^t U(c_t)\\right)\\\\\n",
    "&\\text{s.t.}\\\\\n",
    "&c_t+a_{t+1}=wl_{t}+(1+r)a_t \\\\\n",
    "&c_t\\geq0\\\\\n",
    "&a_t\\geq-\\phi\n",
    "\\end{split}\n",
    "\n",
    "\n",
    "where $\\phi$ (if positive) is the limit on borrowing; $l_t$ is assumed to be i.i.d with bounded support given by $[l_{min},l_{max}]$, with $l_{min}>0$; $w$ and $r$ represent wage and interest rate repectively.\n"
   ]
  },
  {
   "cell_type": "markdown",
   "metadata": {},
   "source": [
    "* $\\hat{a}_t\\equiv a_t+\\phi$ \n",
    "* $z_t \\equiv wl_t+(1+r)\\hat{a}_t-r\\phi$: total resources of the agent at date $t$ respectively. \n",
    "* Then the Bellman equation is as follows:\n",
    "$$\n",
    "\\begin{split}\n",
    "V(z_t,\\phi,w,r) \\equiv \\underset{\\hat{a}_{t+1}}{\\max}\\left(U(z_t-\\hat{a}_{t+1})+\\beta \\int V(z_{t+1},\\phi,w,r)\\ dF(l_{t+1})  \\right)\n",
    "\\end{split}\n",
    "$$"
   ]
  },
  {
   "cell_type": "markdown",
   "metadata": {},
   "source": [
    "* Euler equation: \n",
    "\n",
    "\\begin{split}\n",
    "U^\\prime (z_t-\\hat{a}_{t+1})=\\beta(1+r)\\int U^\\prime (z_{t+1}-\\hat{a}_{t+2})\\ dF(l_{t+1})\n",
    "\\end{split}"
   ]
  },
  {
   "cell_type": "markdown",
   "metadata": {},
   "source": [
    "* Decision rule: $\\hat{a}_{t+1}=A(z_t,\\phi,w,r)$ \n",
    "* Law of transition: $z_{t+1}=wl_{t+1}+(1+r)A(z_t,\\phi,w,r)-r\\phi$"
   ]
  },
  {
   "cell_type": "markdown",
   "metadata": {},
   "source": [
    "### Firm's problem\n",
    "\\begin{split}\n",
    "\\max F(K,L)-wL-rK\n",
    "\\end{split}\n",
    "\n",
    "\n",
    "\n",
    "where $K$ is the aggregate capital, $L$ is the aggregate labor, $F(K,L)$ is the production function."
   ]
  },
  {
   "cell_type": "markdown",
   "metadata": {},
   "source": [
    "### General Equilibrium\n",
    "In the steady state, variables are time invariant and all markets are clear, i.e.,\n",
    "* $F_K(K,L) = r+\\delta $\n",
    "* $F_L(K,L) = w$\n",
    "* $\\int l_i di = L$\n",
    "* $\\int a_i di = K$"
   ]
  },
  {
   "cell_type": "code",
   "execution_count": 2,
   "metadata": {},
   "outputs": [
    {
     "data": {
      "text/plain": [
       "{'ex-ante-identical': True,\n",
       " 'conditional-processes': False,\n",
       " 'iid-shocks': False}"
      ]
     },
     "execution_count": 2,
     "metadata": {},
     "output_type": "execute_result"
    }
   ],
   "source": [
    "# model is written in .yaml file\n",
    "# HModel reads the yaml file\n",
    "aggmodel = HModel('Aiyagari.yaml')\n",
    "\n",
    "# check features of the model   \n",
    "aggmodel.features"
   ]
  },
  {
   "cell_type": "markdown",
   "metadata": {},
   "source": [
    "## Model Specification, Parameterization, and Consumption\n",
    "\n",
    "### Model specification and parameters\n",
    "| Parameter      | Description               | Value           ||\n",
    "|:------:| ------       | ------    | :------:  |\n",
    "|$\\beta$ | Time Preference Factor | 0.96 | \n",
    "| $\\delta$ | Depreciation Rate | 0.08 |\n",
    "| $\\alpha$ | Capital Share | 0.36 |\n",
    "| $\\phi$ |     Borrowing Limit | 0 |\n",
    "| $\\mu$ | Risk Aversion Coefficient | {1,3,5} |\n",
    "| $\\rho$ | Serial Correlation of Labor Shocks | {0,0.3,0.6,0.9} |\n",
    "| $\\sigma$ | Variance of Labor Shocks | {0.2,0.4} |\n",
    "\n",
    "\n",
    "\n",
    "* Production function: Cobb Douglas with the capital share taken to be $\\alpha$\n",
    "\\begin{split}\n",
    "F(K,L) = K^\\alpha L^{1-\\alpha}\n",
    "\\end{split}\n",
    "* Utility function: CRRA with the relative risk aversion coefficient $\\mu$\n",
    "* Labor endowment shocks: \n",
    "$$\n",
    "\\begin{split}\n",
    "\\log(l_t)=\\rho\\log(l_{t-1})+\\sigma(1-\\rho^2)^{\\frac{1}{2}}\\epsilon_{t}, \\ \\epsilon_t \\sim N(0,1)   \n",
    "\\end{split}\n",
    "$$\n"
   ]
  },
  {
   "cell_type": "markdown",
   "metadata": {},
   "source": [
    "### Computation\n",
    "After importing the model written in .yaml, we can calculate the equilibrium by using $\\texttt{Dolark}$"
   ]
  },
  {
   "cell_type": "code",
   "execution_count": 3,
   "metadata": {},
   "outputs": [
    {
     "name": "stdout",
     "output_type": "stream",
     "text": [
      "Computing Initial Initial Rule... \u001b[32mdone\u001b[0m\n",
      "Computing Steady State...\u001b[32mdone\u001b[0m\n"
     ]
    }
   ],
   "source": [
    "# baseline case where coefficient risk aversion is 1, serial correlation is 0.9 and variance of labor shocks is 0.04\n",
    "# other values of variables are the same as the those in parameter tables\n",
    "eq = find_steady_state(aggmodel)"
   ]
  },
  {
   "cell_type": "markdown",
   "metadata": {},
   "source": [
    "## Key Results"
   ]
  },
  {
   "cell_type": "code",
   "execution_count": 4,
   "metadata": {},
   "outputs": [],
   "source": [
    "# data frame of the steay state\n",
    "df = eq.as_df()"
   ]
  },
  {
   "cell_type": "code",
   "execution_count": 5,
   "metadata": {},
   "outputs": [
    {
     "data": {
      "text/html": [
       "\n",
       "<div id=\"altair-viz-1\"></div>\n",
       "<script type=\"text/javascript\">\n",
       "  (function(spec, embedOpt){\n",
       "    const outputDiv = document.getElementById(\"altair-viz-1\");\n",
       "    const paths = {\n",
       "      \"vega\": \"https://cdn.jsdelivr.net/npm//vega@5?noext\",\n",
       "      \"vega-lib\": \"https://cdn.jsdelivr.net/npm//vega-lib?noext\",\n",
       "      \"vega-lite\": \"https://cdn.jsdelivr.net/npm//vega-lite@4.0.0?noext\",\n",
       "      \"vega-embed\": \"https://cdn.jsdelivr.net/npm//vega-embed@6?noext\",\n",
       "    };\n",
       "\n",
       "    function loadScript(lib) {\n",
       "      return new Promise(function(resolve, reject) {\n",
       "        var s = document.createElement('script');\n",
       "        s.src = paths[lib];\n",
       "        s.async = true;\n",
       "        s.onload = () => resolve(paths[lib]);\n",
       "        s.onerror = () => reject(`Error loading script: ${paths[lib]}`);\n",
       "        document.getElementsByTagName(\"head\")[0].appendChild(s);\n",
       "      });\n",
       "    }\n",
       "\n",
       "    function showError(err) {\n",
       "      outputDiv.innerHTML = `<div class=\"error\" style=\"color:red;\">${err}</div>`;\n",
       "      throw err;\n",
       "    }\n",
       "\n",
       "    function displayChart(vegaEmbed) {\n",
       "      vegaEmbed(outputDiv, spec, embedOpt)\n",
       "        .catch(err => showError(`Javascript Error: ${err.message}<br>This usually means there's a typo in your chart specification. See the javascript console for the full traceback.`));\n",
       "    }\n",
       "\n",
       "    if(typeof define === \"function\" && define.amd) {\n",
       "      requirejs.config({paths});\n",
       "      require([\"vega-embed\"], displayChart, err => showError(`Error loading script: ${err.message}`));\n",
       "    } else if (typeof vegaEmbed === \"function\") {\n",
       "      displayChart(vegaEmbed);\n",
       "    } else {\n",
       "      loadScript(\"vega\")\n",
       "        .then(() => loadScript(\"vega-lite\"))\n",
       "        .then(() => loadScript(\"vega-embed\"))\n",
       "        .catch(showError)\n",
       "        .then(() => displayChart(vegaEmbed));\n",
       "    }\n",
       "  })({\"config\": {\"view\": {\"continuousWidth\": 400, \"continuousHeight\": 300}}, \"data\": {\"name\": \"data-3574720dcf841bd7be30d4f0c98db72b\"}, \"mark\": \"line\", \"encoding\": {\"x\": {\"type\": \"quantitative\", \"axis\": {\"title\": \"Current Assets\"}, \"field\": \"a\"}, \"y\": {\"type\": \"quantitative\", \"axis\": {\"title\": \"Next Period Assets\"}, \"field\": \"i\"}}, \"$schema\": \"https://vega.github.io/schema/vega-lite/v4.0.0.json\", \"datasets\": {\"data-3574720dcf841bd7be30d4f0c98db72b\": [{\"i_m\": 0.0, \"r\": 0.030442317737168337, \"w\": 1.2440459023334751, \"e\": -0.6488856845230503, \"a\": -1e-10, \"\\u03bc\": 0.1537294499570831, \"i\": -1.000000082740371e-10}, {\"i_m\": 0.0, \"r\": 0.030442317737168337, \"w\": 1.2440459023334751, \"e\": -0.6488856845230503, \"a\": 6.8965517240413785, \"\\u03bc\": 0.06660701561465006, \"i\": 6.418650838141115}, {\"i_m\": 0.0, \"r\": 0.030442317737168337, \"w\": 1.2440459023334751, \"e\": -0.6488856845230503, \"a\": 13.793103448182757, \"\\u03bc\": 0.0208427931814385, \"i\": 13.051628870008754}, {\"i_m\": 0.0, \"r\": 0.030442317737168337, \"w\": 1.2440459023334751, \"e\": -0.6488856845230503, \"a\": 20.689655172324137, \"\\u03bc\": 0.006928994595641625, \"i\": 19.78488848683945}, {\"i_m\": 0.0, \"r\": 0.030442317737168337, \"w\": 1.2440459023334751, \"e\": -0.6488856845230503, \"a\": 27.586206896465516, \"\\u03bc\": 0.0016665389592614348, \"i\": 26.551823005911974}, {\"i_m\": 0.0, \"r\": 0.030442317737168337, \"w\": 1.2440459023334751, \"e\": -0.6488856845230503, \"a\": 34.48275862060689, \"\\u03bc\": 0.00022288813410100395, \"i\": 33.33614147743437}, {\"i_m\": 0.0, \"r\": 0.030442317737168337, \"w\": 1.2440459023334751, \"e\": -0.6488856845230503, \"a\": 41.37931034474827, \"\\u03bc\": 2.3195578261555562e-06, \"i\": 40.13076665437227}, {\"i_m\": 0.0, \"r\": 0.030442317737168337, \"w\": 1.2440459023334751, \"e\": -0.6488856845230503, \"a\": 48.27586206888965, \"\\u03bc\": -2.311850518648126e-16, \"i\": 46.932041836912205}, {\"i_m\": 0.0, \"r\": 0.030442317737168337, \"w\": 1.2440459023334751, \"e\": -0.6488856845230503, \"a\": 55.172413793031026, \"\\u03bc\": -2.522745938435197e-16, \"i\": 53.73786320048389}, {\"i_m\": 0.0, \"r\": 0.030442317737168337, \"w\": 1.2440459023334751, \"e\": -0.6488856845230503, \"a\": 62.0689655171724, \"\\u03bc\": -2.898685676578696e-16, \"i\": 60.54692580587542}, {\"i_m\": 0.0, \"r\": 0.030442317737168337, \"w\": 1.2440459023334751, \"e\": -0.6488856845230503, \"a\": 68.96551724131378, \"\\u03bc\": -1.2106510258476365e-16, \"i\": 67.35837640594167}, {\"i_m\": 0.0, \"r\": 0.030442317737168337, \"w\": 1.2440459023334751, \"e\": -0.6488856845230503, \"a\": 75.86206896545517, \"\\u03bc\": -1.1288628884785674e-16, \"i\": 74.17163363017546}, {\"i_m\": 0.0, \"r\": 0.030442317737168337, \"w\": 1.2440459023334751, \"e\": -0.6488856845230503, \"a\": 82.75862068959654, \"\\u03bc\": -1.0578327490282896e-16, \"i\": 80.98628806334223}, {\"i_m\": 0.0, \"r\": 0.030442317737168337, \"w\": 1.2440459023334751, \"e\": -0.6488856845230503, \"a\": 89.65517241373792, \"\\u03bc\": -9.950401502974459e-17, \"i\": 87.80204346253609}, {\"i_m\": 0.0, \"r\": 0.030442317737168337, \"w\": 1.2440459023334751, \"e\": -0.6488856845230503, \"a\": 96.5517241378793, \"\\u03bc\": -9.385439547300034e-17, \"i\": 94.61868049334501}, {\"i_m\": 0.0, \"r\": 0.030442317737168337, \"w\": 1.2440459023334751, \"e\": -0.6488856845230503, \"a\": 103.44827586202068, \"\\u03bc\": -8.867557298835031e-17, \"i\": 101.43603354854199}, {\"i_m\": 0.0, \"r\": 0.030442317737168337, \"w\": 1.2440459023334751, \"e\": -0.6488856845230503, \"a\": 110.34482758616205, \"\\u03bc\": -8.382915103778997e-17, \"i\": 108.25397540172189}, {\"i_m\": 0.0, \"r\": 0.030442317737168337, \"w\": 1.2440459023334751, \"e\": -0.6488856845230503, \"a\": 117.24137931030343, \"\\u03bc\": -7.918693537871476e-17, \"i\": 115.07240685461558}, {\"i_m\": 0.0, \"r\": 0.030442317737168337, \"w\": 1.2440459023334751, \"e\": -0.6488856845230503, \"a\": 124.1379310344448, \"\\u03bc\": -7.462362612488317e-17, \"i\": 121.89124946272226}, {\"i_m\": 0.0, \"r\": 0.030442317737168337, \"w\": 1.2440459023334751, \"e\": -0.6488856845230503, \"a\": 131.0344827585862, \"\\u03bc\": -7.001176993575027e-17, \"i\": 128.7104405196502}, {\"i_m\": 0.0, \"r\": 0.030442317737168337, \"w\": 1.2440459023334751, \"e\": -0.6488856845230503, \"a\": 137.93103448272757, \"\\u03bc\": -6.521893970869438e-17, \"i\": 135.529929217294}, {\"i_m\": 0.0, \"r\": 0.030442317737168337, \"w\": 1.2440459023334751, \"e\": -0.6488856845230503, \"a\": 144.82758620686897, \"\\u03bc\": -6.010777807481466e-17, \"i\": 142.3496741967501}, {\"i_m\": 0.0, \"r\": 0.030442317737168337, \"w\": 1.2440459023334751, \"e\": -0.6488856845230503, \"a\": 151.72413793101035, \"\\u03bc\": -5.454020200793216e-17, \"i\": 149.1696411101973}, {\"i_m\": 0.0, \"r\": 0.030442317737168337, \"w\": 1.2440459023334751, \"e\": -0.6488856845230503, \"a\": 158.62068965515172, \"\\u03bc\": -4.838811910646168e-17, \"i\": 155.98980184847545}, {\"i_m\": 0.0, \"r\": 0.030442317737168337, \"w\": 1.2440459023334751, \"e\": -0.6488856845230503, \"a\": 165.5172413792931, \"\\u03bc\": -4.1554196611223465e-17, \"i\": 162.81013206969547}, {\"i_m\": 0.0, \"r\": 0.030442317737168337, \"w\": 1.2440459023334751, \"e\": -0.6488856845230503, \"a\": 172.41379310343447, \"\\u03bc\": -3.4008342279268694e-17, \"i\": 169.63061269861913}, {\"i_m\": 0.0, \"r\": 0.030442317737168337, \"w\": 1.2440459023334751, \"e\": -0.6488856845230503, \"a\": 179.31034482757585, \"\\u03bc\": -2.5847903401977232e-17, \"i\": 176.45122479502135}, {\"i_m\": 0.0, \"r\": 0.030442317737168337, \"w\": 1.2440459023334751, \"e\": -0.6488856845230503, \"a\": 186.20689655171722, \"\\u03bc\": -1.7393913808346616e-17, \"i\": 183.27195743136488}, {\"i_m\": 0.0, \"r\": 0.030442317737168337, \"w\": 1.2440459023334751, \"e\": -0.6488856845230503, \"a\": 193.10344827585863, \"\\u03bc\": -9.340248186918264e-18, \"i\": 190.09279093454543}, {\"i_m\": 0.0, \"r\": 0.030442317737168337, \"w\": 1.2440459023334751, \"e\": -0.6488856845230503, \"a\": 200.0, \"\\u03bc\": -2.9810644021851357e-18, \"i\": 196.91372882985064}, {\"i_m\": 1.0, \"r\": 0.030442317737168337, \"w\": 1.2440459023334751, \"e\": 0.0, \"a\": -1e-10, \"\\u03bc\": 0.22365221354877096, \"i\": 0.11633532307950611}, {\"i_m\": 1.0, \"r\": 0.030442317737168337, \"w\": 1.2440459023334751, \"e\": 0.0, \"a\": 6.8965517240413785, \"\\u03bc\": 0.1747761520117367, \"i\": 6.687177260658322}, {\"i_m\": 1.0, \"r\": 0.030442317737168337, \"w\": 1.2440459023334751, \"e\": 0.0, \"a\": 13.793103448182757, \"\\u03bc\": 0.0665487155724687, \"i\": 13.37554874596506}, {\"i_m\": 1.0, \"r\": 0.030442317737168337, \"w\": 1.2440459023334751, \"e\": 0.0, \"a\": 20.689655172324137, \"\\u03bc\": 0.0263913234426503, \"i\": 20.12748683967482}, {\"i_m\": 1.0, \"r\": 0.030442317737168337, \"w\": 1.2440459023334751, \"e\": 0.0, \"a\": 27.586206896465516, \"\\u03bc\": 0.00745095881478182, \"i\": 26.90449129270533}, {\"i_m\": 1.0, \"r\": 0.030442317737168337, \"w\": 1.2440459023334751, \"e\": 0.0, \"a\": 34.48275862060689, \"\\u03bc\": 0.001167648363509673, \"i\": 33.6948382854349}, {\"i_m\": 1.0, \"r\": 0.030442317737168337, \"w\": 1.2440459023334751, \"e\": 0.0, \"a\": 41.37931034474827, \"\\u03bc\": 1.2988246086403706e-05, \"i\": 40.49331020006298}, {\"i_m\": 1.0, \"r\": 0.030442317737168337, \"w\": 1.2440459023334751, \"e\": 0.0, \"a\": 48.27586206888965, \"\\u03bc\": -3.255940714248799e-16, \"i\": 47.29717919315716}, {\"i_m\": 1.0, \"r\": 0.030442317737168337, \"w\": 1.2440459023334751, \"e\": 0.0, \"a\": 55.172413793031026, \"\\u03bc\": -2.886254228778498e-16, \"i\": 54.10481238206871}, {\"i_m\": 1.0, \"r\": 0.030442317737168337, \"w\": 1.2440459023334751, \"e\": 0.0, \"a\": 62.0689655171724, \"\\u03bc\": -2.8112071029988675e-16, \"i\": 60.915176106747936}, {\"i_m\": 1.0, \"r\": 0.030442317737168337, \"w\": 1.2440459023334751, \"e\": 0.0, \"a\": 68.96551724131378, \"\\u03bc\": -2.5204674664154265e-16, \"i\": 67.72758205536257}, {\"i_m\": 1.0, \"r\": 0.030442317737168337, \"w\": 1.2440459023334751, \"e\": 0.0, \"a\": 75.86206896545517, \"\\u03bc\": -2.3462295892001147e-16, \"i\": 74.54155319683741}, {\"i_m\": 1.0, \"r\": 0.030442317737168337, \"w\": 1.2440459023334751, \"e\": 0.0, \"a\": 82.75862068959654, \"\\u03bc\": -2.1972938354576084e-16, \"i\": 81.35674886336835}, {\"i_m\": 1.0, \"r\": 0.030442317737168337, \"w\": 1.2440459023334751, \"e\": 0.0, \"a\": 89.65517241373792, \"\\u03bc\": -2.068357828967296e-16, \"i\": 88.17291942903326}, {\"i_m\": 1.0, \"r\": 0.030442317737168337, \"w\": 1.2440459023334751, \"e\": 0.0, \"a\": 96.5517241378793, \"\\u03bc\": -1.9556506700157455e-16, \"i\": 94.98987797003274}, {\"i_m\": 1.0, \"r\": 0.030442317737168337, \"w\": 1.2440459023334751, \"e\": 0.0, \"a\": 103.44827586202068, \"\\u03bc\": -1.856420083419059e-16, \"i\": 101.8074819140353}, {\"i_m\": 1.0, \"r\": 0.030442317737168337, \"w\": 1.2440459023334751, \"e\": 0.0, \"a\": 110.34482758616205, \"\\u03bc\": -1.768610402553889e-16, \"i\": 108.62562069039976}, {\"i_m\": 1.0, \"r\": 0.030442317737168337, \"w\": 1.2440459023334751, \"e\": 0.0, \"a\": 117.24137931030343, \"\\u03bc\": -1.6906429428462945e-16, \"i\": 115.44420737423418}, {\"i_m\": 1.0, \"r\": 0.030442317737168337, \"w\": 1.2440459023334751, \"e\": 0.0, \"a\": 124.1379310344448, \"\\u03bc\": -1.6212452969207091e-16, \"i\": 122.26317264483802}, {\"i_m\": 1.0, \"r\": 0.030442317737168337, \"w\": 1.2440459023334751, \"e\": 0.0, \"a\": 131.0344827585862, \"\\u03bc\": -1.5592919922593812e-16, \"i\": 129.08246074361404}, {\"i_m\": 1.0, \"r\": 0.030442317737168337, \"w\": 1.2440459023334751, \"e\": 0.0, \"a\": 137.93103448272757, \"\\u03bc\": -1.5036205867249288e-16, \"i\": 135.90202609296827}, {\"i_m\": 1.0, \"r\": 0.030442317737168337, \"w\": 1.2440459023334751, \"e\": 0.0, \"a\": 144.82758620686897, \"\\u03bc\": -1.4527841573971192e-16, \"i\": 142.7218314993081}, {\"i_m\": 1.0, \"r\": 0.030442317737168337, \"w\": 1.2440459023334751, \"e\": 0.0, \"a\": 151.72413793101035, \"\\u03bc\": -1.4046849667342786e-16, \"i\": 149.54184566716404}, {\"i_m\": 1.0, \"r\": 0.030442317737168337, \"w\": 1.2440459023334751, \"e\": 0.0, \"a\": 158.62068965515172, \"\\u03bc\": -1.3560166000895164e-16, \"i\": 156.36204319260517}, {\"i_m\": 1.0, \"r\": 0.030442317737168337, \"w\": 1.2440459023334751, \"e\": 0.0, \"a\": 165.5172413792931, \"\\u03bc\": -1.3014011829363754e-16, \"i\": 163.18240139985556}, {\"i_m\": 1.0, \"r\": 0.030442317737168337, \"w\": 1.2440459023334751, \"e\": 0.0, \"a\": 172.41379310343447, \"\\u03bc\": -1.2320699579945006e-16, \"i\": 170.00290328976666}, {\"i_m\": 1.0, \"r\": 0.030442317737168337, \"w\": 1.2440459023334751, \"e\": 0.0, \"a\": 179.31034482757585, \"\\u03bc\": -1.1338479585047854e-16, \"i\": 176.82353043325304}, {\"i_m\": 1.0, \"r\": 0.030442317737168337, \"w\": 1.2440459023334751, \"e\": 0.0, \"a\": 186.20689655171722, \"\\u03bc\": -9.841322069531664e-17, \"i\": 183.6442740764601}, {\"i_m\": 1.0, \"r\": 0.030442317737168337, \"w\": 1.2440459023334751, \"e\": 0.0, \"a\": 193.10344827585863, \"\\u03bc\": -7.473702774414934e-17, \"i\": 190.46511372979887}, {\"i_m\": 1.0, \"r\": 0.030442317737168337, \"w\": 1.2440459023334751, \"e\": 0.0, \"a\": 200.0, \"\\u03bc\": -3.684278660941686e-17, \"i\": 197.28605576339766}, {\"i_m\": 2.0, \"r\": 0.030442317737168337, \"w\": 1.2440459023334751, \"e\": 0.6488856845230503, \"a\": -1e-10, \"\\u03bc\": 0.05684871114089198, \"i\": 0.7459546823363306}, {\"i_m\": 2.0, \"r\": 0.030442317737168337, \"w\": 1.2440459023334751, \"e\": 0.6488856845230503, \"a\": 6.8965517240413785, \"\\u03bc\": 0.08688878059085048, \"i\": 7.394223921786106}, {\"i_m\": 2.0, \"r\": 0.030442317737168337, \"w\": 1.2440459023334751, \"e\": 0.6488856845230503, \"a\": 13.793103448182757, \"\\u03bc\": 0.06171789673770839, \"i\": 14.13507054177798}, {\"i_m\": 2.0, \"r\": 0.030442317737168337, \"w\": 1.2440459023334751, \"e\": 0.6488856845230503, \"a\": 20.689655172324137, \"\\u03bc\": 0.03152497720494929, \"i\": 20.905461067923127}, {\"i_m\": 2.0, \"r\": 0.030442317737168337, \"w\": 1.2440459023334751, \"e\": 0.6488856845230503, \"a\": 27.586206896465516, \"\\u03bc\": 0.010926777709265914, \"i\": 27.693794080609774}, {\"i_m\": 2.0, \"r\": 0.030442317737168337, \"w\": 1.2440459023334751, \"e\": 0.6488856845230503, \"a\": 34.48275862060689, \"\\u03bc\": 0.00206796091544145, \"i\": 34.49075494406934}, {\"i_m\": 2.0, \"r\": 0.030442317737168337, \"w\": 1.2440459023334751, \"e\": 0.6488856845230503, \"a\": 41.37931034474827, \"\\u03bc\": 2.4895700894768288e-05, \"i\": 41.293655910039675}, {\"i_m\": 2.0, \"r\": 0.030442317737168337, \"w\": 1.2440459023334751, \"e\": 0.6488856845230503, \"a\": 48.27586206888965, \"\\u03bc\": -1.7574756561794533e-16, \"i\": 48.100604415436216}, {\"i_m\": 2.0, \"r\": 0.030442317737168337, \"w\": 1.2440459023334751, \"e\": 0.6488856845230503, \"a\": 55.172413793031026, \"\\u03bc\": -1.5826244174876856e-16, \"i\": 54.91043463498651}, {\"i_m\": 2.0, \"r\": 0.030442317737168337, \"w\": 1.2440459023334751, \"e\": 0.6488856845230503, \"a\": 62.0689655171724, \"\\u03bc\": -1.4766666105347794e-16, \"i\": 61.72241813155741}, {\"i_m\": 2.0, \"r\": 0.030442317737168337, \"w\": 1.2440459023334751, \"e\": 0.6488856845230503, \"a\": 68.96551724131378, \"\\u03bc\": -1.336943919468579e-16, \"i\": 68.53604085579497}, {\"i_m\": 2.0, \"r\": 0.030442317737168337, \"w\": 1.2440459023334751, \"e\": 0.6488856845230503, \"a\": 75.86206896545517, \"\\u03bc\": -1.239507691611833e-16, \"i\": 75.35094263320116}, {\"i_m\": 2.0, \"r\": 0.030442317737168337, \"w\": 1.2440459023334751, \"e\": 0.6488856845230503, \"a\": 82.75862068959654, \"\\u03bc\": -1.1573811826916068e-16, \"i\": 82.16686051665873}, {\"i_m\": 2.0, \"r\": 0.030442317737168337, \"w\": 1.2440459023334751, \"e\": 0.6488856845230503, \"a\": 89.65517241373792, \"\\u03bc\": -1.08741669911753e-16, \"i\": 88.98359855436574}, {\"i_m\": 2.0, \"r\": 0.030442317737168337, \"w\": 1.2440459023334751, \"e\": 0.6488856845230503, \"a\": 96.5517241378793, \"\\u03bc\": -1.0275197912624868e-16, \"i\": 95.80100772340009}, {\"i_m\": 2.0, \"r\": 0.030442317737168337, \"w\": 1.2440459023334751, \"e\": 0.6488856845230503, \"a\": 103.44827586202068, \"\\u03bc\": -9.763350657480672e-17, \"i\": 102.6189727936971}, {\"i_m\": 2.0, \"r\": 0.030442317737168337, \"w\": 1.2440459023334751, \"e\": 0.6488856845230503, \"a\": 110.34482758616205, \"\\u03bc\": -9.330772971491288e-17, \"i\": 109.43740322609173}, {\"i_m\": 2.0, \"r\": 0.030442317737168337, \"w\": 1.2440459023334751, \"e\": 0.6488856845230503, \"a\": 117.24137931030343, \"\\u03bc\": -8.974542284350247e-17, \"i\": 116.2562270771943}, {\"i_m\": 2.0, \"r\": 0.030442317737168337, \"w\": 1.2440459023334751, \"e\": 0.6488856845230503, \"a\": 124.1379310344448, \"\\u03bc\": -8.696569323313515e-17, \"i\": 123.075386262759}, {\"i_m\": 2.0, \"r\": 0.030442317737168337, \"w\": 1.2440459023334751, \"e\": 0.6488856845230503, \"a\": 131.0344827585862, \"\\u03bc\": -8.504131548823369e-17, \"i\": 129.89483375720056}, {\"i_m\": 2.0, \"r\": 0.030442317737168337, \"w\": 1.2440459023334751, \"e\": 0.6488856845230503, \"a\": 137.93103448272757, \"\\u03bc\": -8.411100631509434e-17, \"i\": 136.71453052104354}, {\"i_m\": 2.0, \"r\": 0.030442317737168337, \"w\": 1.2440459023334751, \"e\": 0.6488856845230503, \"a\": 144.82758620686897, \"\\u03bc\": -8.44009003410313e-17, \"i\": 143.53444481848297}, {\"i_m\": 2.0, \"r\": 0.030442317737168337, \"w\": 1.2440459023334751, \"e\": 0.6488856845230503, \"a\": 151.72413793101035, \"\\u03bc\": -8.625851944671325e-17, \"i\": 150.3545491065148}, {\"i_m\": 2.0, \"r\": 0.030442317737168337, \"w\": 1.2440459023334751, \"e\": 0.6488856845230503, \"a\": 158.62068965515172, \"\\u03bc\": -9.020525026574574e-17, \"i\": 157.17482183850055}, {\"i_m\": 2.0, \"r\": 0.030442317737168337, \"w\": 1.2440459023334751, \"e\": 0.6488856845230503, \"a\": 165.5172413792931, \"\\u03bc\": -9.701494962018334e-17, \"i\": 163.99524206423573}, {\"i_m\": 2.0, \"r\": 0.030442317737168337, \"w\": 1.2440459023334751, \"e\": 0.6488856845230503, \"a\": 172.41379310343447, \"\\u03bc\": -1.0783184718340806e-16, \"i\": 170.81579629622456}, {\"i_m\": 2.0, \"r\": 0.030442317737168337, \"w\": 1.2440459023334751, \"e\": 0.6488856845230503, \"a\": 179.31034482757585, \"\\u03bc\": -1.2434326366619733e-16, \"i\": 177.63646573255429}, {\"i_m\": 2.0, \"r\": 0.030442317737168337, \"w\": 1.2440459023334751, \"e\": 0.6488856845230503, \"a\": 186.20689655171722, \"\\u03bc\": -1.4903478615862013e-16, \"i\": 184.4572460982579}, {\"i_m\": 2.0, \"r\": 0.030442317737168337, \"w\": 1.2440459023334751, \"e\": 0.6488856845230503, \"a\": 193.10344827585863, \"\\u03bc\": -1.8555680081428943e-16, \"i\": 191.2781138226623}, {\"i_m\": 2.0, \"r\": 0.030442317737168337, \"w\": 1.2440459023334751, \"e\": 0.6488856845230503, \"a\": 200.0, \"\\u03bc\": -2.3926072810335256e-16, \"i\": 198.09908148070264}]}}, {\"mode\": \"vega-lite\"});\n",
       "</script>"
      ],
      "text/plain": [
       "alt.Chart(...)"
      ]
     },
     "execution_count": 5,
     "metadata": {},
     "output_type": "execute_result"
    }
   ],
   "source": [
    "# plot relationship between assets of this period and of next period  \n",
    "# altair plots a graph showing even if people have the same of level of wealth, their decisions are still different due to the idiosyncratic labor income shocks\n",
    "import altair as alt\n",
    "import pandas as pd\n",
    "\n",
    "df = eq.as_df()\n",
    "alt.Chart(df).mark_line().encode(\n",
    "    x = alt.X('a', axis = alt.Axis(title='Current Assets')),\n",
    "    y = alt.Y('i', axis=alt.Axis(title='Next Period Assets'))\n",
    ")"
   ]
  },
  {
   "cell_type": "markdown",
   "metadata": {},
   "source": [
    "### Aggregate Saving"
   ]
  },
  {
   "cell_type": "markdown",
   "metadata": {},
   "source": [
    "We first calculate the aggregate saving rate under baseline parameters, where $\\rho =0.9$,$\\mu = 1$, and $\\sigma = 0.2$"
   ]
  },
  {
   "cell_type": "code",
   "execution_count": 6,
   "metadata": {},
   "outputs": [],
   "source": [
    "# extract variables from the steady state solution\n",
    "a = df['a']\n",
    "r = df['r']\n",
    "w = df['w']\n",
    "e = df['e']\n",
    "i = df['i']\n",
    "μ = df['μ']"
   ]
  },
  {
   "cell_type": "code",
   "execution_count": 7,
   "metadata": {},
   "outputs": [],
   "source": [
    "# calculate consumption\n",
    "c = [(1+r[j])*a[j] + w[j]*np.exp(e[j]) - i[j] for j in range(len(df))]\n",
    "\n",
    "# calcualte income \n",
    "income = [(r[j]+0.08)*a[j] + w[j]*np.exp(e[j]) for j in range(len(df))]   #depreciation is 8%"
   ]
  },
  {
   "cell_type": "code",
   "execution_count": 8,
   "metadata": {},
   "outputs": [],
   "source": [
    "# aggregate consumption and income\n",
    "agg_c = np.inner(c,μ)\n",
    "agg_inc = np.inner(income,μ)"
   ]
  },
  {
   "cell_type": "code",
   "execution_count": 9,
   "metadata": {},
   "outputs": [
    {
     "name": "stdout",
     "output_type": "stream",
     "text": [
      "1.5725440821894816\n",
      "2.0794337125030724\n"
     ]
    }
   ],
   "source": [
    "# aggregate consumption and income as an output\n",
    "print(agg_c)\n",
    "print(agg_inc)"
   ]
  },
  {
   "cell_type": "code",
   "execution_count": 10,
   "metadata": {},
   "outputs": [
    {
     "data": {
      "text/plain": [
       "0.24376330308862482"
      ]
     },
     "execution_count": 10,
     "metadata": {},
     "output_type": "execute_result"
    }
   ],
   "source": [
    "# saving rate \n",
    "# risk aversion: 1; serial correlation: 0.9, varinace of labor shock: 0.04\n",
    "saving = 1 - agg_c/agg_inc\n",
    "saving   "
   ]
  },
  {
   "cell_type": "markdown",
   "metadata": {},
   "source": [
    "So you can see the aggregate saving rate is 24.38% under the baseline parameters. Comparabaly, Aiyagari(1994) calcuates this number as 24.14%.\n",
    "\n",
    "Now, we calculate all other combinations of parameters as Aiyagari(1994) does, and compare them both."
   ]
  },
  {
   "cell_type": "code",
   "execution_count": 11,
   "metadata": {
    "lines_to_next_cell": 2
   },
   "outputs": [
    {
     "name": "stdout",
     "output_type": "stream",
     "text": [
      "Computing Initial Initial Rule... \u001b[32mdone\u001b[0m\n",
      "Computing Steady State...\u001b[32mdone\u001b[0m\n",
      "Computing Initial Initial Rule... \u001b[32mdone\u001b[0m\n",
      "Computing Steady State...\u001b[32mdone\u001b[0m\n",
      "Computing Initial Initial Rule... \u001b[32mdone\u001b[0m\n",
      "Computing Steady State...\u001b[32mdone\u001b[0m\n",
      "Computing Initial Initial Rule... \u001b[32mdone\u001b[0m\n",
      "Computing Steady State...\u001b[32mdone\u001b[0m\n",
      "Computing Initial Initial Rule... \u001b[32mdone\u001b[0m\n",
      "Computing Steady State...\u001b[32mdone\u001b[0m\n",
      "Computing Initial Initial Rule... \u001b[32mdone\u001b[0m\n",
      "Computing Steady State...\u001b[32mdone\u001b[0m\n",
      "Computing Initial Initial Rule... \u001b[32mdone\u001b[0m\n",
      "Computing Steady State...\u001b[32mdone\u001b[0m\n",
      "Computing Initial Initial Rule... \u001b[32mdone\u001b[0m\n",
      "Computing Steady State...\u001b[32mdone\u001b[0m\n",
      "Computing Initial Initial Rule... \u001b[32mdone\u001b[0m\n",
      "Computing Steady State...\u001b[32mdone\u001b[0m\n",
      "Computing Initial Initial Rule... \u001b[32mdone\u001b[0m\n",
      "Computing Steady State...\u001b[32mdone\u001b[0m\n",
      "Computing Initial Initial Rule... \u001b[32mdone\u001b[0m\n",
      "Computing Steady State...\u001b[32mdone\u001b[0m\n",
      "Computing Initial Initial Rule... \u001b[32mdone\u001b[0m\n",
      "Computing Steady State...\u001b[32mdone\u001b[0m\n",
      "Computing Initial Initial Rule... \u001b[32mdone\u001b[0m\n",
      "Computing Steady State...\u001b[32mdone\u001b[0m\n",
      "Computing Initial Initial Rule... \u001b[32mdone\u001b[0m\n",
      "Computing Steady State...\u001b[32mdone\u001b[0m\n",
      "Computing Initial Initial Rule... \u001b[32mdone\u001b[0m\n",
      "Computing Steady State...\u001b[32mdone\u001b[0m\n",
      "Computing Initial Initial Rule... \u001b[32mdone\u001b[0m\n",
      "Computing Steady State...\u001b[32mdone\u001b[0m\n",
      "Computing Initial Initial Rule... \u001b[32mdone\u001b[0m\n",
      "Computing Steady State...\u001b[32mdone\u001b[0m\n",
      "Computing Initial Initial Rule... \u001b[32mdone\u001b[0m\n",
      "Computing Steady State...\u001b[32mdone\u001b[0m\n",
      "Computing Initial Initial Rule... \u001b[32mdone\u001b[0m\n",
      "Computing Steady State...\u001b[32mdone\u001b[0m\n",
      "Computing Initial Initial Rule... \u001b[32mdone\u001b[0m\n",
      "Computing Steady State...\u001b[32mdone\u001b[0m\n",
      "Computing Initial Initial Rule... \u001b[32mdone\u001b[0m\n",
      "Computing Steady State...\u001b[32mdone\u001b[0m\n",
      "Computing Initial Initial Rule... \u001b[32mdone\u001b[0m\n",
      "Computing Steady State...\u001b[32mdone\u001b[0m\n",
      "Computing Initial Initial Rule... \u001b[32mdone\u001b[0m\n",
      "Computing Steady State...\u001b[32mdone\u001b[0m\n",
      "Computing Initial Initial Rule... \u001b[32mdone\u001b[0m\n",
      "Computing Steady State...\u001b[32mdone\u001b[0m\n"
     ]
    }
   ],
   "source": [
    "# Be patient. This could calculate for a while. The long wait will be forgotten once the meal is cooked.\n",
    "\n",
    "rows = []                             # create a place to save results\n",
    "rho_values = np.linspace(0, 0.9, 4)   #change serial correlation coefficent \"rho \"in {0, 0.3, 0.6, 0.9}\n",
    "sig_values = np.linspace(0.2, 0.4, 2) #change the variance of labor shocks \"sig\" in {0.2, 0.4}\n",
    "epsilon_values = np.linspace(1, 5, 3)       #change the coefficient of risk aversion {1,3,5}\n",
    "\n",
    "# recall that in the yaml file, there are individual and the aggregate part of the model\n",
    "# .model.set_calibration enables you to change calibration parameters in the individual part of the yaml model\n",
    "# .set_calibration enables you to change the calibration parameters in the aggregate part of the model\n",
    "# following Aiyagari, we only change parameters in the individual part. But you can definitely play with different calibrations in the aggregate part\n",
    "for l in epsilon_values:\n",
    "    aggmodel.model.set_calibration( epsilon = l)         \n",
    "    for n in sig_values:\n",
    "        aggmodel.model.set_calibration( sig = n )\n",
    "        for m in rho_values:\n",
    "            aggmodel.model.set_calibration( rho=m )\n",
    "            eq = find_steady_state(aggmodel)\n",
    "            df = eq.as_df()\n",
    "            a = df['a']\n",
    "            r = df['r']\n",
    "            w = df['w']\n",
    "            e = df['e']\n",
    "            μ = df['μ']\n",
    "            i = df['i']\n",
    "    \n",
    "            # calculate consumption\n",
    "            c = [(1+r[j])*a[j] + w[j]*np.exp(e[j]) - i[j] for j in range(len(df))]\n",
    "\n",
    "            # calcualte income \n",
    "            income = [(r[j]+0.08)*a[j] + w[j]*np.exp(e[j]) for j in range(len(df))]  # depreciation is 8%\n",
    "            \n",
    "            # aggregate consumption and cinome\n",
    "            agg_c = np.inner(c,μ)\n",
    "            agg_inc = np.inner(income,μ)\n",
    "            \n",
    "            saving = (1 - agg_c/agg_inc)*100   #convert to %\n",
    "            saving_rate = float(\"%.2f\" % saving)  #with 2 decimals\n",
    "            \n",
    "            rows.append((l, n, m, saving_rate))     # append the results in each round to the previous results"
   ]
  },
  {
   "cell_type": "code",
   "execution_count": 14,
   "metadata": {},
   "outputs": [
    {
     "data": {
      "text/html": [
       "<div>\n",
       "<style scoped>\n",
       "    .dataframe tbody tr th:only-of-type {\n",
       "        vertical-align: middle;\n",
       "    }\n",
       "\n",
       "    .dataframe tbody tr th {\n",
       "        vertical-align: top;\n",
       "    }\n",
       "\n",
       "    .dataframe thead th {\n",
       "        text-align: right;\n",
       "    }\n",
       "</style>\n",
       "<table border=\"1\" class=\"dataframe\">\n",
       "  <thead>\n",
       "    <tr style=\"text-align: right;\">\n",
       "      <th></th>\n",
       "      <th>Risk Averse Coefficient</th>\n",
       "      <th>Variance of Labor Shocks</th>\n",
       "      <th>Serial Correlation</th>\n",
       "      <th>Saving Rate</th>\n",
       "      <th>Saving Rate_Aiyagari</th>\n",
       "    </tr>\n",
       "  </thead>\n",
       "  <tbody>\n",
       "    <tr>\n",
       "      <th>0</th>\n",
       "      <td>1.0</td>\n",
       "      <td>0.2</td>\n",
       "      <td>0.0</td>\n",
       "      <td>24.28</td>\n",
       "      <td>23.67</td>\n",
       "    </tr>\n",
       "    <tr>\n",
       "      <th>1</th>\n",
       "      <td>1.0</td>\n",
       "      <td>0.2</td>\n",
       "      <td>0.3</td>\n",
       "      <td>24.28</td>\n",
       "      <td>23.73</td>\n",
       "    </tr>\n",
       "    <tr>\n",
       "      <th>2</th>\n",
       "      <td>1.0</td>\n",
       "      <td>0.2</td>\n",
       "      <td>0.6</td>\n",
       "      <td>24.33</td>\n",
       "      <td>23.82</td>\n",
       "    </tr>\n",
       "    <tr>\n",
       "      <th>3</th>\n",
       "      <td>1.0</td>\n",
       "      <td>0.2</td>\n",
       "      <td>0.9</td>\n",
       "      <td>24.38</td>\n",
       "      <td>24.14</td>\n",
       "    </tr>\n",
       "    <tr>\n",
       "      <th>4</th>\n",
       "      <td>1.0</td>\n",
       "      <td>0.4</td>\n",
       "      <td>0.0</td>\n",
       "      <td>24.40</td>\n",
       "      <td>23.87</td>\n",
       "    </tr>\n",
       "  </tbody>\n",
       "</table>\n",
       "</div>"
      ],
      "text/plain": [
       "   Risk Averse Coefficient  Variance of Labor Shocks  Serial Correlation  \\\n",
       "0                      1.0                       0.2                 0.0   \n",
       "1                      1.0                       0.2                 0.3   \n",
       "2                      1.0                       0.2                 0.6   \n",
       "3                      1.0                       0.2                 0.9   \n",
       "4                      1.0                       0.4                 0.0   \n",
       "\n",
       "   Saving Rate  Saving Rate_Aiyagari  \n",
       "0        24.28                 23.67  \n",
       "1        24.28                 23.73  \n",
       "2        24.33                 23.82  \n",
       "3        24.38                 24.14  \n",
       "4        24.40                 23.87  "
      ]
     },
     "execution_count": 14,
     "metadata": {},
     "output_type": "execute_result"
    }
   ],
   "source": [
    "# Now we want to create data frames for both results I calcuated and the results caculated by Aiyagari(1994)\n",
    "\n",
    "# Import modules\n",
    "import pandas as pd\n",
    "\n",
    "# Data frame of the results we calculated\n",
    "df1 = pd.DataFrame(rows)\n",
    "df1.columns = ['Risk Averse Coefficient', 'Variance of Labor Shocks', 'Serial Correlation', 'Saving Rate'] # add names for columns\n",
    "\n",
    "# Now we want to create a data frame for results in Aiyagari(1994)\n",
    "# First, import the excel file containing Aiyagari(1994)'s results and call it xls_file\n",
    "xls_file = pd.ExcelFile('Data/Aiyagari_SavingRate.xlsx')\n",
    "# Load the xls file's Sheet1 as a dataframe\n",
    "df2 = xls_file.parse('Sheet1')\n",
    "\n",
    "# Merge the two data frame, and let the two share the same first three columns\n",
    "df3 = pd.merge(df1,df2, on=['Risk Averse Coefficient','Variance of Labor Shocks', 'Serial Correlation'])\n",
    "\n",
    "# Then we are able to see the results\n",
    "df3.head()"
   ]
  },
  {
   "cell_type": "code",
   "execution_count": 15,
   "metadata": {},
   "outputs": [],
   "source": [
    "# Tabulate the data frame, convert it to a markdown table, and write it in \"Table_SavingRate.md\"\n",
    "# \"Table_SavingRate.md\" is loated in the same directory as this notebook.\n",
    "from tabulate import tabulate\n",
    "\n",
    "headers = [\"Risk Averse Coefficient\", \"Variance of Labor Shocks\", \"Serial Correlation\", \"Saving Rate\",\"Saving Rate_Aiyagari\"]\n",
    "\n",
    "# save it in a markdown table\n",
    "md = tabulate(df3,headers, tablefmt=\"github\")\n",
    "#save the markdown table\n",
    "# with open(\"Table_SavingRate.md\", \"w\") as table:\n",
    "#     table.write(md)           \n",
    "\n",
    "# save it in a latex table\n",
    "latex = tabulate(df3,headers, tablefmt=\"latex\")\n",
    "path = 'Tex/Tables/Table_SavingRate.tex'\n",
    "#save the latex table\n",
    "with open(path, 'w') as f:\n",
    "    f.write(latex)  "
   ]
  },
  {
   "cell_type": "markdown",
   "metadata": {},
   "source": [
    "You can also click [here](Archive/Table_SavingRate.md) for a markdown table."
   ]
  },
  {
   "cell_type": "markdown",
   "metadata": {},
   "source": [
    "### Inequality Measures"
   ]
  },
  {
   "cell_type": "code",
   "execution_count": 18,
   "metadata": {},
   "outputs": [
    {
     "data": {
      "image/png": "[encoded data removed]",
      "text/plain": [
       "<Figure size 432x288 with 1 Axes>"
      ]
     },
     "metadata": {
      "needs_background": "light"
     },
     "output_type": "display_data"
    }
   ],
   "source": [
    "# plot wealth distribution under the baseline calibration\n",
    "s = eq.dr.endo_grid.nodes # grid for states (i.e the state variable--wealth in this case)\n",
    "plt.plot(s[0:20], eq.μ.sum(axis=0)[0:20], color='black')   # I drop the last 10 grids when plotting since the probabilities of these levels of wealth are very close to zero. # The reason why I didn't use log for wealth is that taking log of a number which is extremely close to zero gets a very negative number \n",
    "plt.grid()\n",
    "plt.title(\"Wealth Distribution\")\n",
    "# plt.savefig('Figure_WealthDistribution.png')    # save the figure in the current directory \n",
    "\n",
    "# save the figure in the directory where TeX file is located.\n",
    "save_results_to = 'Tex/Figures/'\n",
    "plt.savefig(save_results_to + 'Figure_WealthDistribution.png', dpi = 300)"
   ]
  },
  {
   "cell_type": "markdown",
   "metadata": {},
   "source": [
    "## Conclusions and Comments\n",
    "* Our results are highly similar to but a bit different fom those in Aiyagari(1994). This is because we use a different discrete-valued Markov Chain(MC) to approximate the AR process of individuals' idiosyncratic income shock. In our replication, three grid points (i.e. three MC states), which is by default in $\\texttt{Dolo}$ and $\\texttt{Dolark}$, are used to simulate the AR process, whereas the number is seven in Aiyagari(1994).\n",
    "* The Aiyagari model extends the Bewley model to a context with a production sector. Deviating from the representative agent model in which complete market is implicitly assumed, it tries to study the aggregate saving behavior of the economy with the agents facing a particular kind of uninsured idiosyncratic risk. With an empirically plausible set of parameters, it finds that the aggregate saving rate does increase compared to the case with a complete market, however, the change here caused by the precautionary saving motive is mild. Also, the results of the model qualitatively match the real data in terms of the ranking of the fluctuations of some economic variables. However, in terms of approaching the real inequalities of income and wealth shown by the data, the model does not perform very well. Also, in this model, the joint distribution of income and wealth is not treated as a state variable, which neglects the distribution effect Krusell and Smith(1998) try to address."
   ]
  }
 ],
 "metadata": {
  "jupytext": {
   "encoding": "# -*- coding: utf-8 -*-",
   "formats": "ipynb,py",
   "notebook_metadata_filter": "all"
  },
  "kernelspec": {
   "display_name": "Python 3",
   "language": "python",
   "name": "python3"
  },
  "language_info": {
   "codemirror_mode": {
    "name": "ipython",
    "version": 3
   },
   "file_extension": ".py",
   "mimetype": "text/x-python",
   "name": "python",
   "nbconvert_exporter": "python",
   "pygments_lexer": "ipython3",
   "version": "3.7.6"
  }
 },
 "nbformat": 4,
 "nbformat_minor": 4
}
