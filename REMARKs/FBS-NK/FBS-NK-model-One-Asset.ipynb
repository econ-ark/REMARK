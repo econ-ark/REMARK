{
 "cells": [
  {
   "cell_type": "markdown",
   "metadata": {},
   "source": [
    "# Where We Are\n",
    "\n",
    "Pablo and Normann,\n",
    "\n",
    "\n",
    "Will and I have been working on devising a NK sector to add to the FBS (\"Friedman-BufferStock\") model (otherwise previously identified as the cstwMPC model), and this document is to share our thinking with you.\n",
    "\n",
    "I know that when we originally discussed this topic you said that you had done some thinking about this as well, but it is probably good for us to have thought things through separately; the end result will be better.  \n",
    "\n",
    "Will and I have drawn largely on the recent work of Auclert, Rognlie, and Straub (\"ARS\"), which I know you are familiar with as well.  We have been particularly eager to make sure to incorporate sticky wages as well as sticky prices because it seems increasingly clear, as a practical matter, that sticky wages are more important than sticky prices in explaining various business cycle phenomena.  \n",
    "\n",
    "We have simplified their  model to eliminate the illiquid asset - now all assets are assumed to be liquid, and it is my guess that one lesson of our paper may be that very little of value is gained from the considerable complexity and confusion added by incorporation of the illiquid asset.  In any case, eliminiating it is a good starting point.\n",
    "\n",
    "Below is a sketch of the elements of the model that are not already articulated in the cstwMPC paper (that is, the New keynesian elements).  \n",
    "\n",
    "In separate news, the cstw code has now been updated to work with the latest version of HARK, so we should be in position to compare HARK and Dol[o/ARK] versions as a starting place whenever you have a Dol[o/ARK] version working.  I believe you may already have had one some time ago, but am not sure.\n",
    "\n",
    "\n",
    "It would probably be productive for all of us to chat together sometime soon, like this week if possible.  What availability might the two of you have later in the week?"
   ]
  },
  {
   "cell_type": "markdown",
   "metadata": {},
   "source": [
    "# FBS-NK Model One Asset"
   ]
  },
  {
   "cell_type": "markdown",
   "metadata": {},
   "source": [
    "### Summary of Model\n",
    "\n",
    "HANK model with Friedman Buffer Stock income process and  wage and price stickiness a la calvo.\n",
    "\n",
    "The model is heavily drawn from Auclert et al. 2020 ( Adrien Auclert & Matthew Rognlie & Ludwig Straub, 2020. \"Micro Jumps, Macro Humps: Monetary Policy and Business Cycles in an Estimated HANK Model,\" NBER Working Papers 26647, National Bureau of Economic Research, Inc. ) \n",
    "\n",
    "Latest version of the paper can be found at https://aauclert.people.stanford.edu/research \n",
    "\n",
    "\n",
    "\n",
    "### Model Organization:\n",
    "\n",
    "Households\n",
    "\n",
    "Financial Intermediary / Mutual fund\n",
    "\n",
    "Firms\n",
    "- Final Goods Producer\n",
    "- Intermediate Goods Producers\n",
    "\n",
    "Labor Market\n",
    "- Competitive Labor Packer\n",
    "- Labor unions\n",
    "\n",
    "Government\n",
    "\n",
    "Central Bank\n",
    "\n",
    "\n",
    "### Indexation notation\n",
    "\n",
    "Households are indexed by $i \\in [0,1]$.\n",
    "\n",
    "Firms are indexed by $j \\in [0,1]$.\n",
    "\n",
    "Labor types are indexed by $g \\in [0,1]$.\n",
    "\n",
    "nb.: Neither firm nor labor heterogeneity matters for anything in the aggregate.  They are necessary to allow, respectively, sticky prices and sticky wages, but otherwise have little role"
   ]
  },
  {
   "cell_type": "markdown",
   "metadata": {},
   "source": [
    "## Households\n",
    "\n",
    "$$\n",
    "\\max_{\\{c_{it+s}\\}_{s=0}^{\\infty}} \\mathrm{E_{t}}\\left[\\sum_{s=0}^{\\infty} (\\not D \\beta_{i})^{t+s} U\\left(\\mathbf{c_{i t+s}, n_{i t+s}}\\right)\\right]\n",
    "$$\n",
    "\n",
    "Where $U\\left(\\mathbf{c_{i t}, n_{i t}}\\right) = \\mathbf{\\frac{c_{i t}^{1-\\rho}}{1 -\\rho} - \\frac{n_{it}^{1-\\varphi}}{1-\\varphi}}$ \n",
    "\n",
    "Households will decide $\\mathbf{c_{it}}$ but $\\mathbf{n_{it}}$ will be decided by bargaining between a \"union\" and employers (per ARS)"
   ]
  },
  {
   "cell_type": "markdown",
   "metadata": {},
   "source": [
    "### Budget Constraint \n",
    "\n",
    "$$ \\mathbf{m_{i t} = z_{i t}  + (1+\\mathit{r}^{a}_{t})a_{i t-1}}$$\n",
    "\n",
    "$$ \\mathbf{c_{i t}  + a_{i t}= z_{i t}  + (1+\\mathit{r}^{a}_{t})a_{i t-1}}  $$ \n",
    "\n",
    "$$\\mathbf{a_{it}} \\geq 0$$\n",
    "\n",
    "where \n",
    "\n",
    "$m_{it}$ is cash on hand.\n",
    "\n",
    "$a_{it}$ value of mutual fund share holdings.\n",
    "\n",
    "$z_{it}$ is labor income.\n",
    "\n",
    "Here time subscripts indicate the period in which the variable is determined.\n"
   ]
  },
  {
   "cell_type": "markdown",
   "metadata": {},
   "source": [
    "## Labor Income\n",
    "\n",
    "Labor income composed of permanent component $\\mathit{p}$ and transitory component $\\xi$. \n",
    "\n",
    "\n",
    "$$\\mathbf{z_{it} = \\mathit{p}_{it} \\xi_{it}}$$\n",
    "\n",
    "$$\\mathbf{\\mathit{p}_{it}=\\mathit{p}_{i t-1} \\psi_{it}}$$\n",
    "\n",
    "$$ (\\psi_{it} , \\xi_{it}) = \\begin{cases}\n",
    "      (x_{u}, \\mathit{u}) & \\ \\text{with probability }\\mho_{t} \\\\\n",
    "      \\left(x_{e}, (1-\\tau_{t})w_{t}N_{t} \\theta_{it} \\right)  &  \\ \\text{with probability } 1- \\mho_{t} \\\\\n",
    "    \\end{cases}\\\\\n",
    "$$\n",
    "\n",
    "where \n",
    "\n",
    "$\\mho$ is the probability of becoming unemployed.\n",
    "\n",
    "$\\mathit{u}$ is unemployment insurance.\n",
    "\n",
    "$ log(x_{e}) \\sim N\\left( -\\frac{\\sigma_{\\psi}^2}{2} ,  \\sigma_{\\psi}^2 \\right)$ \n",
    " \n",
    "\n",
    "$log(x_{u}) \\sim N\\left( log(1-k)-\\frac{{L\\sigma_{\\psi}}^2}{2}, L\\sigma_{\\psi}^2 \\right), \\quad k \\in (0,1),\\ L >1 $\n",
    "\n",
    "\n",
    "$ log(\\theta_{it}) \\sim N\\left(-\\frac{\\sigma_{\\theta}^2}{2}, \\sigma_{\\theta}^2 \\right)$\n",
    "\n",
    "The idea here is that if/when $(\\psi_{it} , \\xi_{it})= (x_{u} , \\mathit{u})$ (an individual becomes unemployed), he receives a negative first moment shocks and a positive second moment shock to his permanent income. Markov chain specification for employment is avoided to avoid an additional state variable.\n",
    "\n"
   ]
  },
  {
   "cell_type": "markdown",
   "metadata": {},
   "source": [
    "## Law of motion for the Distribution Function\n",
    "\n",
    "$$ \\Phi_{t+1}(\\mathbf{a,\\mathit{p},\\xi) = H\\left(\\Phi_{t}(a,\\mathit{p}, \\xi)\\right)}$$\n"
   ]
  },
  {
   "cell_type": "markdown",
   "metadata": {},
   "source": [
    "## Financial Intermediary / Mutual Fund\n",
    "\n",
    "Assume intermediation cost is zero and there is a representative competitive Mutual Fund. At then end of each period, the mutual fund collects funds $a_{it}$ from each household $i$ which determines the value of the mutual fund's assets $A_{t}$. With these funds, the fund chooses a portfolio of government bonds, stocks and reserves in order to maximize its expected return. Note government bonds, stocks and reserves are all inelastically supplied.\n",
    "\n",
    "Beginning of  period outstanding value of assets must equal value of the portfolio of shares and bonds.\n",
    "\n",
    "$$(1+r^{a}_{t}) A_{t-1} =  B_{t-1} + \\int_{0}^{1} (q^{s}_{jt}+ D_{jt})\\mathit{v}_{jt-1} \\, dj +(1+i_{t-1}) \\frac{M_{t-1}}{P_{t}}$$\n",
    "\n",
    " Portfolio-Investment Constraint: End of the period t value of newly issued assets equals value of newly purchased shares and bonds. \n",
    "\n",
    "$$A_{t} = \\frac{M_{t}}{P_{t}} +q^{b}_{t} B_{t} + \\int_{0}^{1} q^{s}_{jt}\\mathit{v}_{jt}\\,dj$$\n",
    "\n",
    "### Mutual Fund's Problem\n",
    "\n",
    "$$\\max_{\\{B_{t}, M_{t} , \\mathit{v}_{jt} \\}} \\mathrm{E}_{t}\\left[1+r^{a}_{t+1} \\right] = \\mathrm{E}\\left[ \\frac{ B_{t} + \\int_{0}^{1} (q^{s}_{jt+1}+ D_{jt+1})\\mathit{v}_{jt} \\, dj +(1+i_{t}) \\frac{M_{t}}{P_{t+1}}}{\\frac{M_{t}}{P_{t}} +q^{b}_{t} B_{t} + \\int_{0}^{1} q^{s}_{jt}\\mathit{v}_{jt}\\,dj} \\right]$$\n",
    "\n",
    " \n",
    "### FOC: Asset Pricing Equations\n",
    "\n",
    "$$ \\mathrm{E}_{t}\\left[1+r^{a}_{t+1}\\right]= \\frac{1}{q^{b}_{t}}  =\\frac{\\mathrm{E}_{t}\\left[q^{s}_{jt+1} + D_{jt+1} \\right]}{q^{s}_{jt}} = (1+i_{t}) \\mathrm{E}_{t}\\left[\\frac{P_{t}}{P_{t+1}}\\right] \\equiv 1 +r_{t}$$\n",
    "\n",
    "\n",
    "where \n",
    "\n",
    "$A_{t} = \\int_{0}^{1} a_{it} \\, di$ is the value of assets at the end of period t.\n",
    "\n",
    "$r_{t}$ is the ex-ante real interest rate.\n",
    "\n",
    "$i_{t}$ is the nominal interest rate on reserves $M_{t}$.\n",
    "\n",
    "$B_{t}$ are zero coupon government bonds. Assume $B_{t} =0, \\forall t$\n",
    "\n",
    "$q^{b}_{t}$ is the price of a government bond in period $t$.\n",
    "\n",
    "$ \\mathit{v}_{jt}$ is the portfolio share of firm $j$ stocks where $\\int_{0}^{1} \\mathit{v}_{jt}\\,dj =1$\n",
    "\n",
    "$ q^{s}_{jt}$ is the stock price of intermediate firm $j$.\n",
    "\n",
    "$D_{jt} = Y_{jt} - \\frac{W_{jt}}{P_{jt}} N_{jt}$ is the dividend of intermediate firm $j$.\n",
    "\n",
    "$M_{t}$ are nominal reserves at the central bank. Assume $M_{t} = 0 , \\forall t$\n",
    "\n",
    "\n",
    "### Aggregate Stock Market Price\n",
    "\n",
    "Define $q^{s}_{t} = \\int_{0}^{1} q^{s}_{jt}\\,dj$ to be the price of the aggregate stock market.\n",
    "\n",
    "and $D_{t} = \\int_{0}^{1} D_{jt} \\,dj$ is the aggregate dividend.\n",
    "\n",
    "Then $$q^{s}_{t} = \\frac{\\mathrm{E}_{t}\\left[q^{s}_{t+1} +D_{t+1}\\right]}{1+r_{t}}$$. "
   ]
  },
  {
   "cell_type": "markdown",
   "metadata": {},
   "source": [
    "## Household Bellman Equation\n",
    "\n",
    "For household i's dynamic program is\n",
    "\n",
    "$$ \\mathbf{V(a_{it-1},\\mathit{p}_{it},\\xi_{it}, \\Omega_{t})=\\max_{\\{c_{it}, a_{it}\\}} { U(c_{it}, n_{it}) + \\beta_{i} \\not D \\mathrm{E}_{t}[V(a_{it} ,\\mathit{p}_{it+1}, \\xi_{it+1}, \\Omega_{t+1})]}}$$\n",
    "\n",
    "subject to $$\\mathbf{m_{i t} = z_{i t} +  (1+\\mathit{r}^{a}_{t})a_{i t-1}}$$\n",
    "\n",
    "$$ \\mathbf{c_{i t}  + a_{i t}= z_{i t} +  (1+\\mathit{r}^{a}_{t})a_{i t-1} }$$\n",
    "\n",
    "$$ \\mathbf{\\Phi_{t+1}(a,\\mathit{p},\\xi) = H\\left(\\Phi_{t}(a,\\mathit{p}, \\xi)\\right)}$$\n",
    "\n",
    "$$\\mathbf{a_{it}} \\geq 0 $$\n",
    "\n",
    "\n",
    "where $ \\mathbf{\\Omega_{t}} = \\left( W_t, P_{t},N_{t},  r^{a}_{t},i_{t}, \\tau_{t}, \\Phi_{t-1}(\\mathbf{a},\\mathit{p},\\xi)\\right)$\n",
    "\n"
   ]
  },
  {
   "cell_type": "markdown",
   "metadata": {},
   "source": [
    "## Normalized Bellman Equation \n",
    "\n",
    "Here non boldface variables are normalized by permanent income $\\mathit{p_{it}}$. \n",
    "\n",
    "e.g. $x_{it} = \\frac{\\mathbf{x_{it}}}{p_{it}}$\n",
    "\n",
    "$$ V(m_{it}) = \\max_{\\{c_{it}, a_{it}\\}} { U(c_{it}, n_{it}) + \\beta_{i}\\not D \\mathrm{E}_{t}[\\psi_{it+1}^{1-\\rho} V(m_{it+1}]}$$\n",
    "\n",
    " subject to $$m_{i t} =  \\xi_{it}  + (1+r^{a}_{t}) \\frac{a_{i t-1}}{\\psi_{it-1}}$$\n",
    "\n",
    "$$ c_{i t}  + a_{i t}= \\xi_{it}  + (1+r^{a}_{t}) \\frac{a_{i t-1}}{\\psi_{it-1}} $$\n",
    "\n",
    "$$ a_{it} \\geq 0 $$\n",
    "\n",
    "\n",
    "$$ \\Phi_{t+1}(m) = H(\\Phi_{t}(m))$$\n"
   ]
  },
  {
   "cell_type": "markdown",
   "metadata": {},
   "source": [
    "## Euler Equation\n",
    "\n",
    "For household i, \n",
    "\n",
    "$$ U_{c}(c_{it},n_{it}) =  R^{a}_{t} \\not D \\beta_{i}  \\mathrm{E}_{t}\\left[ \\psi_{it+1}^{-\\rho} U_{c}(c_{it+1},n_{it+1})\\right]$$\n",
    "\n",
    "where $R^{a}_{t} = 1+r^{a}_{t}$"
   ]
  },
  {
   "cell_type": "markdown",
   "metadata": {},
   "source": [
    "## Firms"
   ]
  },
  {
   "cell_type": "markdown",
   "metadata": {},
   "source": [
    "## Final Good Producer\n",
    "\n",
    "Perfectly Competitive Final Good Producer aggregates goods with CES technology\n",
    "\n",
    "$$ Y_{t} = \\left(\\int_{0}^{1} Y_{jt}^{\\frac{\\epsilon_{p}-1}{\\epsilon_{p}}}\\, dj\\right)^{\\frac{\\epsilon_{p}}{\\epsilon_{p}-1}}$$\n",
    "\n",
    "Final Good Producer Profit maximzation Problem given $Y_{t}$\n",
    "\n",
    "$$ \\max_{Y_{jt}} P_{t} \\left(\\int_{0}^{1} Y_{jt}^{\\frac{\\epsilon_{p}-1}{\\epsilon_{p}}}\\, dj\\right)^{\\frac{\\epsilon_{p}}{\\epsilon_{p}-1}} - \\int_{0}^{1} P_{jt} Y_{jt} ,\\ dj $$\n",
    "\n",
    "\n",
    "This leads to demand\n",
    "\n",
    "$$ Y_{jt} = \\left(\\frac {P_{jt}}{P_{t}}\\right)^{- \\epsilon_{p}} Y_{t}$$\n",
    "\n",
    "Plugging this demand into $ P_{t}Y_{t} = \\int_{0}^{1} P_{jt} Y_{jt} ,\\ dj$ , we obtain\n",
    "\n",
    "Price index $$P_{t} = \\left(\\int_{0}^{1} P_{jt}^{1-\\epsilon_{p}}\\,dj \\right )^{\\frac{1}{1-\\epsilon_{p}}}$$\n"
   ]
  },
  {
   "cell_type": "markdown",
   "metadata": {},
   "source": [
    "## Intermediate Good Producers\n",
    "\n",
    "$$Y_{jt} = Z_{t}  N_{jt}$$\n",
    "\n",
    "where $log(Z_{t}) = \\rho_{Z} log( Z_{t-1}) + \\epsilon_{Z}$\n",
    "\n",
    "Intermediate good producers purchase labor from competitive Labor Packer.\n",
    "\n",
    "\n",
    "Labor demand for firm j is :\n",
    "\n",
    "$$ N_{jt} =  \\frac{Y_{jt}} {Z_{t}} $$ \n",
    "\n",
    "approximately in steady state (Gali Textbook)...  $$ N_{t} \\approx \\frac{Y_{t}} {Z_{t}}$$\n",
    "\n"
   ]
  },
  {
   "cell_type": "markdown",
   "metadata": {},
   "source": [
    " ### Firm Maximization Problem\n",
    " Firm $j$ chooses $P_{jt}$ to maximize its dividend $D_{jt}$ and its stock price $q^{s}_{jt} $\n",
    " \n",
    " $$\\max_{\\{P_{jt}\\}} \\overbrace{\\frac{(P_{jt} - MC_{t})Y_{jt}}{P_{t}}}^{=D_{jt}} + q^{s}_{jt}\\left(P_{jt}\\right) $$\n",
    " \n",
    "Given $q^{s}_{jt}\\left(P_{jt}\\right) = \\frac{\\mathrm{E}_{t}\\left[q^{s}_{jt+1} +D_{jt+1}\\left(P_{jt}\\right)\\right]}{1+r_{t}}$, this is equivalent to: \n",
    " \n",
    " $$\\max_{\\{P_{jt}\\}} \\mathrm{E}_{t}\\left[\\sum_{s=0}^{\\infty} (\\lambda_{P}) ^{s} M_{t,t+s} \\left[ \\frac{(P_{jt} - MC_{t+s})Y_{jt+s}}{P_{t+s}}\\right]\\right]$$\n",
    " \n",
    "subject to $$Y_{jt} = \\left(\\frac {P_{jt}}{P_{t}}\\right)^{- \\epsilon_{p}} Y_{t}$$\n",
    " \n",
    "where $ \\lambda_{P}$ is the  probability a firm cannot change its price,  $M_{t, t+s} = \\prod_{k=t}^{t+s-1} \\frac{1}{1+r_{k}}$ is the stochastic discount factor and $MC_{t} = \\frac{W_{t}}{A_{t}}$ is the marginal cost\n",
    "\n",
    "### The optimal price :\n",
    "For firm $j$\n",
    "\n",
    "$$ P_{jt}^{*} = \\frac{\\epsilon_{p}}{\\epsilon_{p}-1} \\frac{\\sum_{s=0}^{\\infty}\\lambda_{p}^{s} \\mathrm{E}_{t}\\left[M_{t,t+s} \\frac{Y_{t+s}}{P_{t+s}^{1-\\epsilon_{p}}} MC_{t+s}\\right]}{\\sum_{s=0}^{\\infty}\\lambda_{p}^{s} \\mathrm{E}_{t}\\left[M_{t,t+s} \\frac{Y_{t+s}}{P_{t+s}^{1-\\epsilon_{p}}}\\right]}$$\n",
    "\n",
    "\n",
    "Taking logs , optimal price can be expressed as \n",
    "\n",
    "$$ p_{t}^{*} = ln\\left(\\frac{\\epsilon_{p}}{\\epsilon_{p}-1}\\right) + \\left(1 - \\frac{\\lambda_{p}}{1+r^{*}}\\right) \\sum_{s=0}^{\\infty} \\lambda_{p}^{s} \\mathrm{E}_{t} \\left [ M_{t,t+s} [w_{t+s} - a_{t+s}]\\right]$$\n",
    "\n",
    "where the variables above are logged and $r^{*}$ is the steady state interest rate. \n",
    "\n",
    "\n",
    " ## Phillips Curve:\n",
    "\n",
    "$$ \\pi_{t} = \\frac{\\mathrm{E}_{t}[\\pi_{t+1}]}{1+r^{*}} + \\lambda (\\mu_{t}-\\mu)$$\n",
    "\n",
    "where $r^{*}$ is the natural rate of interest in the steady state, $\\lambda = \\frac{(1-\\lambda_{p})(1-\\frac{\\lambda_{p}}{1+r})}{\\lambda_{p}}$,  $ \\mu_{t} = log(P_{t}) - log(W_{t}) + log(A_{t})$ and $\\mu = \\frac{\\epsilon_{p}}{1-\\epsilon_{p}}$"
   ]
  },
  {
   "cell_type": "markdown",
   "metadata": {},
   "source": [
    "## Labor Market\n",
    "\n",
    "Every worker $i$ provides $n_{igt}$ hours of work to labor union $g \\in [0,1]$ and assume $n_{igt} = N_{gt}$. This assumption will imply labor income heterogeneity is only due to transitory income shocks.\n",
    "\n",
    "Therefore, \n",
    "\n",
    "$$n_{it} = \\int_{0}^{1} n_{igt}\\,dg$$\n",
    "\n",
    "and \n",
    "\n",
    "$$N_{gt} = \\int_{0}^{1} n_{igt}\\,di$$ \n",
    "\n"
   ]
  },
  {
   "cell_type": "markdown",
   "metadata": {},
   "source": [
    "## Competitve Labor  Packer\n",
    "\n",
    "Perfectly Competitive Labor Packer purchases labor from Labor Unions and  aggregates Labor using CES technology and sells $N_{t}$ at price $W_{t}$\n",
    "\n",
    "\n",
    "$$ N_{t} = \\left(\\int_{0}^{1} N_{gt}^{\\frac{\\epsilon_{w}-1}{\\epsilon_{w}}}\\,dg\\right)^{\\frac{\\epsilon_{w}}{\\epsilon_{w}-1}}$$\n",
    "\n",
    "The Competitve Labor Packer's profit maximizing Problem \n",
    "\n",
    "$$ \\max_{n_{jgt}} W_{t} \\left(\\int_{0}^{1} N_{jgt}^{\\frac{\\epsilon_{w}-1}{\\epsilon_{w}}} \\, dg \\right)^ {\\frac{\\epsilon_{w}}{\\epsilon_{w}-1}} - \\int_{0}^{1} W_{gt}N_{jgt}\\, dj $$\n",
    "\n",
    "\n",
    "### Competitive Labor Packer Demand for labor types\n",
    "\n",
    "$$ N_{gt} = \\left(\\frac{W_{gt}}{W_{t}}\\right)^{-\\epsilon_{w}} N_{t} $$\n",
    "\n",
    "Wage index follows\n",
    "$$ W_{t} = \\left(\\int_{0}^{1} W_{gt}^{1-\\epsilon_{w}}\\,dg\\right)^{\\frac{1}{1-\\epsilon_{w}}}$$\n"
   ]
  },
  {
   "cell_type": "markdown",
   "metadata": {},
   "source": [
    "## Labor Union Maximization Problem\n",
    "\n",
    "Labor Union $g$ will set a wage to maximize expected lifetime utility. It may only adjust its price given it is chosen by the calvo fairy. \n",
    "\n",
    "$$ \\max_{\\{W_{gt}\\}} \\mathrm{E_{t}}\\left[\\sum_{s=0}^{\\infty} (\\not D \\lambda_{w})^{s} \\int_{0}^{1} \\beta_{i}^{t+s} U\\left (c(W_{t+s}), n_{i t+s}) \\, d \\Phi_{it+s} \\right)\\right] $$\n",
    "\n",
    "subject to the following three constraints $$ N_{gt} = \\left(\\frac{W_{gt}}{W_{t}}\\right)^{-\\epsilon_{w}} N_{t} $$\n",
    "\n",
    "$$ W_{t} = \\left(\\int_{0}^{1} W_{gt}^{1-\\epsilon_{w}}\\,dg\\right)^{\\frac{1}{1-\\epsilon_{w}}}$$\n",
    "\n",
    "where $\\lambda_{w}$ probability labor union cannot adjust its wage and $\\Phi_{it+s}$ is the distribution of illiquid assets, liquid assets, transitory and permanent shocks over households at period $t+s$."
   ]
  },
  {
   "cell_type": "markdown",
   "metadata": {},
   "source": [
    "## Optimal Wage\n",
    "\n",
    "$$ W_{t}^{*} = \\frac{\\epsilon_{w}}{\\epsilon_{w}-1} \\frac{\\mathrm{E}_{t} \\left[\\sum_{s=0}^{\\infty} (\\not D \\lambda_{w})^{s} N_{t+s} MV_{t+s} W_{t+s}^{\\epsilon_{w}} \\right]} {\\mathrm{E}_{t} \\left[ \\sum_{s=0}^{\\infty} (\\not D \\lambda_{w})^{s} \\frac{(1-\\tau_{t+s})}{P_{t+s}} N_{t+s} W_{t+s}^{\\epsilon_{w}} MU_{t+s}\\right]}$$\n",
    "\n",
    "where $MU_{t+s} = \\int_{0}^{1}  \\beta_{i}^{t+s} \\theta_{it} U_{c} \\left(c_{i t+s}, n_{i t+s} \\right) \\  d \\Phi_{it+s} $\n",
    "\n",
    "$ \\quad \\quad MV_{t+s} = \\int_{0}^{1}  \\beta_{i}^{t+s} U_{n} \\left(c_{i t+s}, n_{i t+s} \\right) \\ d \\Phi_{it+s} $\n",
    "\n",
    "Taking the log of both sides and isolating for $w$\n",
    "\n",
    "$$ w_{t}^{*} = w - \\tau - p - mrs + (1 - \\not D \\lambda_{w}) \\mathrm{E}_{t}\\left[\\sum_{s=0}^{\\infty} ( \\not D \\lambda_{w})^{s} ( mrs_{t+s} + p_{t+s} + \\tau_{t+s})\\right]$$\n",
    "\n",
    "$$ w_{t}^{*} = ln\\left(\\frac{\\epsilon_{w}}{\\epsilon_{w}-1}\\right) + (1 - \\not D \\lambda_{w}) \\mathrm{E}_{t}\\left[\\sum_{s=0}^{\\infty} ( \\not D \\lambda_{w})^{s} ( mrs_{t+s} + p_{t+s} + \\tau_{t+s})\\right]$$\n",
    "\n",
    "where $w , \\tau, p$ are logged steady state values, $mrs_{t+s} = log \\left(- \\frac{\\int_{0}^{1}  \\beta_{i}^{t+s} U_{n} \\left(c_{i t+s}, n_{i t+s} \\right) \\ d \\Phi_{it+s} ) }{\\int_{0}^{1}  \\beta_{i}^{t+s} \\theta_{it} U_{c} \\left(c_{i t+s}, n_{i t+s} \\right) \\  d \\Phi_{it+s} )} \\right)$\n",
    "\n",
    "Note $w- \\tau - p - mrs$ is the markup of the wage over the flexible equilibrium level."
   ]
  },
  {
   "cell_type": "markdown",
   "metadata": {},
   "source": [
    "## Wage Phillips Curve\n",
    "\n",
    "Optimal Wage can be rewritten as \n",
    "\n",
    "$$ w_{t}^{*} = \\not D \\lambda_{w} \\mathrm{E}_{t} w_{t+1}^{*} + (1-\\not D \\lambda_{w})(\\mu_{w} + mrs_{t} + p_{t} + \\tau_{t})$$\n",
    "\n",
    "where $\\mu_{w} = ln\\left(\\frac{\\epsilon_{w}}{\\epsilon_{w}-1}\\right)$\n",
    "\n",
    "Then. using the approximation $w_{t} = \\lambda_{w} w_{t-1} + (1 -\\lambda_{w}) w_{t}^{*}$\n",
    "\n",
    "$$ \\pi_{t}^{w} = \\frac{(1-\\lambda_{w})}{\\lambda_{w}} \\not D \\lambda_{w} \\mathrm{E}_{t} \\left[ w_{t+1}^{*} - \\frac{w_{t}}{\\not D \\lambda_{W}}\\right] + \\frac{(1-\\lambda_{w})}{\\lambda_{w}} (1-\\not D \\lambda_{w}) (\\mu_{w} +mrs_{t} + p_{t} + \\tau_{t})$$"
   ]
  },
  {
   "cell_type": "markdown",
   "metadata": {},
   "source": [
    "## Central Bank / Monetary Policy\n",
    "\n",
    "The central bank follows the taylor rule: \n",
    "\n",
    "$$i_{t} = r_{t}^{*} +\\phi \\pi_{t} + \\phi_{y} (Y_{t} - Y_{ss}) + v_{t}$$\n",
    "\n",
    "where $v_{t} = \\rho_{v} v_{t-1} +\\varepsilon_{t}$\n",
    "\n",
    "\n"
   ]
  },
  {
   "cell_type": "markdown",
   "metadata": {},
   "source": [
    "## Government \n",
    "\n",
    "\n",
    "The government follows the balanced budget\n",
    "\n",
    "\n",
    "\n",
    "$$ q^{b}_{t} B_{t} + G_{t} + \\mathit{u} \\mho_{t} =  B_{t-1} + \\tau_{t} w_{t} N_{t} $$ \n",
    "\n"
   ]
  },
  {
   "cell_type": "markdown",
   "metadata": {},
   "source": [
    "# Market Clearing Conditions"
   ]
  },
  {
   "cell_type": "markdown",
   "metadata": {},
   "source": [
    "\n",
    "Bond Market: $$ A_t = \\int_{0}^{1} \\mathcal{A}(\\mathbf{m})\\, d\\Phi_{t}(\\mathbf{m})$$\n",
    "             \n",
    "where $\\mathcal{A}(\\mathbf{m}(a,\\xi))$  is the  asset policy function.\n",
    "\n",
    "Goods Market(Assume $G_{t}=0$):\n",
    "\n",
    "$$ Y_t = C_{t} \\equiv \\int_{0}^{1} \\mathcal{C}(\\mathbf{m})\\, d\\Phi_{t}(\\mathbf{m})$$"
   ]
  },
  {
   "cell_type": "markdown",
   "metadata": {},
   "source": [
    "# Equilibrium\n",
    "\n",
    "To be added -- pretty standard"
   ]
  },
  {
   "cell_type": "code",
   "execution_count": null,
   "metadata": {},
   "outputs": [],
   "source": []
  }
 ],
 "metadata": {
  "kernelspec": {
   "display_name": "Python 3",
   "language": "python",
   "name": "python3"
  },
  "language_info": {
   "codemirror_mode": {
    "name": "ipython",
    "version": 3
   },
   "file_extension": ".py",
   "mimetype": "text/x-python",
   "name": "python",
   "nbconvert_exporter": "python",
   "pygments_lexer": "ipython3",
   "version": "3.7.3"
  }
 },
 "nbformat": 4,
 "nbformat_minor": 4
}
