{
 "cells": [
  {
   "cell_type": "markdown",
   "metadata": {
    "colab_type": "text",
    "id": "Ntvj9NfbyFXn"
   },
   "source": [
    "# Theoretical Foundations of Buffer Stock Saving\n",
    "<p style=\"text-align: center;\"><small><small>Generator: BufferStockTheory-make/notebooks_byname</small></small></p>"
   ]
  },
  {
   "cell_type": "markdown",
   "metadata": {
    "colab_type": "text",
    "id": "aLs_py6tyFXp"
   },
   "source": [
    "[![Binder](https://mybinder.org/badge_logo.svg)](https://mybinder.org/v2/gh/econ-ark/REMARK/master?filepath=REMARKs%2FBufferStockTheory%2FBufferStockTheory.ipynb)\n",
    "\n",
    "[This notebook](https://github.com/econ-ark/REMARK/blob/master/REMARKs/BufferStockTheory/BufferStockTheory.ipynb) uses the [Econ-ARK/HARK](https://github.com/econ-ark/hark) toolkit to describe the main results and reproduce the figures in the paper [Theoretical Foundations of Buffer Stock Saving](http://econ.jhu.edu/people/ccarroll/papers/BufferStockTheory) <cite data-cite=\"6202365/8AH9AXN2\"></cite>\n",
    "\n",
    "\n",
    "If you are not familiar with the HARK toolkit, you may wish to browse the [\"Gentle Introduction to HARK\"](https://mybinder.org/v2/gh/econ-ark/DemARK/master?filepath=Gentle-Intro-To-HARK.ipynb) before continuing (since you are viewing this document, you presumably know a bit about [Jupyter Notebooks](https://jupyter-notebook-beginner-guide.readthedocs.io/en/latest/)).\n",
    "\n",
    "For instructions on how to install the [Econ-ARK/HARK](https://github.com/econ-ark/hark) toolkit on your computer, please refer to the [QUICK START GUIDE](https://github.com/econ-ark/HARK/blob/master/README.md). \n",
    "\n",
    "The main HARK tool used here is $\\texttt{ConsIndShockModel.py}$, in which agents have CRRA utility and face idiosyncratic shocks to permanent and transitory income.  For an introduction to this module, see the [ConsIndShockModel.ipynb](https://econ-ark.org/notebooks) notebook at the [Econ-ARK](https://econ-ark.org) website.\n",
    "\n"
   ]
  },
  {
   "cell_type": "code",
   "execution_count": 4,
   "metadata": {
    "code_folding": [],
    "colab": {
     "base_uri": "https://localhost:8080/",
     "height": 13943
    },
    "colab_type": "code",
    "id": "yGa8wwzg3RCJ",
    "outputId": "c16f29c7-4d60-4bf0-8343-0764aad87aaf"
   },
   "outputs": [],
   "source": [
    "# Install libraries\n",
    "from IPython.utils import io\n",
    "\n",
    "with io.capture_output() as captured:\n",
    "    !pip install econ-ark==0.10.0.dev2\n",
    "    !pip install matplotlib\n",
    "    !pip install numpy\n",
    "    !pip install scipy\n",
    "    !pip install ipywidgets\n",
    "    !pip install jupyter_contrib_nbextensions\n",
    "    !jupyter contrib nbextension install\n",
    "    !jupyter nbextension enable codefolding/main\n",
    "    !pip install cite2c\n",
    "    !python -m cite2c.install\n",
    "\n",
    "    !python -c \"import matplotlib as mpl; mpl.use('Agg'); import pylab as plt; fig, ax = plt.subplots(); fig.savefig('test.png')\"\n",
    "    !test -e test.png && rm test.png\n",
    "    !apt-get update\n",
    "    !apt-get install texlive texlive-latex-extra texlive-xetex dvipng"
   ]
  },
  {
   "cell_type": "code",
   "execution_count": 0,
   "metadata": {
    "colab": {},
    "colab_type": "code",
    "id": "_fk3W1t_jUh-"
   },
   "outputs": [],
   "source": [
    "from HARK.ConsumptionSaving.ConsIndShockModel import IndShockConsumerType"
   ]
  },
  {
   "cell_type": "code",
   "execution_count": 0,
   "metadata": {
    "code_folding": [
     0
    ],
    "colab": {},
    "colab_type": "code",
    "id": "z43HpwWSyFXq"
   },
   "outputs": [],
   "source": [
    "# This cell does some setup and imports generic tools used to produce the figures\n",
    "\n",
    "Generator=False # Is this notebook the master or is it generated?\n",
    "# Import related generic python packages\n",
    "import numpy as np\n",
    "from time import clock\n",
    "mystr = lambda number : \"{:.4f}\".format(number)\n",
    "\n",
    "# This is a jupytext paired notebook that autogenerates BufferStockTheory.py\n",
    "# which can be executed from a terminal command line via \"ipython BufferStockTheory.py\"\n",
    "# But a terminal does not permit inline figures, so we need to test jupyter vs terminal\n",
    "# Google \"how can I check if code is executed in the ipython notebook\"\n",
    "\n",
    "from IPython import get_ipython # In case it was run from python instead of ipython\n",
    "def in_ipynb():\n",
    "    try:\n",
    "        if str(type(get_ipython())) == \"<class 'ipykernel.zmqshell.ZMQInteractiveShell'>\":\n",
    "            return True\n",
    "        elif str(type(get_ipython())) == \"<class 'google.colab._shell.Shell'>\":\n",
    "            return True\n",
    "        else:\n",
    "            return False\n",
    "    except NameError:\n",
    "        return False\n",
    "\n",
    "# Determine whether to make the figures inline (for spyder or jupyter)\n",
    "# vs whatever is the automatic setting that will apply if run from the terminal\n",
    "if in_ipynb():\n",
    "    # %matplotlib inline generates a syntax error when run from the shell\n",
    "    # so do this instead\n",
    "    get_ipython().run_line_magic('matplotlib', 'inline')\n",
    "else:\n",
    "    get_ipython().run_line_magic('matplotlib', 'inline')\n",
    "    print('You appear to be running from a terminal')\n",
    "    print('By default, figures will appear one by one')\n",
    "    print('Close the visible figure in order to see the next one')\n",
    "\n",
    "# Import the plot-figure library matplotlib\n",
    "\n",
    "import matplotlib.pyplot as plt\n",
    "\n",
    "# In order to use LaTeX to manage all text layout in our figures, we import rc settings from matplotlib.\n",
    "from matplotlib import rc\n",
    "plt.rc('font', family='serif')\n",
    "params = {'text.latex.preamble' : [r'\\usepackage{amsmath}']}\n",
    "plt.rcParams.update(params)\n",
    "\n",
    "# LaTeX is huge and takes forever to install on mybinder\n",
    "# so if it is not installed then do not use it \n",
    "from distutils.spawn import find_executable\n",
    "iflatexExists=False\n",
    "if find_executable('latex'):\n",
    "    iflatexExists=True\n",
    "    \n",
    "plt.rc('font', family='serif')\n",
    "plt.rc('text', usetex=iflatexExists)\n",
    "\n",
    "# The warnings package allows us to ignore some harmless but alarming warning messages\n",
    "import warnings\n",
    "warnings.filterwarnings(\"ignore\")\n",
    "\n",
    "# The tools for navigating the filesystem\n",
    "import sys\n",
    "import os\n",
    "\n",
    "sys.path.insert(0, os.path.abspath('../../lib')) # REMARKs directory is two down from root \n",
    "\n",
    "from HARK.utilities import plotFuncsDer, plotFuncs\n",
    "from copy import copy, deepcopy\n",
    "\n",
    "# Define (and create, if necessary) the figures directory \"Figures\"\n",
    "if Generator:\n",
    "    my_file_path = os.path.dirname(os.path.abspath(\"BufferStockTheory.ipynb\")) # Find pathname to this file:\n",
    "    Figures_HARK_dir = os.path.join(my_file_path,\"Figures/\") # LaTeX document assumes figures will be here\n",
    "    Figures_HARK_dir = os.path.join(my_file_path,\"/tmp/Figures/\") # Uncomment to make figures outside of git path\n",
    "    if not os.path.exists(Figures_HARK_dir):\n",
    "        os.makedirs(Figures_HARK_dir)"
   ]
  },
  {
   "cell_type": "markdown",
   "metadata": {
    "colab_type": "text",
    "id": "3rNh_85gyFXt"
   },
   "source": [
    "## [The Problem](http://econ.jhu.edu/people/ccarroll/papers/BufferStockTheory/#The-Problem) \n",
    "\n",
    "The paper defines and calibrates a small set of parameters:\n",
    "\n",
    "| Parameter | Description | Code | Value |\n",
    "| :---: | ---         | ---  | :---: |\n",
    "| $\\newcommand{\\PermGroFac}{\\Gamma}\\PermGroFac$ | Permanent Income Growth Factor | $\\texttt{PermGroFac}$ | 1.03 |\n",
    "| $\\newcommand{\\Rfree}{\\mathrm{\\mathsf{R}}}\\Rfree$ | Interest Factor | $\\texttt{Rfree}$ | 1.04 |\n",
    "| $\\newcommand{\\DiscFac}{\\beta}\\DiscFac$ | Time Preference Factor | $\\texttt{DiscFac}$ | 0.96 |\n",
    "| $\\newcommand{\\CRRA}{\\rho}\\CRRA$ | Coeﬃcient of Relative Risk Aversion| $\\texttt{CRRA}$ | 2 |\n",
    "| $\\newcommand{\\UnempPrb}{\\wp}\\UnempPrb$ | Probability of Unemployment | $\\texttt{UnempPrb}$ | 0.005 |\n",
    "| $\\newcommand{\\IncUnemp}{\\mu}\\IncUnemp$ | Income when Unemployed | $\\texttt{IncUnemp}$ | 0. |\n",
    "| $\\newcommand{\\PermShkStd}{\\sigma_\\psi}\\PermShkStd$ | Std Dev of Log Permanent Shock| $\\texttt{PermShkStd}$ | 0.1 |\n",
    "| $\\newcommand{\\TranShkStd}{\\sigma_\\theta}\\TranShkStd$ | Std Dev of Log Transitory Shock| $\\texttt{TranShkStd}$ | 0.1 |\n",
    "\n",
    "For a microeconomic consumer with 'Market Resources' (net worth plus current income) $M_{t}$, end-of-period assets $A_{t}$ will be the amount remaining after consumption of $C_{t}$.  <!-- Next period's 'Balances' $B_{t+1}$ reflect this period's $A_{t}$ augmented by return factor $R$:-->\n",
    "\\begin{eqnarray}\n",
    "A_{t}   &=& M_{t}-C_{t}   \\\\\n",
    "\\end{eqnarray}\n",
    "\n",
    "The consumer's permanent noncapital income $P$ grows by a predictable factor $\\PermGroFac$ and is subject to an unpredictable lognormally distributed multiplicative shock $\\mathbb{E}_{t}[\\psi_{t+1}]=1$, \n",
    "\\begin{eqnarray}\n",
    "P_{t+1} & = & P_{t} \\PermGroFac \\psi_{t+1}\n",
    "\\end{eqnarray}\n",
    "\n",
    "and actual income is permanent income multiplied by a logormal multiplicative transitory shock, $\\mathbb{E}_{t}[\\theta_{t+1}]=1$, so that next period's market resources are\n",
    "\\begin{eqnarray}\n",
    "%M_{t+1} &=& B_{t+1} +P_{t+1}\\theta_{t+1},  \\notag\n",
    "M_{t+1} &=& A_{t}R +P_{t+1}\\theta_{t+1}.  \\notag\n",
    "\\end{eqnarray}\n",
    "\n",
    "When the consumer has a CRRA utility function $u(c)=\\frac{c^{1-\\rho}}{1-\\rho}$, the paper shows that the problem can be written in terms of ratios of money variables to permanent income, e.g. $m_{t} \\equiv M_{t}/P_{t}$, and the Bellman form of [the problem reduces to](http://econ.jhu.edu/people/ccarroll/papers/BufferStockTheory/#The-Related-Problem):\n",
    "\n",
    "\\begin{eqnarray*}\n",
    "v_t(m_t) &=& \\max_{c_t}~~ u(c_t) + \\beta~\\mathbb{E}_{t} [(\\Gamma\\psi_{t+1})^{1-\\rho} v_{t+1}(m_{t+1}) ] \\\\\n",
    "& s.t. & \\\\\n",
    "a_t &=& m_t - c_t \\\\\n",
    "m_{t+1} &=& R/(\\Gamma \\psi_{t+1}) a_t + \\theta_{t+1} \\\\\n",
    "\\end{eqnarray*}\n"
   ]
  },
  {
   "cell_type": "code",
   "execution_count": 0,
   "metadata": {
    "code_folding": [
     0
    ],
    "colab": {},
    "colab_type": "code",
    "id": "dZVdwQsVyFXu",
    "lines_to_next_cell": 0
   },
   "outputs": [],
   "source": [
    "# Define a parameter dictionary with baseline parameter values\n",
    "\n",
    "# Set the baseline parameter values \n",
    "PermGroFac = 1.03\n",
    "Rfree      = 1.04\n",
    "DiscFac    = 0.96\n",
    "CRRA       = 2.00\n",
    "UnempPrb   = 0.005\n",
    "IncUnemp   = 0.0\n",
    "PermShkStd = 0.1\n",
    "TranShkStd = 0.1\n",
    "# Import default parameter values\n",
    "import HARK.ConsumptionSaving.ConsumerParameters as Params \n",
    "\n",
    "# Make a dictionary containing all parameters needed to solve the model\n",
    "base_params = Params.init_idiosyncratic_shocks\n",
    "\n",
    "# Set the parameters for the baseline results in the paper\n",
    "# using the variable values defined in the cell above\n",
    "base_params['PermGroFac'] = [PermGroFac]   # Permanent income growth factor\n",
    "base_params['Rfree']      = Rfree          # Interest factor on assets\n",
    "base_params['DiscFac']    = DiscFac        # Time Preference Factor\n",
    "base_params['CRRA']       = CRRA           # Coefficient of relative risk aversion\n",
    "base_params['UnempPrb']   = UnempPrb       # Probability of unemployment (e.g. Probability of Zero Income in the paper)\n",
    "base_params['IncUnemp']   = IncUnemp       # Induces natural borrowing constraint\n",
    "base_params['PermShkStd'] = [PermShkStd]   # Standard deviation of log permanent income shocks\n",
    "base_params['TranShkStd'] = [TranShkStd]   # Standard deviation of log transitory income shocks\n",
    "\n",
    "# Some technical settings that are not interesting for our purposes\n",
    "base_params['LivPrb']       = [1.0]   # 100 percent probability of living to next period\n",
    "base_params['CubicBool']    = True    # Use cubic spline interpolation\n",
    "base_params['T_cycle']      = 1       # No 'seasonal' cycles\n",
    "base_params['BoroCnstArt']  = None    # No artificial borrowing constraint"
   ]
  },
  {
   "cell_type": "markdown",
   "metadata": {
    "colab_type": "text",
    "id": "2SxCu8AgyFXz"
   },
   "source": [
    "## Convergence of the Consumption Rules\n",
    "\n",
    "[The paper's first figure](http://econ.jhu.edu/people/ccarroll/papers/BufferStockTheory/#Convergence-of-the-Consumption-Rules) depicts the successive consumption rules that apply in the last period of life $(c_{T}(m))$, the second-to-last period, and earlier periods under the baseline parameter values given above."
   ]
  },
  {
   "cell_type": "code",
   "execution_count": 0,
   "metadata": {
    "code_folding": [
     0
    ],
    "colab": {},
    "colab_type": "code",
    "id": "7r2QtbmFyFX0",
    "lines_to_next_cell": 2
   },
   "outputs": [],
   "source": [
    "# Create a buffer stock consumer instance by passing the dictionary to the class.\n",
    "baseEx = IndShockConsumerType(**base_params)\n",
    "baseEx.cycles = 100   # Make this type have a finite horizon (Set T = 100)\n",
    "\n",
    "baseEx.solve()        # Solve the model\n",
    "baseEx.unpackcFunc()  # Make the consumption function easily accessible"
   ]
  },
  {
   "cell_type": "code",
   "execution_count": 9,
   "metadata": {
    "code_folding": [
     0
    ],
    "colab": {
     "base_uri": "https://localhost:8080/",
     "height": 549
    },
    "colab_type": "code",
    "id": "Il2ibg7hyFX5",
    "lines_to_next_cell": 2,
    "outputId": "01347ded-447f-4d47-d7b9-00b3ea219f78"
   },
   "outputs": [
    {
     "data": {
      "image/png": "[encoded data removed]",
      "text/plain": [
       "<Figure size 864x648 with 1 Axes>"
      ]
     },
     "metadata": {
      "tags": []
     },
     "output_type": "display_data"
    }
   ],
   "source": [
    "# Plot the different periods' consumption rules.\n",
    "\n",
    "\n",
    "m1 = np.linspace(0,9.5,1000) # Set the plot range of m\n",
    "m2 = np.linspace(0,6.5,500)\n",
    "c_m  = baseEx.cFunc[0](m1)   # c_m can be used to define the limiting inﬁnite-horizon consumption rule here\n",
    "c_t1 = baseEx.cFunc[-2](m1) # c_t1 defines the second-to-last period consumption rule\n",
    "c_t5 = baseEx.cFunc[-6](m1) # c_t5 defines the T-5 period consumption rule\n",
    "c_t10 = baseEx.cFunc[-11](m1)  # c_t10 defines the T-10 period consumption rule\n",
    "c_t0 = m2                            # c_t0 defines the last period consumption rule\n",
    "plt.figure(figsize = (12,9))\n",
    "plt.plot(m1,c_m,color=\"black\")\n",
    "plt.plot(m1,c_t1,color=\"black\")\n",
    "plt.plot(m1,c_t5,color=\"black\")\n",
    "plt.plot(m1,c_t10,color=\"black\")\n",
    "plt.plot(m2,c_t0,color=\"black\")\n",
    "plt.xlim(0,11)\n",
    "plt.ylim(0,7)\n",
    "plt.text(7,6,r'$c_{T}(m) = 45$ degree line',fontsize = 22,fontweight='bold')\n",
    "plt.text(9.6,5.3,r'$c_{T-1}(m)$',fontsize = 22,fontweight='bold')\n",
    "plt.text(9.6,2.6,r'$c_{T-5}(m)$',fontsize = 22,fontweight='bold')\n",
    "plt.text(9.6,2.1,r'$c_{T-10}(m)$',fontsize = 22,fontweight='bold')\n",
    "plt.text(9.6,1.7,r'$c(m)$',fontsize = 22,fontweight='bold')\n",
    "plt.arrow(6.9,6.05,-0.6,0,head_width= 0.1,width=0.001,facecolor='black',length_includes_head='True')\n",
    "plt.tick_params(labelbottom=False, labelleft=False,left='off',right='off',bottom='off',top='off')\n",
    "plt.text(0,7.05,\"$c$\",fontsize = 26)\n",
    "plt.text(11.1,0,\"$m$\",fontsize = 26)\n",
    "# Save the figures in several formats\n",
    "if Generator:\n",
    "    plt.savefig(os.path.join(Figures_HARK_dir, 'cFuncsConverge.png'))\n",
    "    plt.savefig(os.path.join(Figures_HARK_dir, 'cFuncsConverge.jpg'))\n",
    "    plt.savefig(os.path.join(Figures_HARK_dir, 'cFuncsConverge.pdf'))\n",
    "    plt.savefig(os.path.join(Figures_HARK_dir, 'cFuncsConverge.svg'))\n",
    "if not in_ipynb:\n",
    "    plt.show(block=False) \n",
    "else:\n",
    "    plt.show(block=True) # Change to False if you want to run uninterrupted"
   ]
  },
  {
   "cell_type": "markdown",
   "metadata": {
    "colab_type": "text",
    "id": "RxFIjHKKyFX-"
   },
   "source": [
    "## Factors and Conditions\n",
    "\n",
    "### [The Finite Human Wealth Condition](http://econ.jhu.edu/people/ccarroll/papers/BufferStockTheory/#Human-Wealth)\n",
    "\n",
    "Human wealth for a perfect foresight consumer is defined as the present discounted value of future income:\n",
    "\n",
    "\\begin{eqnarray}\n",
    "H_{t} & = & \\mathbb{E}[P_{t} + R^{-1} P_{t+1} + R^{2} P_{t+2} ... ] \\\\ \n",
    "      & = & P_{t}\\mathbb{E}[1 + (\\Gamma/R) + (\\Gamma/R)^{2} ... ]\n",
    "\\end{eqnarray}\n",
    "which is an infinite number if $\\Gamma/R \\geq 1$.  We say that the 'Finite Human Wealth Condition' (FHWC) holds if \n",
    "$0 \\leq (\\Gamma/R) \\leq 1$."
   ]
  },
  {
   "cell_type": "markdown",
   "metadata": {
    "colab_type": "text",
    "id": "BsbvZlpAyFX_"
   },
   "source": [
    "### [Absolute Patience and the AIC](http://econ.jhu.edu/people/ccarroll/papers/BufferStockTheory/#AIC)\n",
    "\n",
    "The paper defines an object which it calls the Absolute Patience Factor, equal to the ratio of $C_{t+1}/C_{t}$ for a perfect foresight consumer.  The Old English character <span style=\"font-size:larger;\">\"&#222;\"</span> is used for this object in the paper, but <span style=\"font-size:larger;\">\"&#222;\"</span> cannot currently be rendered conveniently in Jupyter notebooks, so we will substitute $\\Phi$ here:\n",
    "\n",
    "\\begin{equation}\n",
    "\\Phi = (R \\beta)^{1/\\rho} \n",
    "\\end{equation}\n",
    "\n",
    "If $\\Phi = 1$, a perfect foresight consumer will spend exactly the amount that can be sustained perpetually (given their current and future resources).  If $\\Phi < 1$ (the consumer is 'absolutely impatient'; or, 'the absolute impatience condition holds'), the consumer is consuming more than the sustainable amount, so consumption will fall, and if the consumer is 'absolutely patient' with $\\Phi > 1$ consumption will grow over time.\n",
    "\n"
   ]
  },
  {
   "cell_type": "markdown",
   "metadata": {
    "colab_type": "text",
    "id": "bnWePWu9yFYA"
   },
   "source": [
    "### [Growth Patience and the GIC](http://econ.jhu.edu/people/ccarroll/papers/BufferStockTheory/#GIC)\n",
    "\n",
    "For a [perfect foresight consumer](http://econ.jhu.edu/people/ccarroll/public/lecturenotes/consumption/PerfForesightCRRA), whether the ratio of consumption to the permanent component of income $P$ is rising, constant, or falling depends on the relative growth rates of consumption and permanent income, which is measured by the \"Perfect Foresight Growth Patience Factor\":\n",
    "\n",
    "\\begin{eqnarray}\n",
    "\\Phi_{\\Gamma} & = & \\Phi/\\Gamma\n",
    "\\end{eqnarray}\n",
    "and whether the ratio is falling or rising over time depends on whether $\\Phi_{\\Gamma}$ is below or above 1.\n",
    "\n",
    "An analogous condition can be defined when there is uncertainty about permanent income.  Defining $\\tilde{\\Gamma} = (\\mathbb{E}[\\psi^{-1}])^{-1}\\Gamma$, the 'Growth Impatience Condition' (GIC) is that \n",
    "\\begin{eqnarray}\n",
    "  \\Phi/\\tilde{\\Gamma} & < & 1\n",
    "\\end{eqnarray}"
   ]
  },
  {
   "cell_type": "markdown",
   "metadata": {
    "colab_type": "text",
    "id": "c8foPmEHyFYB",
    "lines_to_next_cell": 2
   },
   "source": [
    "### [The Finite Value of Autarky Condition (FVAC)](http://econ.jhu.edu/people/ccarroll/papers/BufferStockTheory/#Autarky-Value)"
   ]
  },
  {
   "cell_type": "markdown",
   "metadata": {
    "colab_type": "text",
    "id": "2AR_wYFfyFYB"
   },
   "source": [
    "The paper [shows](http://econ.jhu.edu/people/ccarroll/papers/BufferStockTheory/#Autarky-Value) that a consumer who planned to spend his permanent income $\\{ p_{t}, p_{t+1}, ...\\} $ in every period would have value defined by\n",
    "\n",
    "\\begin{equation}\n",
    "v_{t}^{\\text{autarky}} = u(p_{t})\\left(\\frac{1}{1-\\beta \\Gamma^{1-\\rho} \\mathbb{E}[\\psi^{1-\\rho}]}\\right)\n",
    "\\end{equation}\n",
    "\n",
    "and defines the 'Finite Value of Autarky Condition' as the requirement that the denominator of this expression be a positive finite number:\n",
    "\n",
    "\\begin{equation}\n",
    "\\beta \\Gamma^{1-\\rho} \\mathbb{E}[\\psi^{1-\\rho}] < 1\n",
    "\\end{equation}"
   ]
  },
  {
   "cell_type": "markdown",
   "metadata": {
    "colab_type": "text",
    "id": "XeQxVY9lyFYC"
   },
   "source": [
    "### [The Weak Return Impatience Condition (WRIC)](http://www.econ2.jhu.edu/people/ccarroll/papers/BufferStockTheory/#WRIC)\n",
    "\n",
    "The 'Return Impatience Condition' $\\Phi/R < 1$ has long been understood to be required for the perfect foresight model to have a nondegenerate solution (when $\\rho=1$, this reduces to $\\beta < R$).  If the RIC does not hold, the consumer is so patient that the optimal consumption function approaches zero as the horizon extends.\n",
    "\n",
    "When the probability of unemployment is $\\wp$, the paper articulates an analogous (but weaker) condition:\n",
    "\n",
    "\\begin{eqnarray}\n",
    " \\wp^{1/\\rho} \\Phi/R & < & 1\n",
    "\\end{eqnarray}"
   ]
  },
  {
   "cell_type": "markdown",
   "metadata": {
    "colab_type": "text",
    "id": "Y74Ds5EmyFYE"
   },
   "source": [
    "# Key Results\n",
    "\n",
    "## [Nondegenerate Solution Requires FVAC and WRIC](http://econ.jhu.edu/people/ccarroll/papers/BufferStockTheory/#Sufficient-Conditions-For-Nondegenerate-Solution)\n",
    "\n",
    "A main result of the paper is that the conditions required for the model to have a nondegenerate solution ($0 < c(m) < \\infty$ for feasible $m$) are that the Finite Value of Autarky (FVAC) and Weak Return Impatience Condition (WRAC) hold."
   ]
  },
  {
   "cell_type": "markdown",
   "metadata": {
    "colab_type": "text",
    "id": "KvJQVstyyFYF"
   },
   "source": [
    "## [Natural Borrowing Constraint limits to Artificial Borrowing Constraint](http://www.econ2.jhu.edu/people/ccarroll/papers/BufferStockTheory/#The-Liquidity-Constrained-Solution-as-a-Limit)"
   ]
  },
  {
   "cell_type": "markdown",
   "metadata": {
    "colab_type": "text",
    "id": "bE7CaV2WyFYG"
   },
   "source": [
    "Defining $\\chi(\\wp)$ as the consumption function associated with any particular value of $\\wp$, and defining $\\hat{\\chi}$ as the consumption function that would apply in the absence of the zero-income shocks but in the presence of an 'artificial' borrowing constraint requiring $a \\geq 0$, a la Deaton (1991), the paper shows that \n",
    "\n",
    "\\begin{eqnarray}\n",
    "\\lim_{\\wp \\downarrow 0}~\\chi(\\wp) & = & \\hat{\\chi}\n",
    "\\end{eqnarray}\n",
    "\n",
    "That is, as $\\wp$ approaches zero the problem with uncertainty becomes identical to the problem that instead has constraints.  (See [Precautionary Saving and Liquidity Constraints](http://econ.jhu.edu/people/ccarroll/papers/LiqConstr) for a full treatment of the relationship between precautionary saving and liquidity constraints)."
   ]
  },
  {
   "cell_type": "markdown",
   "metadata": {
    "colab_type": "text",
    "id": "gxF0phJxyFYH"
   },
   "source": [
    "## [$c(m)$ is Finite Even When Human Wealth Is Infinite](http://econ.jhu.edu/people/ccarroll/papers/BufferStockTheory/#When-The-GIC-Fails)\n",
    "\n",
    "In the perfect foresight model, if $R < \\Gamma$ the present discounted value of future labor income is infinite and so the limiting consumption function is $c(m) = \\infty$ for all $m$.  Many models have no well-defined solution in this case.\n",
    "\n",
    "The presence of uncertainty changes this: The limiting consumption function is finite for all values of $m$.  \n",
    "\n",
    "This is because uncertainty imposes a \"natural borrowing constraint\" that deters the consumer from borrowing against their unbounded future labor income."
   ]
  },
  {
   "cell_type": "markdown",
   "metadata": {
    "colab_type": "text",
    "id": "tnHbGpjayFYI"
   },
   "source": [
    "A [table](http://econ.jhu.edu/people/ccarroll/papers/BufferStockTheory/#Sufficient-Conditions-For-Nondegenerate-Solution) puts this result in the context of implications of other conditions and restrictions.\n",
    "\n"
   ]
  },
  {
   "cell_type": "markdown",
   "metadata": {
    "colab_type": "text",
    "id": "EWF6KgB-yFYJ"
   },
   "source": [
    "## [If the GIC Holds, $\\exists$ a finite 'target' $m$](http://econ.jhu.edu/people/ccarroll/papers/BufferStockTheory/#onetarget)\n",
    "\n",
    "Section [There Is Exactly One Target $m$ Ratio, Which Is Stable](http://econ.jhu.edu/people/ccarroll/papers/BufferStockTheory/#onetarget) shows that, under parameter values for which the limiting consumption function exists, if the GIC holds then there will be a value $\\check{m}$ such that:\n",
    "\n",
    "\\begin{eqnarray}\n",
    "\\mathbb{E}[m_{t+1}] & > & m_{t}~\\text{if $m_{t} < \\check{m}$} \\\\\n",
    "\\mathbb{E}[m_{t+1}] & < & m_{t}~\\text{if $m_{t} > \\check{m}$} \\\\\n",
    "\\mathbb{E}[m_{t+1}] & = & m_{t}~\\text{if $m_{t} = \\check{m}$}\n",
    "\\end{eqnarray} "
   ]
  },
  {
   "cell_type": "markdown",
   "metadata": {
    "colab_type": "text",
    "id": "ii-xl7TgyFYK"
   },
   "source": [
    "## [If the GIC Fails, Target Wealth is Infinite ](http://econ.jhu.edu/people/ccarroll/papers/BufferStockTheory/#The-GIC)\n",
    "\n",
    "[A figure](http://econ.jhu.edu/people/ccarroll/papers/BufferStockTheory/#FVACnotGIC) depicts a solution when the **FVAC** (Finite Value of Autarky Condition) and **WRIC** hold (so that the model has a solution) but the **GIC** (Growth Impatience Condition) fails.  In this case the target wealth ratio is infinity.  \n",
    "\n",
    "The parameter values in this specific example are:\n",
    "\n",
    "| Param | Description | Code | Value |\n",
    "| :---: | ---         | ---  | :---: |\n",
    "| $\\Gamma$ | Permanent Income Growth Factor | $\\texttt{PermGroFac}$ | 1.00 |\n",
    "| $\\mathrm{\\mathsf{R}}$ | Interest Factor | $\\texttt{Rfree}$ | 1.08 |\n",
    "\n",
    "The figure is reproduced below."
   ]
  },
  {
   "cell_type": "code",
   "execution_count": 10,
   "metadata": {
    "code_folding": [
     0
    ],
    "colab": {
     "base_uri": "https://localhost:8080/",
     "height": 71
    },
    "colab_type": "code",
    "id": "v-yDKgniyFYL",
    "lines_to_next_cell": 2,
    "outputId": "1f9bb32c-31df-4825-ceb8-5e84fc1917af"
   },
   "outputs": [
    {
     "name": "stdout",
     "output_type": "stream",
     "text": [
      "The given type violates the absolute impatience condition with the supplied parameter values; the AIF is 1.01823 \n",
      "The given parameter values violate the growth impatience condition for this consumer type; the GIF is: 1.0088\n"
     ]
    }
   ],
   "source": [
    "# Construct the \"GIC fails\" example.\n",
    "GIC_fail_dictionary = dict(base_params)\n",
    "GIC_fail_dictionary['Rfree']      = 1.08\n",
    "GIC_fail_dictionary['PermGroFac'] = [1.00]\n",
    "\n",
    "GICFailExample = IndShockConsumerType(\n",
    "    cycles=0, # cycles=0 makes this an infinite horizon consumer\n",
    "    **GIC_fail_dictionary)"
   ]
  },
  {
   "cell_type": "markdown",
   "metadata": {
    "colab_type": "text",
    "id": "Y1B_Oi1qyFYQ"
   },
   "source": [
    "The $\\mathtt{IndShockConsumerType}$ tool automatically checks various parametric conditions, and will give a warning as well as the values of the factors if any conditions fail to be met. \n",
    "\n",
    "We can also directly check the conditions, in which case results will be a little more verbose by default."
   ]
  },
  {
   "cell_type": "code",
   "execution_count": 11,
   "metadata": {
    "code_folding": [
     0
    ],
    "colab": {
     "base_uri": "https://localhost:8080/",
     "height": 173
    },
    "colab_type": "code",
    "id": "lRlgUAUxyFYS",
    "outputId": "2d16fca2-4fc2-4491-f26b-011404a76bc6",
    "scrolled": false
   },
   "outputs": [
    {
     "name": "stdout",
     "output_type": "stream",
     "text": [
      "The given type violates the absolute impatience condition with the supplied parameter values; the AIF is 1.01823 \n",
      "    Therefore, the absolute amount of consumption is expected to grow over time\n",
      "The given parameter values violate the growth impatience condition for this consumer type; the GIF is: 1.0088\n",
      "    Therefore, a target level of wealth does not exist.\n",
      "The weak return impatience factor value for the supplied parameter values satisfies the weak return impatience condition.\n",
      "The finite value of autarky factor value for the supplied parameter values satisfies the finite value of autarky condition.\n",
      "\n",
      "[!] For more information on the conditions, see Table 3 in \"Theoretical Foundations of Buffer Stock Saving\" at http://econ.jhu.edu/people/ccarroll/papers/BufferStockTheory/\n"
     ]
    }
   ],
   "source": [
    "# The checkConditions method does what it sounds like it would\n",
    "GICFailExample.checkConditions(verbose=True)"
   ]
  },
  {
   "cell_type": "markdown",
   "metadata": {
    "colab_type": "text",
    "id": "v-y7OkzYyFYX"
   },
   "source": [
    "Next we define the function $\\mathrm{\\mathbb{E}}_{t}[\\Delta m_{t+1}]$ that shows the ‘sustainable’ level of spending at which $m$ is expected to remain unchanged."
   ]
  },
  {
   "cell_type": "code",
   "execution_count": 0,
   "metadata": {
    "code_folding": [
     0
    ],
    "colab": {},
    "colab_type": "code",
    "id": "tSBpBeQ0yFYY",
    "lines_to_next_cell": 2
   },
   "outputs": [],
   "source": [
    "# Calculate \"Sustainable\" consumption that leaves expected m unchanged\n",
    "# In the perfect foresight case, this is just permanent income plus interest income\n",
    "# A small adjustment is required to take account of the consequences of uncertainty\n",
    "InvEpShInvAct = np.dot(GICFailExample.PermShkDstn[0][0], GICFailExample.PermShkDstn[0][1]**(-1))\n",
    "InvInvEpShInvAct = (InvEpShInvAct) ** (-1)\n",
    "PermGroFacAct = GICFailExample.PermGroFac[0] * InvInvEpShInvAct\n",
    "ER = GICFailExample.Rfree / PermGroFacAct\n",
    "Er = ER - 1\n",
    "mSSfunc = lambda m : 1 + (m-1)*(Er/ER)"
   ]
  },
  {
   "cell_type": "code",
   "execution_count": 13,
   "metadata": {
    "code_folding": [
     0
    ],
    "colab": {
     "base_uri": "https://localhost:8080/",
     "height": 499
    },
    "colab_type": "code",
    "id": "QVlcgWuMyFYb",
    "outputId": "3276f705-1b93-4ad7-ddbe-81c2ed21a9d8"
   },
   "outputs": [
    {
     "data": {
      "image/png": "[encoded data removed]",
      "text/plain": [
       "<Figure size 864x576 with 1 Axes>"
      ]
     },
     "metadata": {
      "tags": []
     },
     "output_type": "display_data"
    }
   ],
   "source": [
    "# Plot GICFailExample consumption function against the sustainable level of consumption\n",
    "GICFailExample.solve() # Above, we set up the problem but did not solve it \n",
    "GICFailExample.unpackcFunc()  # Make the consumption function easily accessible for plotting\n",
    "m = np.linspace(0,5,1000)\n",
    "c_m = GICFailExample.cFunc[0](m)\n",
    "E_m = mSSfunc(m)\n",
    "plt.figure(figsize = (12,8))\n",
    "plt.plot(m,c_m,color=\"black\")\n",
    "plt.plot(m,E_m,color=\"black\")\n",
    "plt.xlim(0,5.5)\n",
    "plt.ylim(0,1.6)\n",
    "plt.text(0,1.63,\"$c$\",fontsize = 26)\n",
    "plt.text(5.55,0,\"$m$\",fontsize = 26)\n",
    "plt.tick_params(labelbottom=False, labelleft=False,left='off',right='off',bottom='off',top='off')\n",
    "plt.text(1,0.6,\"$c(m_{t})$\",fontsize = 18)\n",
    "plt.text(1.5,1.2,\"$\\mathrm{\\mathsf{E}}_{t}[\\Delta m_{t+1}] = 0$\",fontsize = 18)\n",
    "plt.arrow(0.98,0.62,-0.2,0,head_width= 0.02,width=0.001,facecolor='black',length_includes_head='True')\n",
    "plt.arrow(2.2,1.2,0.3,-0.05,head_width= 0.02,width=0.001,facecolor='black',length_includes_head='True')\n",
    "if Generator:\n",
    "    plt.savefig(os.path.join(Figures_HARK_dir, 'FVACnotGIC.png'))\n",
    "    plt.savefig(os.path.join(Figures_HARK_dir, 'FVACnotGIC.jpg'))\n",
    "    plt.savefig(os.path.join(Figures_HARK_dir, 'FVACnotGIC.pdf'))\n",
    "    plt.savefig(os.path.join(Figures_HARK_dir, 'FVACnotGIC.svg'))\n",
    "\n",
    "# This figure reproduces the figure shown in the paper.  \n",
    "# The gap between the two functions actually increases with $m$ in the limit.\n",
    "if not in_ipynb:\n",
    "    plt.show(block=False) \n",
    "else:\n",
    "    plt.show(block=True) # Change to False if you want to run uninterrupted"
   ]
  },
  {
   "cell_type": "markdown",
   "metadata": {
    "colab_type": "text",
    "id": "FOlbnIJ1yFYh"
   },
   "source": [
    "As a foundation for the remaining figures, we define another instance of the class $\\texttt{IndShockConsumerType}$, which has the same parameter values as the instance $\\texttt{baseEx}$ defined previously but is solved to convergence (our definition of an infinite horizon agent type)\n"
   ]
  },
  {
   "cell_type": "code",
   "execution_count": 0,
   "metadata": {
    "code_folding": [
     0
    ],
    "colab": {},
    "colab_type": "code",
    "id": "ZpQpuU0YyFYi"
   },
   "outputs": [],
   "source": [
    "# cycles=0 tells the solver to find the infinite horizon solution\n",
    "baseEx_inf = IndShockConsumerType(cycles=0,**base_params)\n",
    "\n",
    "baseEx_inf.solve()\n",
    "baseEx_inf.unpackcFunc()"
   ]
  },
  {
   "cell_type": "markdown",
   "metadata": {
    "colab_type": "text",
    "id": "OWQtUMwZyFYn"
   },
   "source": [
    "### [Target $m$, Expected Consumption Growth, and Permanent Income Growth](https://econ.jhu.edu/people/ccarroll/papers/BufferStockTheory/#AnalysisoftheConvergedConsumptionFunction)\n",
    "\n",
    "The next figure is shown in  [Analysis of the Converged Consumption Function](https://econ.jhu.edu/people/ccarroll/papers/BufferStockTheory/#cGroTargetFig), which shows the expected consumption growth factor $\\mathrm{\\mathbb{E}}_{t}[c_{t+1}/c_{t}]$ for a consumer behaving according to the converged consumption rule.\n"
   ]
  },
  {
   "cell_type": "code",
   "execution_count": 0,
   "metadata": {
    "code_folding": [
     0
    ],
    "colab": {},
    "colab_type": "code",
    "id": "m9HIijK_yFYq",
    "lines_to_next_cell": 2
   },
   "outputs": [],
   "source": [
    "# Define a function to calculate expected consumption \n",
    "def exp_consumption(a):\n",
    "    '''\n",
    "    Taking end-of-period assets as input, return expectation of next period's consumption\n",
    "    Inputs:\n",
    "       a: end-of-period assets\n",
    "    Returns:\n",
    "       expconsump: next period's expected consumption\n",
    "    '''\n",
    "    GrowFactp1 = baseEx_inf.PermGroFac[0]* baseEx_inf.PermShkDstn[0][1]\n",
    "    Rnrmtp1 = baseEx_inf.Rfree / GrowFactp1\n",
    "    # end-of-period assets plus normalized returns\n",
    "    btp1 = Rnrmtp1*a\n",
    "    # expand dims of btp1 and use broadcasted sum of a column and a row vector\n",
    "    # to obtain a matrix of possible beginning-of-period assets next period\n",
    "    mtp1 = np.expand_dims(btp1, axis=1) + baseEx_inf.TranShkDstn[0][1]\n",
    "    part_expconsumption = GrowFactp1*baseEx_inf.cFunc[0](mtp1).T\n",
    "    # finish expectation over permanent income shocks by right multiplying with\n",
    "    # the weights\n",
    "    part_expconsumption = np.dot(part_expconsumption, baseEx_inf.PermShkDstn[0][0])\n",
    "    # finish expectation over transitory income shocks by right multiplying with\n",
    "    # weights\n",
    "    expconsumption = np.dot(part_expconsumption, baseEx_inf.TranShkDstn[0][0])\n",
    "    # return expected consumption\n",
    "    return expconsumption"
   ]
  },
  {
   "cell_type": "code",
   "execution_count": 0,
   "metadata": {
    "code_folding": [
     0
    ],
    "colab": {},
    "colab_type": "code",
    "id": "Nm0-ZGYFyFYt",
    "lines_to_next_cell": 2
   },
   "outputs": [],
   "source": [
    "# Calculate the expected consumption growth factor\n",
    "m1 = np.linspace(1,baseEx_inf.solution[0].mNrmSS,50) # m1 defines the plot range on the left of target m value (e.g. m <= target m)\n",
    "c_m1 = baseEx_inf.cFunc[0](m1)\n",
    "a1 = m1-c_m1\n",
    "exp_consumption_l1 = []\n",
    "for i in range(len(a1)):\n",
    "    exp_consumption_tp1 = exp_consumption(a1[i])\n",
    "    exp_consumption_l1.append(exp_consumption_tp1)\n",
    "\n",
    "# growth1 defines the values of expected consumption growth factor when m is less than target m\n",
    "growth1 = np.array(exp_consumption_l1)/c_m1\n",
    "\n",
    "# m2 defines the plot range on the right of target m value (e.g. m >= target m)\n",
    "m2 = np.linspace(baseEx_inf.solution[0].mNrmSS,1.9,50)\n",
    "\n",
    "c_m2 = baseEx_inf.cFunc[0](m2)\n",
    "a2 = m2-c_m2\n",
    "exp_consumption_l2 = []\n",
    "for i in range(len(a2)):\n",
    "    exp_consumption_tp1 = exp_consumption(a2[i])\n",
    "    exp_consumption_l2.append(exp_consumption_tp1)\n",
    "\n",
    "# growth 2 defines the values of expected consumption growth factor when m is bigger than target m\n",
    "growth2 = np.array(exp_consumption_l2)/c_m2"
   ]
  },
  {
   "cell_type": "code",
   "execution_count": 0,
   "metadata": {
    "code_folding": [
     0
    ],
    "colab": {},
    "colab_type": "code",
    "id": "r6DYiMr0yFYv",
    "lines_to_next_cell": 2
   },
   "outputs": [],
   "source": [
    "# Define a function to construct the arrows on the consumption growth rate function\n",
    "def arrowplot(axes, x, y, narrs=15, dspace=0.5, direc='neg',\n",
    "              hl=0.01, hw=3, c='black'):\n",
    "    '''\n",
    "    The function is used to plot arrows given the data x and y.\n",
    "\n",
    "    Input:\n",
    "        narrs  :  Number of arrows that will be drawn along the curve\n",
    "\n",
    "        dspace :  Shift the position of the arrows along the curve.\n",
    "                  Should be between 0. and 1.\n",
    "\n",
    "        direc  :  can be 'pos' or 'neg' to select direction of the arrows\n",
    "\n",
    "        hl     :  length of the arrow head\n",
    "\n",
    "        hw     :  width of the arrow head\n",
    "\n",
    "        c      :  color of the edge and face of the arrow head\n",
    "    '''\n",
    "\n",
    "    # r is the distance spanned between pairs of points\n",
    "    r = np.sqrt(np.diff(x)**2+np.diff(y)**2)\n",
    "    r = np.insert(r, 0, 0.0)\n",
    "\n",
    "    # rtot is a cumulative sum of r, it's used to save time\n",
    "    rtot = np.cumsum(r)\n",
    "\n",
    "    # based on narrs set the arrow spacing\n",
    "    aspace = r.sum() / narrs\n",
    "\n",
    "    if direc is 'neg':\n",
    "        dspace = -1.*abs(dspace)\n",
    "    else:\n",
    "        dspace = abs(dspace)\n",
    "\n",
    "    arrowData = [] # will hold tuples of x,y,theta for each arrow\n",
    "    arrowPos = aspace*(dspace) # current point on walk along data\n",
    "                                 # could set arrowPos to 0 if you want\n",
    "                                 # an arrow at the beginning of the curve\n",
    "\n",
    "    ndrawn = 0\n",
    "    rcount = 1\n",
    "    while arrowPos < r.sum() and ndrawn < narrs:\n",
    "        x1,x2 = x[rcount-1],x[rcount]\n",
    "        y1,y2 = y[rcount-1],y[rcount]\n",
    "        da = arrowPos-rtot[rcount]\n",
    "        theta = np.arctan2((x2-x1),(y2-y1))\n",
    "        ax = np.sin(theta)*da+x1\n",
    "        ay = np.cos(theta)*da+y1\n",
    "        arrowData.append((ax,ay,theta))\n",
    "        ndrawn += 1\n",
    "        arrowPos+=aspace\n",
    "        while arrowPos > rtot[rcount+1]:\n",
    "            rcount+=1\n",
    "            if arrowPos > rtot[-1]:\n",
    "                break\n",
    "\n",
    "    for ax,ay,theta in arrowData:\n",
    "        # use aspace as a guide for size and length of things\n",
    "        # scaling factors were chosen by experimenting a bit\n",
    "\n",
    "        dx0 = np.sin(theta)*hl/2.0 + ax\n",
    "        dy0 = np.cos(theta)*hl/2.0 + ay\n",
    "        dx1 = -1.*np.sin(theta)*hl/2.0 + ax\n",
    "        dy1 = -1.*np.cos(theta)*hl/2.0 + ay\n",
    "\n",
    "        if direc is 'neg' :\n",
    "            ax0 = dx0\n",
    "            ay0 = dy0\n",
    "            ax1 = dx1\n",
    "            ay1 = dy1\n",
    "        else:\n",
    "            ax0 = dx1\n",
    "            ay0 = dy1\n",
    "            ax1 = dx0\n",
    "            ay1 = dy0\n",
    "\n",
    "        axes.annotate('', xy=(ax0, ay0), xycoords='data',\n",
    "                xytext=(ax1, ay1), textcoords='data',\n",
    "                arrowprops=dict( headwidth=hw, frac=1., ec=c, fc=c))"
   ]
  },
  {
   "cell_type": "code",
   "execution_count": 18,
   "metadata": {
    "code_folding": [
     0
    ],
    "colab": {
     "base_uri": "https://localhost:8080/",
     "height": 685
    },
    "colab_type": "code",
    "id": "HO2t8On5yFYx",
    "outputId": "dc60eb20-35d2-42c7-b9d0-31538598fbdc",
    "scrolled": true
   },
   "outputs": [
    {
     "data": {
      "image/png": "[encoded data removed]",
      "text/plain": [
       "<Figure size 864x576 with 1 Axes>"
      ]
     },
     "metadata": {
      "tags": []
     },
     "output_type": "display_data"
    }
   ],
   "source": [
    "# Plot consumption growth as a function of market resources\n",
    "# Calculate Absolute Patience Factor Phi = lower bound of consumption growth factor\n",
    "AbsPatientFac = (baseEx_inf.Rfree*baseEx_inf.DiscFac)**(1.0/baseEx_inf.CRRA)\n",
    "\n",
    "fig = plt.figure(figsize = (12,8))\n",
    "ax = fig.add_subplot(111)\n",
    "# Plot the Absolute Patience Factor line\n",
    "ax.plot([0,1.9],[AbsPatientFac,AbsPatientFac],color=\"black\")\n",
    "\n",
    "# Plot the Permanent Income Growth Factor line\n",
    "ax.plot([0,1.9],[baseEx_inf.PermGroFac[0],baseEx_inf.PermGroFac[0]],color=\"black\")\n",
    "\n",
    "# Plot the expected consumption growth factor on the left side of target m\n",
    "ax.plot(m1,growth1,color=\"black\")\n",
    "\n",
    "# Plot the expected consumption growth factor on the right side of target m\n",
    "ax.plot(m2,growth2,color=\"black\")\n",
    "\n",
    "# Plot the arrows\n",
    "arrowplot(ax, m1,growth1)\n",
    "arrowplot(ax, m2,growth2, direc='pos')\n",
    "\n",
    "# Plot the target m\n",
    "ax.plot([baseEx_inf.solution[0].mNrmSS,baseEx_inf.solution[0].mNrmSS],[0,1.4],color=\"black\",linestyle=\"--\")\n",
    "ax.set_xlim(1,2.05)\n",
    "ax.set_ylim(0.98,1.08)\n",
    "ax.text(1,1.082,\"Growth Rate\",fontsize = 26,fontweight='bold')\n",
    "ax.text(2.055,0.98,\"$m_{t}$\",fontsize = 26,fontweight='bold')\n",
    "ax.text(1.9,1.01,\"$\\mathrm{\\mathsf{E}}_{t}[c_{t+1}/c_{t}]$\",fontsize = 22,fontweight='bold')\n",
    "ax.text(baseEx_inf.solution[0].mNrmSS,0.975, r'$\\check{m}$', fontsize = 26,fontweight='bold')\n",
    "ax.tick_params(labelbottom=False, labelleft=False,left='off',right='off',bottom='off',top='off')\n",
    "ax.text(1.9,0.998,r'$\\Phi = (\\mathrm{\\mathsf{R}}\\beta)^{1/\\rho}$',fontsize = 22,fontweight='bold')\n",
    "ax.text(1.9,1.03, r'$\\Gamma$',fontsize = 22,fontweight='bold')\n",
    "if Generator:\n",
    "    fig.savefig(os.path.join(Figures_HARK_dir, 'cGroTargetFig.png'))\n",
    "    fig.savefig(os.path.join(Figures_HARK_dir, 'cGroTargetFig.jpg'))\n",
    "    fig.savefig(os.path.join(Figures_HARK_dir, 'cGroTargetFig.pdf'))\n",
    "    fig.savefig(os.path.join(Figures_HARK_dir, 'cGroTargetFig.svg'))\n",
    "if not in_ipynb:\n",
    "    plt.show(block=False) \n",
    "else:\n",
    "    plt.show(block=True) # Change to False if you want to run uninterrupted"
   ]
  },
  {
   "cell_type": "markdown",
   "metadata": {
    "code_folding": [],
    "colab_type": "text",
    "id": "Kl-Q6SyHyFY1"
   },
   "source": [
    "### [Consumption Function Bounds](https://econ.jhu.edu/people/ccarroll/papers/BufferStockTheory/#AnalysisOfTheConvergedConsumptionFunction)\n",
    "[The next figure](https://econ.jhu.edu/people/ccarroll/papers/BufferStockTheory/#cFuncBounds)\n",
    "illustrates theoretical bounds for the consumption function.\n",
    "\n",
    "We define two useful variables: lower bound of $\\kappa$ (the marginal propensity to consume) and limit of $h$ (Human wealth), along with some functions such as limiting perfect foresight consumption functions ($\\bar{c}(m)$), $\\bar{\\bar c}(m)$ and $\\underline{c}(m)$."
   ]
  },
  {
   "cell_type": "code",
   "execution_count": 0,
   "metadata": {
    "code_folding": [
     0
    ],
    "colab": {},
    "colab_type": "code",
    "id": "ydei4DmIyFY2",
    "lines_to_next_cell": 2
   },
   "outputs": [],
   "source": [
    "# Define k_lower, h_inf and perfect foresight consumption function, upper bound of consumption function and lower\n",
    "# bound of consumption function.\n",
    "k_lower = 1.0-(baseEx_inf.Rfree**(-1.0))*(baseEx_inf.Rfree*baseEx_inf.DiscFac)**(1.0/baseEx_inf.CRRA)\n",
    "h_inf = (1.0/(1.0-baseEx_inf.PermGroFac[0]/baseEx_inf.Rfree))\n",
    "conFunc_PF = lambda m: (h_inf -1)* k_lower + k_lower*m\n",
    "conFunc_upper = lambda m: (1 - baseEx_inf.UnempPrb ** (1.0/baseEx_inf.CRRA)*(baseEx_inf.Rfree*baseEx_inf.DiscFac)**(1.0/baseEx_inf.CRRA)/baseEx_inf.Rfree)*m\n",
    "conFunc_lower = lambda m: (1 -(baseEx_inf.Rfree*baseEx_inf.DiscFac)**(1.0/baseEx_inf.CRRA)/baseEx_inf.Rfree) * m\n",
    "intersect_m = ((h_inf-1)* k_lower)/((1 - baseEx_inf.UnempPrb\n",
    "            **(1.0/baseEx_inf.CRRA)*(baseEx_inf.Rfree*baseEx_inf.DiscFac)**(1.0/baseEx_inf.CRRA)/baseEx_inf.Rfree)-k_lower)"
   ]
  },
  {
   "cell_type": "code",
   "execution_count": 20,
   "metadata": {
    "code_folding": [
     0
    ],
    "colab": {
     "base_uri": "https://localhost:8080/",
     "height": 492
    },
    "colab_type": "code",
    "id": "F4yf8CPZyFY6",
    "outputId": "32ba88f1-800b-49f9-c8e4-a0904901ab4e"
   },
   "outputs": [
    {
     "data": {
      "image/png": "[encoded data removed]",
      "text/plain": [
       "<Figure size 864x576 with 1 Axes>"
      ]
     },
     "metadata": {
      "tags": []
     },
     "output_type": "display_data"
    }
   ],
   "source": [
    "# Plot the consumption function and its bounds\n",
    "x1 = np.linspace(0,25,1000)\n",
    "x3 = np.linspace(0,intersect_m,300)\n",
    "x4 = np.linspace(intersect_m,25,700)\n",
    "cfunc_m = baseEx_inf.cFunc[0](x1)\n",
    "cfunc_PF_1 = conFunc_PF(x3)\n",
    "cfunc_PF_2 = conFunc_PF(x4)\n",
    "cfunc_upper_1 = conFunc_upper(x3)\n",
    "cfunc_upper_2 = conFunc_upper(x4)\n",
    "cfunc_lower = conFunc_lower(x1)\n",
    "plt.figure(figsize = (12,8))\n",
    "plt.plot(x1,cfunc_m, color=\"black\")\n",
    "plt.plot(x1,cfunc_lower, color=\"black\",linewidth=2.5)\n",
    "plt.plot(x3,cfunc_upper_1, color=\"black\",linewidth=2.5)\n",
    "plt.plot(x4,cfunc_PF_2 , color=\"black\",linewidth=2.5)\n",
    "plt.plot(x4,cfunc_upper_2 , color=\"black\",linestyle=\"--\")\n",
    "plt.plot(x3,cfunc_PF_1 , color=\"black\",linestyle=\"--\")\n",
    "plt.tick_params(labelbottom=False, labelleft=False,left='off',right='off',bottom='off',top='off')\n",
    "plt.xlim(0,25)\n",
    "plt.ylim(0,1.12*conFunc_PF(25))\n",
    "plt.text(0,1.12*conFunc_PF(25)+0.05,\"$c$\",fontsize = 22)\n",
    "plt.text(25+0.1,0,\"$m$\",fontsize = 22)\n",
    "plt.text(2.5,1,r'$c(m)$',fontsize = 22,fontweight='bold')\n",
    "plt.text(6,5,r'$\\overline{\\overline{c}}(m)= \\overline{\\kappa}m = (1-\\wp^{1/\\rho}\\Phi_{R})m$',fontsize = 22,fontweight='bold')\n",
    "plt.text(2.2,3.8, r'$\\overline{c}(m) = (m-1+h)\\underline{\\kappa}$',fontsize = 22,fontweight='bold')\n",
    "plt.text(9,4.1,r'Upper Bound $ = $ Min $[\\overline{\\overline{c}}(m),\\overline{c}(m)]$',fontsize = 22,fontweight='bold')\n",
    "plt.text(7,0.7,r'$\\underline{c}(m)= (1-\\Phi_{R})m = \\underline{\\kappa}m$',fontsize = 22,fontweight='bold')\n",
    "plt.arrow(2.45,1.05,-0.5,0.02,head_width= 0.05,width=0.001,facecolor='black',length_includes_head='True')\n",
    "plt.arrow(2.15,3.88,-0.5,0.1,head_width= 0.05,width=0.001,facecolor='black',length_includes_head='True')\n",
    "plt.arrow(8.95,4.15,-0.8,0.05,head_width= 0.05,width=0.001,facecolor='black',length_includes_head='True')\n",
    "plt.arrow(5.95,5.05,-0.4,0,head_width= 0.05,width=0.001,facecolor='black',length_includes_head='True')\n",
    "plt.arrow(14,0.70,0.5,-0.1,head_width= 0.05,width=0.001,facecolor='black',length_includes_head='True')\n",
    "if Generator:\n",
    "    plt.savefig(os.path.join(Figures_HARK_dir, 'cFuncBounds.png'))\n",
    "    plt.savefig(os.path.join(Figures_HARK_dir, 'cFuncBounds.jpg'))\n",
    "    plt.savefig(os.path.join(Figures_HARK_dir, 'cFuncBounds.pdf'))\n",
    "    plt.savefig(os.path.join(Figures_HARK_dir, 'cFuncBounds.svg'))\n",
    "if not in_ipynb:\n",
    "    plt.show(block=False) \n",
    "else:\n",
    "    plt.show(block=True) # Change to False if you want to run uninterrupted"
   ]
  },
  {
   "cell_type": "markdown",
   "metadata": {
    "colab_type": "text",
    "id": "EVqBPYkMyFY9"
   },
   "source": [
    "### [The Consumption Function and Target $m$](https://econ.jhu.edu/people/ccarroll/papers/BufferStockTheory/#cFuncBounds)\n",
    "\n",
    "This figure shows the $\\mathrm{\\mathbb{E}}_{t}[\\Delta m_{t+1}]$ and consumption function $c(m_{t})$, along with the intrsection of these two functions, which defines the target value of $m$"
   ]
  },
  {
   "cell_type": "code",
   "execution_count": 21,
   "metadata": {
    "code_folding": [
     0
    ],
    "colab": {
     "base_uri": "https://localhost:8080/",
     "height": 512
    },
    "colab_type": "code",
    "id": "dgv6G4XvyFY9",
    "outputId": "b1e1069b-9ffb-48ca-9744-5c2f357a2274",
    "scrolled": true
   },
   "outputs": [
    {
     "data": {
      "image/png": "[encoded data removed]",
      "text/plain": [
       "<Figure size 864x576 with 1 Axes>"
      ]
     },
     "metadata": {
      "tags": []
     },
     "output_type": "display_data"
    }
   ],
   "source": [
    "# This just plots objects that have already been constructed\n",
    "\n",
    "m1 = np.linspace(0,4,1000)\n",
    "cfunc_m = baseEx_inf.cFunc[0](m1)\n",
    "mSSfunc = lambda m:(baseEx_inf.PermGroFac[0]/baseEx_inf.Rfree)+(1.0-baseEx_inf.PermGroFac[0]/baseEx_inf.Rfree)*m\n",
    "mss = mSSfunc(m1)\n",
    "plt.figure(figsize = (12,8))\n",
    "plt.plot(m1,cfunc_m, color=\"black\")\n",
    "plt.plot(m1,mss, color=\"black\")\n",
    "plt.xlim(0,3)\n",
    "plt.ylim(0,1.45)\n",
    "plt.plot([baseEx_inf.solution[0].mNrmSS, baseEx_inf.solution[0].mNrmSS],[0,2.5],color=\"black\",linestyle=\"--\")\n",
    "plt.tick_params(labelbottom=False, labelleft=False,left='off',right='off',bottom='off',top='off')\n",
    "plt.text(0,1.47,r\"$c$\",fontsize = 26)\n",
    "plt.text(3.02,0,r\"$m$\",fontsize = 26)\n",
    "plt.text(2.3,0.95,r'$\\mathrm{\\mathsf{E}}[\\Delta m_{t+1}] = 0$',fontsize = 22,fontweight='bold')\n",
    "plt.text(2.3,1.1,r\"$c(m_{t})$\",fontsize = 22,fontweight='bold')\n",
    "plt.text(baseEx_inf.solution[0].mNrmSS,-0.05, r\"$\\check{m}$\",fontsize = 26)\n",
    "plt.arrow(2.28,1.12,-0.1,0.03,head_width= 0.02,width=0.001,facecolor='black',length_includes_head='True')\n",
    "plt.arrow(2.28,0.97,-0.1,0.02,head_width= 0.02,width=0.001,facecolor='black',length_includes_head='True')\n",
    "if Generator:\n",
    "    plt.savefig(os.path.join(Figures_HARK_dir, 'cRatTargetFig.png'))\n",
    "    plt.savefig(os.path.join(Figures_HARK_dir, 'cRatTargetFig.jpg'))\n",
    "    plt.savefig(os.path.join(Figures_HARK_dir, 'cRatTargetFig.pdf'))\n",
    "    plt.savefig(os.path.join(Figures_HARK_dir, 'cRatTargetFig.svg'))"
   ]
  },
  {
   "cell_type": "markdown",
   "metadata": {
    "colab_type": "text",
    "id": "4qR_GTe9yFZA"
   },
   "source": [
    "### [Upper and Lower Limits of the Marginal Propensity to Consume](https://econ.jhu.edu/people/ccarroll/papers/BufferStockTheory/#MPCLimits)\n",
    "\n",
    "The paper shows that as $m_{t}~\\uparrow~\\infty$ the consumption function in the presence of risk gets arbitrarily close to the perfect foresight consumption function.  Defining $\\underline{\\kappa}$ as the perfect foresight model's MPC, this implies that $\\lim_{m_{t}~\\uparrow~\\infty} c^{\\prime}(m) = \\underline{\\kappa}$.  \n",
    "\n",
    "The paper also derives an analytical limit $\\bar{\\kappa}$ for the MPC as $m$ approaches 0., its bounding value.  Strict concavity of the consumption function implies that the consumption function will be everywhere below a function $\\bar{\\kappa}m$, and strictly declining everywhere.  The last figure plots the MPC between these two limits."
   ]
  },
  {
   "cell_type": "code",
   "execution_count": 22,
   "metadata": {
    "code_folding": [
     0
    ],
    "colab": {
     "base_uri": "https://localhost:8080/",
     "height": 485
    },
    "colab_type": "code",
    "id": "M9939zM-yFZB",
    "outputId": "4b120efc-a68a-46be-a8e9-d0a67079e1f3",
    "scrolled": true
   },
   "outputs": [
    {
     "data": {
      "image/png": "[encoded data removed]",
      "text/plain": [
       "<Figure size 864x576 with 1 Axes>"
      ]
     },
     "metadata": {
      "tags": []
     },
     "output_type": "display_data"
    }
   ],
   "source": [
    "# The last figure shows the upper and lower limits of the MPC\n",
    "plt.figure(figsize = (12,8))\n",
    "# Set the plot range of m\n",
    "m = np.linspace(0.001,8,1000)\n",
    "\n",
    "# Use the HARK method derivative to get the derivative of cFunc, and the values are just the MPC\n",
    "MPC = baseEx_inf.cFunc[0].derivative(m)\n",
    "\n",
    "# Define the upper bound of MPC\n",
    "MPCUpper = (1 - baseEx_inf.UnempPrb ** (1.0/baseEx_inf.CRRA)*(baseEx_inf.Rfree*baseEx_inf.DiscFac)**(1.0/baseEx_inf.CRRA)/baseEx_inf.Rfree)\n",
    "\n",
    "# Define the lower bound of MPC\n",
    "MPCLower = k_lower\n",
    "\n",
    "plt.plot(m,MPC,color = 'black')\n",
    "plt.plot([0,8],[MPCUpper,MPCUpper],color = 'black')\n",
    "plt.plot([0,8],[MPCLower,MPCLower],color = 'black')\n",
    "plt.xlim(0,8)\n",
    "plt.ylim(0,1)\n",
    "plt.text(1.5,0.6,r'$\\kappa(m) \\equiv c^{\\prime}(m)$',fontsize = 26,fontweight='bold')\n",
    "plt.text(6,0.87,r'$(1-\\wp^{1/\\rho}\\Phi_{R})\\equiv \\overline{\\kappa}$',fontsize = 26,fontweight='bold')\n",
    "plt.text(0.5,0.07,r'$\\underline{\\kappa}\\equiv(1-\\Phi_{R})$',fontsize = 26,fontweight='bold')\n",
    "plt.text(8.05,0,\"$m$\",fontsize = 26)\n",
    "plt.arrow(1.45,0.61,-0.4,0,head_width= 0.02,width=0.001,facecolor='black',length_includes_head='True')\n",
    "plt.arrow(1.7,0.07,0.2,-0.01,head_width= 0.02,width=0.001,facecolor='black',length_includes_head='True')\n",
    "plt.arrow(5.95,0.875,-0.2,0.03,head_width= 0.02,width=0.001,facecolor='black',length_includes_head='True')\n",
    "if Generator:\n",
    "    plt.savefig(os.path.join(Figures_HARK_dir, 'MPCLimits.png'))\n",
    "    plt.savefig(os.path.join(Figures_HARK_dir, 'MPCLimits.jpg'))\n",
    "    plt.savefig(os.path.join(Figures_HARK_dir, 'MPCLimits.pdf'))\n",
    "    plt.savefig(os.path.join(Figures_HARK_dir, 'MPCLimits.svg'))\n",
    "if not in_ipynb:\n",
    "    plt.show(block=False) \n",
    "else:\n",
    "    plt.show(block=True) # Change to False if you want to run uninterrupted"
   ]
  },
  {
   "cell_type": "markdown",
   "metadata": {
    "colab_type": "text",
    "id": "K5XfXMRlyFZE"
   },
   "source": [
    "# Summary\n",
    "\n",
    "[Two tables in the paper](https://econ.jhu.edu/people/ccarroll/papers/BufferStockTheory/#Sufficient-Conditions-For-Nondegenerate-Solution) summarize the various definitions, and then articulate conditions required for the problem to have a nondegenerate solution.\n",
    "\n",
    "The main other contribution of the paper is to show that, under parametric combinations where the solution is nondegenerate, if the Growth Impatience Condition holds there will be a target level of wealth."
   ]
  }
 ],
 "metadata": {
  "colab": {
   "name": "BufferStockTheory.ipynb",
   "provenance": [],
   "toc_visible": true,
   "version": "0.3.2"
  },
  "jupytext": {
   "formats": "ipynb,py:percent",
   "text_representation": {
    "extension": ".py",
    "format_name": "percent",
    "format_version": "1.1",
    "jupytext_version": "0.8.3"
   }
  },
  "kernelspec": {
   "display_name": "Python 3",
   "language": "python",
   "name": "python3"
  },
  "language_info": {
   "codemirror_mode": {
    "name": "ipython",
    "version": 3
   },
   "file_extension": ".py",
   "mimetype": "text/x-python",
   "name": "python",
   "nbconvert_exporter": "python",
   "pygments_lexer": "ipython3",
   "version": "3.6.7"
  },
  "varInspector": {
   "cols": {
    "lenName": 16,
    "lenType": 16,
    "lenVar": 40
   },
   "kernels_config": {
    "python": {
     "delete_cmd_postfix": "",
     "delete_cmd_prefix": "del ",
     "library": "var_list.py",
     "varRefreshCmd": "print(var_dic_list())"
    },
    "r": {
     "delete_cmd_postfix": ") ",
     "delete_cmd_prefix": "rm(",
     "library": "var_list.r",
     "varRefreshCmd": "cat(var_dic_list()) "
    }
   },
   "types_to_exclude": [
    "module",
    "function",
    "builtin_function_or_method",
    "instance",
    "_Feature"
   ],
   "window_display": false
  }
 },
 "nbformat": 4,
 "nbformat_minor": 1
}
